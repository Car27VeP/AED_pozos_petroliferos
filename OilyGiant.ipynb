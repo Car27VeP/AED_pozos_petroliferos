{
 "cells": [
  {
   "cell_type": "markdown",
   "metadata": {},
   "source": [
    "# Descripción del proyecto."
   ]
  },
  {
   "cell_type": "markdown",
   "metadata": {},
   "source": [
    "Trabajas en la compañía de extracción de petróleo OilyGiant. Tu tarea es encontrar los mejores lugares donde abrir 200 pozos nuevos de petróleo.\n",
    "\n",
    "Para completar esta tarea, tendrás que realizar los siguientes pasos:\n",
    "\n",
    "- Leer los archivos con los parámetros recogidos de pozos petrolíferos en la región seleccionada: calidad de crudo y volumen de reservas.\n",
    "- Crear un modelo para predecir el volumen de reservas en pozos nuevos.\n",
    "- Elegir los pozos petrolíferos que tienen los valores estimados más altos.\n",
    "- Elegir la región con el beneficio total más alto para los pozos petrolíferos seleccionados.\n",
    "\n",
    "Se creará un modelo que ayude a elegir la región con el mayor margen de beneficio. Analiza los beneficios y riesgos potenciales utilizando la técnica *bootstrapping*."
   ]
  },
  {
   "cell_type": "markdown",
   "metadata": {},
   "source": [
    "# Parte 1. Descargar y prerar los datos."
   ]
  },
  {
   "cell_type": "markdown",
   "metadata": {},
   "source": [
    "## 1.1 Librerías."
   ]
  },
  {
   "cell_type": "code",
   "execution_count": 1,
   "metadata": {},
   "outputs": [],
   "source": [
    "import pandas as pd\n",
    "import numpy as np\n",
    "import matplotlib.pyplot as plt\n",
    "import seaborn as sns\n",
    "from sklearn.linear_model import LinearRegression\n",
    "from sklearn.model_selection import train_test_split\n",
    "from sklearn.preprocessing import OrdinalEncoder, StandardScaler\n",
    "from sklearn.metrics import mean_squared_error\n",
    "from scipy.stats import bootstrap, norm\n"
   ]
  },
  {
   "cell_type": "markdown",
   "metadata": {},
   "source": [
    "## 2.2 Carga de datos."
   ]
  },
  {
   "cell_type": "code",
   "execution_count": 2,
   "metadata": {},
   "outputs": [],
   "source": [
    "geo_data_0 = pd.read_csv(\"geo_data_0.csv\")\n",
    "geo_data_1 = pd.read_csv(\"geo_data_1.csv\")\n",
    "geo_data_2 = pd.read_csv(\"geo_data_2.csv\")"
   ]
  },
  {
   "cell_type": "code",
   "execution_count": 3,
   "metadata": {},
   "outputs": [
    {
     "name": "stdout",
     "output_type": "stream",
     "text": [
      "      id        f0        f1        f2     product\n",
      "0  txEyH  0.705745 -0.497823  1.221170  105.280062\n",
      "1  2acmU  1.334711 -0.340164  4.365080   73.037750\n",
      "2  409Wp  1.022732  0.151990  1.419926   85.265647\n",
      "3  iJLyR -0.032172  0.139033  2.978566  168.620776\n",
      "4  Xdl7t  1.988431  0.155413  4.751769  154.036647 \n",
      "\n",
      "      id         f0         f1        f2     product\n",
      "0  kBEdx -15.001348  -8.276000 -0.005876    3.179103\n",
      "1  62mP7  14.272088  -3.475083  0.999183   26.953261\n",
      "2  vyE1P   6.263187  -5.948386  5.001160  134.766305\n",
      "3  KcrkZ -13.081196 -11.506057  4.999415  137.945408\n",
      "4  AHL4O  12.702195  -8.147433  5.004363  134.766305 \n",
      "\n",
      "      id        f0        f1        f2     product\n",
      "0  fwXo0 -1.146987  0.963328 -0.828965   27.758673\n",
      "1  WJtFt  0.262778  0.269839 -2.530187   56.069697\n",
      "2  ovLUW  0.194587  0.289035 -5.586433   62.871910\n",
      "3  q6cA6  2.236060 -0.553760  0.930038  114.572842\n",
      "4  WPMUX -0.515993  1.716266  5.899011  149.600746\n"
     ]
    }
   ],
   "source": [
    "print(geo_data_0.head(),\"\\n\")\n",
    "print(geo_data_1.head(),\"\\n\")\n",
    "print(geo_data_2.head())"
   ]
  },
  {
   "cell_type": "code",
   "execution_count": 4,
   "metadata": {},
   "outputs": [
    {
     "name": "stdout",
     "output_type": "stream",
     "text": [
      "<class 'pandas.core.frame.DataFrame'>\n",
      "RangeIndex: 100000 entries, 0 to 99999\n",
      "Data columns (total 5 columns):\n",
      " #   Column   Non-Null Count   Dtype  \n",
      "---  ------   --------------   -----  \n",
      " 0   id       100000 non-null  object \n",
      " 1   f0       100000 non-null  float64\n",
      " 2   f1       100000 non-null  float64\n",
      " 3   f2       100000 non-null  float64\n",
      " 4   product  100000 non-null  float64\n",
      "dtypes: float64(4), object(1)\n",
      "memory usage: 3.8+ MB\n",
      "None \n",
      "\n",
      "<class 'pandas.core.frame.DataFrame'>\n",
      "RangeIndex: 100000 entries, 0 to 99999\n",
      "Data columns (total 5 columns):\n",
      " #   Column   Non-Null Count   Dtype  \n",
      "---  ------   --------------   -----  \n",
      " 0   id       100000 non-null  object \n",
      " 1   f0       100000 non-null  float64\n",
      " 2   f1       100000 non-null  float64\n",
      " 3   f2       100000 non-null  float64\n",
      " 4   product  100000 non-null  float64\n",
      "dtypes: float64(4), object(1)\n",
      "memory usage: 3.8+ MB\n",
      "None \n",
      "\n",
      "<class 'pandas.core.frame.DataFrame'>\n",
      "RangeIndex: 100000 entries, 0 to 99999\n",
      "Data columns (total 5 columns):\n",
      " #   Column   Non-Null Count   Dtype  \n",
      "---  ------   --------------   -----  \n",
      " 0   id       100000 non-null  object \n",
      " 1   f0       100000 non-null  float64\n",
      " 2   f1       100000 non-null  float64\n",
      " 3   f2       100000 non-null  float64\n",
      " 4   product  100000 non-null  float64\n",
      "dtypes: float64(4), object(1)\n",
      "memory usage: 3.8+ MB\n",
      "None\n"
     ]
    }
   ],
   "source": [
    "print(geo_data_0.info(),\"\\n\")\n",
    "print(geo_data_1.info(),\"\\n\")\n",
    "print(geo_data_2.info())"
   ]
  },
  {
   "cell_type": "code",
   "execution_count": 5,
   "metadata": {},
   "outputs": [
    {
     "name": "stdout",
     "output_type": "stream",
     "text": [
      "            id             f0             f1             f2        product\n",
      "count   100000  100000.000000  100000.000000  100000.000000  100000.000000\n",
      "unique   99990            NaN            NaN            NaN            NaN\n",
      "top      fiKDv            NaN            NaN            NaN            NaN\n",
      "freq         2            NaN            NaN            NaN            NaN\n",
      "mean       NaN       0.500419       0.250143       2.502647      92.500000\n",
      "std        NaN       0.871832       0.504433       3.248248      44.288691\n",
      "min        NaN      -1.408605      -0.848218     -12.088328       0.000000\n",
      "25%        NaN      -0.072580      -0.200881       0.287748      56.497507\n",
      "50%        NaN       0.502360       0.250252       2.515969      91.849972\n",
      "75%        NaN       1.073581       0.700646       4.715088     128.564089\n",
      "max        NaN       2.362331       1.343769      16.003790     185.364347 \n",
      "\n",
      "            id             f0             f1             f2        product\n",
      "count   100000  100000.000000  100000.000000  100000.000000  100000.000000\n",
      "unique   99996            NaN            NaN            NaN            NaN\n",
      "top      wt4Uk            NaN            NaN            NaN            NaN\n",
      "freq         2            NaN            NaN            NaN            NaN\n",
      "mean       NaN       1.141296      -4.796579       2.494541      68.825000\n",
      "std        NaN       8.965932       5.119872       1.703572      45.944423\n",
      "min        NaN     -31.609576     -26.358598      -0.018144       0.000000\n",
      "25%        NaN      -6.298551      -8.267985       1.000021      26.953261\n",
      "50%        NaN       1.153055      -4.813172       2.011479      57.085625\n",
      "75%        NaN       8.621015      -1.332816       3.999904     107.813044\n",
      "max        NaN      29.421755      18.734063       5.019721     137.945408 \n",
      "\n",
      "            id             f0             f1             f2        product\n",
      "count   100000  100000.000000  100000.000000  100000.000000  100000.000000\n",
      "unique   99996            NaN            NaN            NaN            NaN\n",
      "top      VF7Jo            NaN            NaN            NaN            NaN\n",
      "freq         2            NaN            NaN            NaN            NaN\n",
      "mean       NaN       0.002023      -0.002081       2.495128      95.000000\n",
      "std        NaN       1.732045       1.730417       3.473445      44.749921\n",
      "min        NaN      -8.760004      -7.084020     -11.970335       0.000000\n",
      "25%        NaN      -1.162288      -1.174820       0.130359      59.450441\n",
      "50%        NaN       0.009424      -0.009482       2.484236      94.925613\n",
      "75%        NaN       1.158535       1.163678       4.858794     130.595027\n",
      "max        NaN       7.238262       7.844801      16.739402     190.029838\n"
     ]
    }
   ],
   "source": [
    "print(geo_data_0.describe(include='all'),\"\\n\")\n",
    "print(geo_data_1.describe(include='all'),\"\\n\")\n",
    "print(geo_data_2.describe(include='all'))"
   ]
  },
  {
   "cell_type": "code",
   "execution_count": 6,
   "metadata": {},
   "outputs": [
    {
     "data": {
      "image/png": "[encoded data removed]",
      "text/plain": [
       "<Figure size 1400x1000 with 4 Axes>"
      ]
     },
     "metadata": {},
     "output_type": "display_data"
    }
   ],
   "source": [
    "fig, ((ax1, ax2), (ax3, _)) = plt.subplots(2, 2)\n",
    "fig.set_figwidth(14)\n",
    "fig.set_figheight(10)\n",
    "sns.violinplot(ax=ax1,x=geo_data_0['product'])\n",
    "ax1.set_title('Distribución región 1.')\n",
    "sns.violinplot(ax=ax2,x=geo_data_1['product'])\n",
    "ax2.set_title('Distribución región 2.')\n",
    "sns.violinplot(ax=ax3,x=geo_data_2['product'])\n",
    "ax3.set_title('Distribución región 3.')\n",
    "plt.show()"
   ]
  },
  {
   "cell_type": "markdown",
   "metadata": {},
   "source": [
    " Los datos se cargaron se forma existosa. Los 3 conjunto de datos no tiene ningún valor nulo y el tipo de objeto corresponde correctamente a los datos. En la descripción estadítica se obtuvo que hay 99 996 valores únicos, en cada región se repiten 2 pozos (`id`). La región 1 y 3 tiene una distribucipon de lso datos `product` de manera similar, mientras que la región 2 tiene una distribución sesgada hacia la derecha."
   ]
  },
  {
   "cell_type": "markdown",
   "metadata": {},
   "source": [
    "### 2.2.1 Revisar los datos duplicados."
   ]
  },
  {
   "cell_type": "markdown",
   "metadata": {},
   "source": [
    "El dato duplicado en la región 2 es  `fiKDv`."
   ]
  },
  {
   "cell_type": "code",
   "execution_count": 7,
   "metadata": {},
   "outputs": [
    {
     "data": {
      "text/html": [
       "<div>\n",
       "<style scoped>\n",
       "    .dataframe tbody tr th:only-of-type {\n",
       "        vertical-align: middle;\n",
       "    }\n",
       "\n",
       "    .dataframe tbody tr th {\n",
       "        vertical-align: top;\n",
       "    }\n",
       "\n",
       "    .dataframe thead th {\n",
       "        text-align: right;\n",
       "    }\n",
       "</style>\n",
       "<table border=\"1\" class=\"dataframe\">\n",
       "  <thead>\n",
       "    <tr style=\"text-align: right;\">\n",
       "      <th></th>\n",
       "      <th>id</th>\n",
       "      <th>f0</th>\n",
       "      <th>f1</th>\n",
       "      <th>f2</th>\n",
       "      <th>product</th>\n",
       "    </tr>\n",
       "  </thead>\n",
       "  <tbody>\n",
       "    <tr>\n",
       "      <th>16633</th>\n",
       "      <td>fiKDv</td>\n",
       "      <td>0.157341</td>\n",
       "      <td>1.028359</td>\n",
       "      <td>5.585586</td>\n",
       "      <td>95.817889</td>\n",
       "    </tr>\n",
       "    <tr>\n",
       "      <th>90815</th>\n",
       "      <td>fiKDv</td>\n",
       "      <td>0.049883</td>\n",
       "      <td>0.841313</td>\n",
       "      <td>6.394613</td>\n",
       "      <td>137.346586</td>\n",
       "    </tr>\n",
       "  </tbody>\n",
       "</table>\n",
       "</div>"
      ],
      "text/plain": [
       "          id        f0        f1        f2     product\n",
       "16633  fiKDv  0.157341  1.028359  5.585586   95.817889\n",
       "90815  fiKDv  0.049883  0.841313  6.394613  137.346586"
      ]
     },
     "execution_count": 7,
     "metadata": {},
     "output_type": "execute_result"
    }
   ],
   "source": [
    "geo_data_0.query(\"id == 'fiKDv'\")"
   ]
  },
  {
   "cell_type": "markdown",
   "metadata": {},
   "source": [
    "El dato duplicado en la región 2 es `wt4Uk`."
   ]
  },
  {
   "cell_type": "code",
   "execution_count": 8,
   "metadata": {},
   "outputs": [
    {
     "data": {
      "text/html": [
       "<div>\n",
       "<style scoped>\n",
       "    .dataframe tbody tr th:only-of-type {\n",
       "        vertical-align: middle;\n",
       "    }\n",
       "\n",
       "    .dataframe tbody tr th {\n",
       "        vertical-align: top;\n",
       "    }\n",
       "\n",
       "    .dataframe thead th {\n",
       "        text-align: right;\n",
       "    }\n",
       "</style>\n",
       "<table border=\"1\" class=\"dataframe\">\n",
       "  <thead>\n",
       "    <tr style=\"text-align: right;\">\n",
       "      <th></th>\n",
       "      <th>id</th>\n",
       "      <th>f0</th>\n",
       "      <th>f1</th>\n",
       "      <th>f2</th>\n",
       "      <th>product</th>\n",
       "    </tr>\n",
       "  </thead>\n",
       "  <tbody>\n",
       "    <tr>\n",
       "      <th>47591</th>\n",
       "      <td>wt4Uk</td>\n",
       "      <td>-9.091098</td>\n",
       "      <td>-8.109279</td>\n",
       "      <td>-0.002314</td>\n",
       "      <td>3.179103</td>\n",
       "    </tr>\n",
       "    <tr>\n",
       "      <th>82873</th>\n",
       "      <td>wt4Uk</td>\n",
       "      <td>10.259972</td>\n",
       "      <td>-9.376355</td>\n",
       "      <td>4.994297</td>\n",
       "      <td>134.766305</td>\n",
       "    </tr>\n",
       "  </tbody>\n",
       "</table>\n",
       "</div>"
      ],
      "text/plain": [
       "          id         f0        f1        f2     product\n",
       "47591  wt4Uk  -9.091098 -8.109279 -0.002314    3.179103\n",
       "82873  wt4Uk  10.259972 -9.376355  4.994297  134.766305"
      ]
     },
     "execution_count": 8,
     "metadata": {},
     "output_type": "execute_result"
    }
   ],
   "source": [
    "geo_data_1.query(\"id == 'wt4Uk'\")"
   ]
  },
  {
   "cell_type": "markdown",
   "metadata": {},
   "source": [
    "Los datos duplicados en la región 3 son `VF7Jo`."
   ]
  },
  {
   "cell_type": "code",
   "execution_count": 9,
   "metadata": {},
   "outputs": [
    {
     "data": {
      "text/html": [
       "<div>\n",
       "<style scoped>\n",
       "    .dataframe tbody tr th:only-of-type {\n",
       "        vertical-align: middle;\n",
       "    }\n",
       "\n",
       "    .dataframe tbody tr th {\n",
       "        vertical-align: top;\n",
       "    }\n",
       "\n",
       "    .dataframe thead th {\n",
       "        text-align: right;\n",
       "    }\n",
       "</style>\n",
       "<table border=\"1\" class=\"dataframe\">\n",
       "  <thead>\n",
       "    <tr style=\"text-align: right;\">\n",
       "      <th></th>\n",
       "      <th>id</th>\n",
       "      <th>f0</th>\n",
       "      <th>f1</th>\n",
       "      <th>f2</th>\n",
       "      <th>product</th>\n",
       "    </tr>\n",
       "  </thead>\n",
       "  <tbody>\n",
       "    <tr>\n",
       "      <th>11449</th>\n",
       "      <td>VF7Jo</td>\n",
       "      <td>2.122656</td>\n",
       "      <td>-0.858275</td>\n",
       "      <td>5.746001</td>\n",
       "      <td>181.716817</td>\n",
       "    </tr>\n",
       "    <tr>\n",
       "      <th>49564</th>\n",
       "      <td>VF7Jo</td>\n",
       "      <td>-0.883115</td>\n",
       "      <td>0.560537</td>\n",
       "      <td>0.723601</td>\n",
       "      <td>136.233420</td>\n",
       "    </tr>\n",
       "  </tbody>\n",
       "</table>\n",
       "</div>"
      ],
      "text/plain": [
       "          id        f0        f1        f2     product\n",
       "11449  VF7Jo  2.122656 -0.858275  5.746001  181.716817\n",
       "49564  VF7Jo -0.883115  0.560537  0.723601  136.233420"
      ]
     },
     "execution_count": 9,
     "metadata": {},
     "output_type": "execute_result"
    }
   ],
   "source": [
    "geo_data_2.query(\"id == 'VF7Jo'\")"
   ]
  },
  {
   "cell_type": "markdown",
   "metadata": {},
   "source": [
    "A pesar de que tinen el mimso `id` en los 3 conjunto de datos, tienen diferentes registros."
   ]
  },
  {
   "cell_type": "markdown",
   "metadata": {},
   "source": [
    "# Parte 2. Entrenamiento y prueba del modelo"
   ]
  },
  {
   "cell_type": "markdown",
   "metadata": {},
   "source": [
    "En este siguiente paso se entranará y se probará el modelopara cada región en el conjunto de datos `geo_data_0`. Se dividirá en el conjunto de datos en conjunto de entranmeinto y prueba en el proporción de 75:25. El modelo a entrenar será una regresión lineal y se revisará el calidad del mismo. Se colocarán los pasos previos en una función para el conjunto de datos `geo_data_1` y `geo_data_2`."
   ]
  },
  {
   "cell_type": "markdown",
   "metadata": {},
   "source": [
    "## 2.1. Dividir el conjunto de datos."
   ]
  },
  {
   "cell_type": "markdown",
   "metadata": {},
   "source": [
    "No se toma en cuenta la columna `id` para entranr el modelo debido a la acción que va tomar el modelo de aprenderse la caraterísticas de memoria."
   ]
  },
  {
   "cell_type": "code",
   "execution_count": 10,
   "metadata": {},
   "outputs": [
    {
     "name": "stdout",
     "output_type": "stream",
     "text": [
      "(75000, 3)\n",
      "(25000, 3)\n",
      "(75000,)\n",
      "(25000,)\n"
     ]
    }
   ],
   "source": [
    "X = geo_data_0[['f0','f1','f2']]\n",
    "y = geo_data_0['product']\n",
    "\n",
    "X_train, X_test, y_train, y_test = train_test_split(X,\n",
    "                                                    y,\n",
    "                                                    test_size=0.25, random_state=42)\n",
    "\n",
    "print(X_train.shape)\n",
    "print(X_test.shape)\n",
    "print(y_train.shape)\n",
    "print(y_test.shape)"
   ]
  },
  {
   "cell_type": "markdown",
   "metadata": {},
   "source": [
    "## 2.2. Escalamiento de datos."
   ]
  },
  {
   "cell_type": "code",
   "execution_count": 11,
   "metadata": {},
   "outputs": [],
   "source": [
    "scaler = StandardScaler()\n",
    "X_train_scaled = pd.DataFrame(data=scaler.fit_transform(X_train),columns=X_train.columns)\n",
    "X_test_scaled = pd.DataFrame(data=scaler.fit_transform(X_test),columns=X_test.columns)"
   ]
  },
  {
   "cell_type": "code",
   "execution_count": 12,
   "metadata": {},
   "outputs": [
    {
     "name": "stdout",
     "output_type": "stream",
     "text": [
      "             f0        f1        f2\n",
      "0      1.274786 -0.799739 -0.396677\n",
      "1     -1.600689  0.234678 -2.169283\n",
      "2     -0.323791  1.436297  1.495425\n",
      "3      0.439038  0.830679  0.185881\n",
      "4     -1.652805  0.761012  0.111734\n",
      "...         ...       ...       ...\n",
      "74995  1.291452 -0.712129  0.135573\n",
      "74996  1.355542 -0.882161 -1.134411\n",
      "74997  0.549229 -1.591632  0.119090\n",
      "74998  0.175176 -1.459344  1.429524\n",
      "74999  1.029803 -1.420625 -0.149459\n",
      "\n",
      "[75000 rows x 3 columns]\n",
      "             f0        f1        f2\n",
      "0      0.112101 -1.589321 -0.110233\n",
      "1      0.272610 -1.402931 -1.179141\n",
      "2      1.057993 -1.544522  0.382073\n",
      "3      1.238912 -0.959586  0.100531\n",
      "4      0.479323 -0.441815  0.036875\n",
      "...         ...       ...       ...\n",
      "24995  0.290564 -1.499725  0.040633\n",
      "24996 -0.647567  0.530756 -0.543723\n",
      "24997  0.105767 -1.328161 -0.925665\n",
      "24998 -0.348606  0.406562 -0.302406\n",
      "24999 -0.859695  1.509676  0.677737\n",
      "\n",
      "[25000 rows x 3 columns]\n"
     ]
    }
   ],
   "source": [
    "print(X_train_scaled)\n",
    "print(X_test_scaled)"
   ]
  },
  {
   "cell_type": "markdown",
   "metadata": {},
   "source": [
    "## 2.3 Entrenamiento y calidad del modelo."
   ]
  },
  {
   "cell_type": "markdown",
   "metadata": {},
   "source": [
    "### 2.3.1. Región 1."
   ]
  },
  {
   "cell_type": "code",
   "execution_count": 13,
   "metadata": {},
   "outputs": [],
   "source": [
    "model = LinearRegression()\n",
    "model.fit(X_train_scaled,y_train)\n",
    "y_pred = model.predict(X_test)"
   ]
  },
  {
   "cell_type": "code",
   "execution_count": 14,
   "metadata": {},
   "outputs": [],
   "source": [
    "mse = mean_squared_error(y_test,y_pred)\n",
    "rmse = mse**0.5"
   ]
  },
  {
   "cell_type": "code",
   "execution_count": 15,
   "metadata": {},
   "outputs": [
    {
     "name": "stdout",
     "output_type": "stream",
     "text": [
      "Volumen medio de reservas predicho: 92.32595637084387\n",
      "\n",
      "RMSE del modelo en el conjunto de prueba: 81.11662851393159\n"
     ]
    }
   ],
   "source": [
    "print(\"Volumen medio de reservas predicho:\", y_test.mean())\n",
    "print('\\nRMSE del modelo en el conjunto de prueba:', rmse)"
   ]
  },
  {
   "cell_type": "markdown",
   "metadata": {},
   "source": [
    "La RECM nos indica que en promedio nuetras predicciones erran por ~ 81 117 barriles. Parece mucho pero es aceptable para un modelo que siempre responde con el valor debajo de la media, dado que la región con más reservas de barriles llegan a más de 185 mil."
   ]
  },
  {
   "cell_type": "markdown",
   "metadata": {},
   "source": [
    "### 2.3.2 Preparar la función."
   ]
  },
  {
   "cell_type": "code",
   "execution_count": 16,
   "metadata": {},
   "outputs": [],
   "source": [
    "def rmse_L_Regression(data):\n",
    "    features = data[['f0','f1','f2']]\n",
    "    target = data['product']\n",
    "    X_train, X_test, y_train, y_test = train_test_split(features,\n",
    "                                                    target,\n",
    "                                                    test_size=0.25, random_state=42)\n",
    "    scaler = StandardScaler()\n",
    "    X_train_scaled = pd.DataFrame(data=scaler.fit_transform(X_train),columns=features.columns)\n",
    "    X_test_scaled = pd.DataFrame(data=scaler.fit_transform(X_test),columns=features.columns)\n",
    "    model = LinearRegression()\n",
    "    model.fit(X_train_scaled,y_train)\n",
    "    y_pred = model.predict(X_test_scaled)\n",
    "    rmse = mean_squared_error(y_test,y_pred) ** 0.5\n",
    "    print(\"Volumen medio de reservas predicho:\", y_test.mean())\n",
    "    print('\\nRMSE del modelo en el conjunto de prueba:', rmse)"
   ]
  },
  {
   "cell_type": "markdown",
   "metadata": {},
   "source": [
    "### 2.3.3 Región 2."
   ]
  },
  {
   "cell_type": "code",
   "execution_count": 17,
   "metadata": {},
   "outputs": [
    {
     "name": "stdout",
     "output_type": "stream",
     "text": [
      "Volumen medio de reservas predicho: 68.72538074722745\n",
      "\n",
      "RMSE del modelo en el conjunto de prueba: 0.8999970499802324\n"
     ]
    }
   ],
   "source": [
    "rmse_L_Regression(geo_data_1)"
   ]
  },
  {
   "cell_type": "markdown",
   "metadata": {},
   "source": [
    "El RMSE indica en nuetras predicciones erran unos ~900 barriles. Bastante bien para este conjunto de datos."
   ]
  },
  {
   "cell_type": "markdown",
   "metadata": {},
   "source": [
    "### 2.3.4 Región 3"
   ]
  },
  {
   "cell_type": "code",
   "execution_count": 18,
   "metadata": {},
   "outputs": [
    {
     "name": "stdout",
     "output_type": "stream",
     "text": [
      "Volumen medio de reservas predicho: 95.15099907171961\n",
      "\n",
      "RMSE del modelo en el conjunto de prueba: 40.1447439796432\n"
     ]
    }
   ],
   "source": [
    "rmse_L_Regression(geo_data_2)"
   ]
  },
  {
   "cell_type": "markdown",
   "metadata": {},
   "source": [
    "El RMSE indica que las predicciones de la región 3 tienen en error medio de 40 mil barriles."
   ]
  },
  {
   "cell_type": "markdown",
   "metadata": {},
   "source": [
    "# Parte 3. Preparar cálculo de ganancias."
   ]
  },
  {
   "cell_type": "markdown",
   "metadata": {},
   "source": [
    "El presupuesto para el desarrollo de 200 pozos petroleros es de 100 millones de dólares. Dicho esto, de media un pozo petrolífero debe producir al menos un valor de 500,000 dólares en unidades para evitar pérdidas (esto es equivalente a 111.1 unidades). Se comparó esta cantidad con la cantidad media de reservas en cada región."
   ]
  },
  {
   "cell_type": "code",
   "execution_count": 19,
   "metadata": {},
   "outputs": [],
   "source": [
    "presupuesto = 100_000_000\n",
    "cantidad_pozos = 200\n",
    "ingresos_barril = 4_500\n",
    "lucro_minimo_unidades = 111.1"
   ]
  },
  {
   "cell_type": "markdown",
   "metadata": {},
   "source": [
    "### 3.1 Cantidad media de barriles y ganancias en cada región."
   ]
  },
  {
   "cell_type": "code",
   "execution_count": 20,
   "metadata": {},
   "outputs": [
    {
     "name": "stdout",
     "output_type": "stream",
     "text": [
      "Región 1:\n",
      "\n",
      "Unidades de barriles producidos en promedio: 92.50\n",
      "\n",
      "Ganancias en USD: 416250.00\n"
     ]
    }
   ],
   "source": [
    "barril_r1_mean =  geo_data_0['product'].mean()\n",
    "ingresos_r1 = barril_r1_mean * ingresos_barril\n",
    "print(\"Región 1:\\n\")\n",
    "print(f\"Unidades de barriles producidos en promedio: {barril_r1_mean:.2f}\\n\")\n",
    "print(f\"Ganancias en USD: {ingresos_r1:.2f}\")"
   ]
  },
  {
   "cell_type": "code",
   "execution_count": 21,
   "metadata": {},
   "outputs": [
    {
     "name": "stdout",
     "output_type": "stream",
     "text": [
      "Región 2:\n",
      "\n",
      "Unidades de barriles producidos en promedio: 68.83\n",
      "\n",
      "Ganancias en USD: 309712.50\n"
     ]
    }
   ],
   "source": [
    "barril_r2_mean =  geo_data_1['product'].mean()\n",
    "ingresos_r2 = barril_r2_mean * ingresos_barril\n",
    "print(\"Región 2:\\n\")\n",
    "print(f\"Unidades de barriles producidos en promedio: {barril_r2_mean:.2f}\\n\")\n",
    "print(f\"Ganancias en USD: {ingresos_r2:.2f}\")"
   ]
  },
  {
   "cell_type": "code",
   "execution_count": 22,
   "metadata": {},
   "outputs": [
    {
     "name": "stdout",
     "output_type": "stream",
     "text": [
      "Región 3:\n",
      "\n",
      "Unidades de barriles producidos en promedio: 95.00\n",
      "\n",
      "Ganancias en USD: 427500.00\n"
     ]
    }
   ],
   "source": [
    "barril_r3_mean =  geo_data_2['product'].mean()\n",
    "ingresos_r3 = barril_r3_mean * ingresos_barril\n",
    "print(\"Región 3:\\n\")\n",
    "print(f\"Unidades de barriles producidos en promedio: {barril_r3_mean:.2f}\\n\")\n",
    "print(f\"Ganancias en USD: {ingresos_r3:.2f}\")"
   ]
  },
  {
   "cell_type": "markdown",
   "metadata": {},
   "source": [
    "Ninguna de las regiones llega a la unidades de 111.1 barriles o 500 000 dólares."
   ]
  },
  {
   "cell_type": "markdown",
   "metadata": {},
   "source": [
    "# Parte 4. Escribe una función para calcular la ganancia de un conjunto de pozos de petróleo seleccionados y modela las predicciones"
   ]
  },
  {
   "cell_type": "markdown",
   "metadata": {},
   "source": [
    "### 4.1 Elige los 200 pozos con los valores de predicción más altos de cada una de las 3 regiones."
   ]
  },
  {
   "cell_type": "code",
   "execution_count": 23,
   "metadata": {},
   "outputs": [],
   "source": [
    "def valores_mas_altos(data):\n",
    "    X = data[['f0','f1','f2']]\n",
    "    y = data['product']\n",
    "    \n",
    "    X_train, X_test, y_train, y_test = train_test_split(X,\n",
    "                                                    y,\n",
    "                                                    test_size=0.25, random_state=42)\n",
    "    \n",
    "    model = LinearRegression()\n",
    "    model.fit(X_train,y_train)\n",
    "    \n",
    "    prediction = pd.Series(model.predict(X_test))\n",
    "    X_test = X_test.reset_index(drop=True)\n",
    "    \n",
    "    prediction.name = 'prediction'\n",
    "    \n",
    "    region = X_test.join(prediction)\n",
    "    indice = region['prediction'].nlargest(200).index\n",
    "    region_200 = region.iloc[indice,:]\n",
    "    return region_200\n",
    "    "
   ]
  },
  {
   "cell_type": "code",
   "execution_count": 24,
   "metadata": {},
   "outputs": [
    {
     "name": "stdout",
     "output_type": "stream",
     "text": [
      "Región 1:\n",
      "\n",
      "Unidades de barriles producidos en promedio: 154.41\n",
      "\n",
      "Ganancias en USD: 694832.92\n"
     ]
    }
   ],
   "source": [
    "print(\"Región 1:\\n\")\n",
    "print(f\"Unidades de barriles producidos en promedio: {valores_mas_altos(geo_data_0)['prediction'].mean():.2f}\\n\")\n",
    "print(f\"Ganancias en USD: {valores_mas_altos(geo_data_0)['prediction'].mean()*ingresos_barril:.2f}\")"
   ]
  },
  {
   "cell_type": "code",
   "execution_count": 25,
   "metadata": {},
   "outputs": [
    {
     "name": "stdout",
     "output_type": "stream",
     "text": [
      "Región 2:\n",
      "\n",
      "Unidades de barriles producidos en promedio: 138.74\n",
      "\n",
      "Ganancias en USD: 624346.91\n"
     ]
    }
   ],
   "source": [
    "print(\"Región 2:\\n\")\n",
    "print(f\"Unidades de barriles producidos en promedio: {valores_mas_altos(geo_data_1)['prediction'].mean():.2f}\\n\")\n",
    "print(f\"Ganancias en USD: {valores_mas_altos(geo_data_1)['prediction'].mean()*ingresos_barril:.2f}\")"
   ]
  },
  {
   "cell_type": "code",
   "execution_count": 26,
   "metadata": {},
   "outputs": [
    {
     "name": "stdout",
     "output_type": "stream",
     "text": [
      "Región 3:\n",
      "\n",
      "Unidades de barriles producidos en promedio: 148.64\n",
      "\n",
      "Ganancias en USD: 668899.08\n"
     ]
    }
   ],
   "source": [
    "print(\"Región 3:\\n\")\n",
    "print(f\"Unidades de barriles producidos en promedio: {valores_mas_altos(geo_data_2)['prediction'].mean():.2f}\\n\")\n",
    "print(f\"Ganancias en USD: {valores_mas_altos(geo_data_2)['prediction'].mean()*ingresos_barril:.2f}\")"
   ]
  },
  {
   "cell_type": "markdown",
   "metadata": {},
   "source": [
    "Calculando la predicción de las 200 pozos de las 3 regiones, se propone la región 1 para el desarrollo de pozos petrolíferos ya que la ganancia sería de 694 832.92 USD. Computing the prediction of the top 200 wells with the highets barrels production in each region, we selected the region 1 for the development of oil wells as the profit would be up to 694 832.92 dollars."
   ]
  },
  {
   "cell_type": "markdown",
   "metadata": {},
   "source": [
    "# Parte 5. Riesgos y ganancias de cada región."
   ]
  },
  {
   "cell_type": "markdown",
   "metadata": {},
   "source": [
    "## 5.1. Utilizando las predicciones que almacenaste en el paso 4.1, emplea la técnica del bootstrapping con 1000 muestras para hallar la distribución de los beneficios."
   ]
  },
  {
   "cell_type": "code",
   "execution_count": 27,
   "metadata": {},
   "outputs": [],
   "source": [
    "main_wells = valores_mas_altos(geo_data_0).reset_index(drop=True)"
   ]
  },
  {
   "cell_type": "code",
   "execution_count": 28,
   "metadata": {},
   "outputs": [],
   "source": [
    "def distribution(data,title=''):    \n",
    "    data = (data['prediction']*ingresos_barril,)\n",
    "\n",
    "    fig, ax = plt.subplots()\n",
    "\n",
    "    ax.hist(bootstrap(data,statistic=np.mean,n_resamples=1000,random_state=12345).bootstrap_distribution,bins=25,)\n",
    "    ax.set_title(title)\n",
    "    ax.set_ylabel('Frequency')\n",
    "    ax.set_xlabel('USD.')\n",
    "\n",
    "    fig.set_figwidth(8)\n",
    "    fig.set_figheight(4)\n",
    "\n",
    "    plt.show()"
   ]
  },
  {
   "cell_type": "code",
   "execution_count": 54,
   "metadata": {},
   "outputs": [
    {
     "data": {
      "image/png": "[encoded data removed]",
      "text/plain": [
       "<Figure size 800x400 with 1 Axes>"
      ]
     },
     "metadata": {},
     "output_type": "display_data"
    },
    {
     "data": {
      "image/png": "[encoded data removed]",
      "text/plain": [
       "<Figure size 800x400 with 1 Axes>"
      ]
     },
     "metadata": {},
     "output_type": "display_data"
    },
    {
     "data": {
      "image/png": "[encoded data removed]",
      "text/plain": [
       "<Figure size 800x400 with 1 Axes>"
      ]
     },
     "metadata": {},
     "output_type": "display_data"
    }
   ],
   "source": [
    "distribution(valores_mas_altos(geo_data_0).reset_index(drop=True),'Distribución de los beneficios región 1')\n",
    "\n",
    "distribution(valores_mas_altos(geo_data_1).reset_index(drop=True),'Distribución de los beneficios región 2')\n",
    "\n",
    "distribution(valores_mas_altos(geo_data_2).reset_index(drop=True),'Distribución de los beneficios región 3')"
   ]
  },
  {
   "cell_type": "markdown",
   "metadata": {},
   "source": [
    "## 5.2 Encuentra el beneficio promedio, el intervalo de confianza del 95% y el riesgo de pérdidas. La pérdida es una ganancia negativa, calcúlala como una probabilidad y luego exprésala como un porcentaje."
   ]
  },
  {
   "cell_type": "code",
   "execution_count": 35,
   "metadata": {},
   "outputs": [],
   "source": [
    "def intervalo_confianza(data):\n",
    "    state =  np.random.RandomState(12345)\n",
    "\n",
    "    values = []\n",
    "\n",
    "    for i in range(1000):\n",
    "        beneficios = valores_mas_altos(data).reset_index(drop=True)['prediction']*ingresos_barril\n",
    "        subsample = beneficios.sample(frac=1, replace=True, random_state = state)\n",
    "        values.append(subsample.mean())\n",
    "        \n",
    "    values = pd.Series(values)\n",
    "\n",
    "    lower = values.quantile(0.025)\n",
    "    upper = values.quantile(0.975)\n",
    "\n",
    "    return lower, upper"
   ]
  },
  {
   "cell_type": "code",
   "execution_count": 36,
   "metadata": {},
   "outputs": [
    {
     "name": "stdout",
     "output_type": "stream",
     "text": [
      "Intervalor de confianza en la región 1: (690402.840024848, 699144.5616102458)\n",
      "\n",
      "Intervalor de confianza en la región 2: (624161.5044639399, 624529.989130276)\n",
      "\n",
      "Intervalor de confianza en la región 3: (665455.3524220987, 672313.7764078513)\n"
     ]
    }
   ],
   "source": [
    "print(f\"Intervalor de confianza en la región 1: {intervalo_confianza(geo_data_0)}\\n\")\n",
    "print(f\"Intervalor de confianza en la región 2: {intervalo_confianza(geo_data_1)}\\n\")\n",
    "print(f\"Intervalor de confianza en la región 3: {intervalo_confianza(geo_data_2)}\")"
   ]
  },
  {
   "cell_type": "code",
   "execution_count": 45,
   "metadata": {},
   "outputs": [],
   "source": [
    "def ROI(benefecio_neto,inversion):\n",
    "    return str((benefecio_neto - inversion)/inversion * 100) + ' %'"
   ]
  },
  {
   "cell_type": "code",
   "execution_count": 53,
   "metadata": {},
   "outputs": [
    {
     "name": "stdout",
     "output_type": "stream",
     "text": [
      "Probabilidad de pérdidas en la región 1: -99.99984559268356 %\n",
      "Probabilidad de pérdidas en la región 2: -99.99986125624318 %\n",
      "Porbalilidad de pérdidas en la región 3: -99.99985135576097 %\n"
     ]
    }
   ],
   "source": [
    "beneficio_neto_region_1 = valores_mas_altos(geo_data_0)['prediction'].mean()\n",
    "beneficio_neto_region_2 = valores_mas_altos(geo_data_1)['prediction'].mean()\n",
    "beneficio_neto_region_3 = valores_mas_altos(geo_data_2)['prediction'].mean()\n",
    "\n",
    "print(f\"Probabilidad de pérdidas en la región 1: {ROI(beneficio_neto_region_1,presupuesto)}\")\n",
    "print(f\"Probabilidad de pérdidas en la región 2: {ROI(beneficio_neto_region_2,presupuesto)}\")\n",
    "print(f\"Porbalilidad de pérdidas en la región 3: {ROI(beneficio_neto_region_3,presupuesto)}\")"
   ]
  },
  {
   "cell_type": "markdown",
   "metadata": {},
   "source": [
    "## 5.3 Presenta tus conclusiones: propón una región para el desarrollo de pozos petrolíferos y justifica tu elección. ¿Coincide tu elección con la elección anterior en el punto 4.3?"
   ]
  },
  {
   "cell_type": "markdown",
   "metadata": {},
   "source": [
    "Se propone la región 1 para el desarrollo. En el paso **4.1** obtuvimos que la región con los mejores 200 pozos con mejor ganancia es la región 1. En el paso **5.1**, su distribución obtuvimos, haciendo bootstraping, que los beneficios en promedio están entre los 694 mil y 696 mil USD. Y sus pérdidas son de **-99.99 %** como la región 2 y 3."
   ]
  }
 ],
 "metadata": {
  "kernelspec": {
   "display_name": "Python 3",
   "language": "python",
   "name": "python3"
  },
  "language_info": {
   "codemirror_mode": {
    "name": "ipython",
    "version": 3
   },
   "file_extension": ".py",
   "mimetype": "text/x-python",
   "name": "python",
   "nbconvert_exporter": "python",
   "pygments_lexer": "ipython3",
   "version": "3.11.8"
  }
 },
 "nbformat": 4,
 "nbformat_minor": 2
}
