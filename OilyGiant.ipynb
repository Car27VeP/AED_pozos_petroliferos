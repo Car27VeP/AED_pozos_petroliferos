{
 "cells": [
  {
   "cell_type": "markdown",
   "metadata": {},
   "source": [
    "# Descripción del proyecto."
   ]
  },
  {
   "cell_type": "markdown",
   "metadata": {},
   "source": [
    "Trabajas en la compañía de extracción de petróleo OilyGiant. Tu tarea es encontrar los mejores lugares donde abrir 200 pozos nuevos de petróleo.\n",
    "\n",
    "Para completar esta tarea, tendrás que realizar los siguientes pasos:\n",
    "\n",
    "- Leer los archivos con los parámetros recogidos de pozos petrolíferos en la región seleccionada: calidad de crudo y volumen de reservas.\n",
    "- Crear un modelo para predecir el volumen de reservas en pozos nuevos.\n",
    "- Elegir los pozos petrolíferos que tienen los valores estimados más altos.\n",
    "- Elegir la región con el beneficio total más alto para los pozos petrolíferos seleccionados.\n",
    "\n",
    "Se creará un modelo que ayude a elegir la región con el mayor margen de beneficio. Analiza los beneficios y riesgos potenciales utilizando la técnica *bootstrapping*."
   ]
  },
  {
   "cell_type": "markdown",
   "metadata": {},
   "source": [
    "# Parte 1. Descargar y prerar los datos."
   ]
  },
  {
   "cell_type": "markdown",
   "metadata": {},
   "source": [
    "## 1.1 Librerías."
   ]
  },
  {
   "cell_type": "code",
   "execution_count": 1,
   "metadata": {},
   "outputs": [],
   "source": [
    "import pandas as pd\n",
    "import numpy as np\n",
    "import matplotlib.pyplot as plt\n",
    "import seaborn as sns\n",
    "from sklearn.linear_model import LinearRegression\n",
    "from sklearn.model_selection import train_test_split\n",
    "from sklearn.preprocessing import OrdinalEncoder, StandardScaler\n",
    "from sklearn.metrics import mean_squared_error\n",
    "from scipy.stats import bootstrap, norm\n"
   ]
  },
  {
   "cell_type": "markdown",
   "metadata": {},
   "source": [
    "## 2.2 Carga de datos."
   ]
  },
  {
   "cell_type": "code",
   "execution_count": 2,
   "metadata": {},
   "outputs": [],
   "source": [
    "geo_data_0 = pd.read_csv(\"geo_data_0.csv\")\n",
    "geo_data_1 = pd.read_csv(\"geo_data_1.csv\")\n",
    "geo_data_2 = pd.read_csv(\"geo_data_2.csv\")"
   ]
  },
  {
   "cell_type": "code",
   "execution_count": 3,
   "metadata": {
    "scrolled": true
   },
   "outputs": [
    {
     "name": "stdout",
     "output_type": "stream",
     "text": [
      "      id        f0        f1        f2     product\n",
      "0  txEyH  0.705745 -0.497823  1.221170  105.280062\n",
      "1  2acmU  1.334711 -0.340164  4.365080   73.037750\n",
      "2  409Wp  1.022732  0.151990  1.419926   85.265647\n",
      "3  iJLyR -0.032172  0.139033  2.978566  168.620776\n",
      "4  Xdl7t  1.988431  0.155413  4.751769  154.036647 \n",
      "\n",
      "      id         f0         f1        f2     product\n",
      "0  kBEdx -15.001348  -8.276000 -0.005876    3.179103\n",
      "1  62mP7  14.272088  -3.475083  0.999183   26.953261\n",
      "2  vyE1P   6.263187  -5.948386  5.001160  134.766305\n",
      "3  KcrkZ -13.081196 -11.506057  4.999415  137.945408\n",
      "4  AHL4O  12.702195  -8.147433  5.004363  134.766305 \n",
      "\n",
      "      id        f0        f1        f2     product\n",
      "0  fwXo0 -1.146987  0.963328 -0.828965   27.758673\n",
      "1  WJtFt  0.262778  0.269839 -2.530187   56.069697\n",
      "2  ovLUW  0.194587  0.289035 -5.586433   62.871910\n",
      "3  q6cA6  2.236060 -0.553760  0.930038  114.572842\n",
      "4  WPMUX -0.515993  1.716266  5.899011  149.600746\n"
     ]
    }
   ],
   "source": [
    "print(geo_data_0.head(),\"\\n\")\n",
    "print(geo_data_1.head(),\"\\n\")\n",
    "print(geo_data_2.head())"
   ]
  },
  {
   "cell_type": "code",
   "execution_count": 4,
   "metadata": {
    "scrolled": true
   },
   "outputs": [
    {
     "name": "stdout",
     "output_type": "stream",
     "text": [
      "<class 'pandas.core.frame.DataFrame'>\n",
      "RangeIndex: 100000 entries, 0 to 99999\n",
      "Data columns (total 5 columns):\n",
      " #   Column   Non-Null Count   Dtype  \n",
      "---  ------   --------------   -----  \n",
      " 0   id       100000 non-null  object \n",
      " 1   f0       100000 non-null  float64\n",
      " 2   f1       100000 non-null  float64\n",
      " 3   f2       100000 non-null  float64\n",
      " 4   product  100000 non-null  float64\n",
      "dtypes: float64(4), object(1)\n",
      "memory usage: 3.8+ MB\n",
      "None \n",
      "\n",
      "<class 'pandas.core.frame.DataFrame'>\n",
      "RangeIndex: 100000 entries, 0 to 99999\n",
      "Data columns (total 5 columns):\n",
      " #   Column   Non-Null Count   Dtype  \n",
      "---  ------   --------------   -----  \n",
      " 0   id       100000 non-null  object \n",
      " 1   f0       100000 non-null  float64\n",
      " 2   f1       100000 non-null  float64\n",
      " 3   f2       100000 non-null  float64\n",
      " 4   product  100000 non-null  float64\n",
      "dtypes: float64(4), object(1)\n",
      "memory usage: 3.8+ MB\n",
      "None \n",
      "\n",
      "<class 'pandas.core.frame.DataFrame'>\n",
      "RangeIndex: 100000 entries, 0 to 99999\n",
      "Data columns (total 5 columns):\n",
      " #   Column   Non-Null Count   Dtype  \n",
      "---  ------   --------------   -----  \n",
      " 0   id       100000 non-null  object \n",
      " 1   f0       100000 non-null  float64\n",
      " 2   f1       100000 non-null  float64\n",
      " 3   f2       100000 non-null  float64\n",
      " 4   product  100000 non-null  float64\n",
      "dtypes: float64(4), object(1)\n",
      "memory usage: 3.8+ MB\n",
      "None\n"
     ]
    }
   ],
   "source": [
    "print(geo_data_0.info(),\"\\n\")\n",
    "print(geo_data_1.info(),\"\\n\")\n",
    "print(geo_data_2.info())"
   ]
  },
  {
   "cell_type": "code",
   "execution_count": 5,
   "metadata": {
    "scrolled": true
   },
   "outputs": [
    {
     "name": "stdout",
     "output_type": "stream",
     "text": [
      "            id             f0             f1             f2        product\n",
      "count   100000  100000.000000  100000.000000  100000.000000  100000.000000\n",
      "unique   99990            NaN            NaN            NaN            NaN\n",
      "top      fiKDv            NaN            NaN            NaN            NaN\n",
      "freq         2            NaN            NaN            NaN            NaN\n",
      "mean       NaN       0.500419       0.250143       2.502647      92.500000\n",
      "std        NaN       0.871832       0.504433       3.248248      44.288691\n",
      "min        NaN      -1.408605      -0.848218     -12.088328       0.000000\n",
      "25%        NaN      -0.072580      -0.200881       0.287748      56.497507\n",
      "50%        NaN       0.502360       0.250252       2.515969      91.849972\n",
      "75%        NaN       1.073581       0.700646       4.715088     128.564089\n",
      "max        NaN       2.362331       1.343769      16.003790     185.364347 \n",
      "\n",
      "            id             f0             f1             f2        product\n",
      "count   100000  100000.000000  100000.000000  100000.000000  100000.000000\n",
      "unique   99996            NaN            NaN            NaN            NaN\n",
      "top      wt4Uk            NaN            NaN            NaN            NaN\n",
      "freq         2            NaN            NaN            NaN            NaN\n",
      "mean       NaN       1.141296      -4.796579       2.494541      68.825000\n",
      "std        NaN       8.965932       5.119872       1.703572      45.944423\n",
      "min        NaN     -31.609576     -26.358598      -0.018144       0.000000\n",
      "25%        NaN      -6.298551      -8.267985       1.000021      26.953261\n",
      "50%        NaN       1.153055      -4.813172       2.011479      57.085625\n",
      "75%        NaN       8.621015      -1.332816       3.999904     107.813044\n",
      "max        NaN      29.421755      18.734063       5.019721     137.945408 \n",
      "\n",
      "            id             f0             f1             f2        product\n",
      "count   100000  100000.000000  100000.000000  100000.000000  100000.000000\n",
      "unique   99996            NaN            NaN            NaN            NaN\n",
      "top      VF7Jo            NaN            NaN            NaN            NaN\n",
      "freq         2            NaN            NaN            NaN            NaN\n",
      "mean       NaN       0.002023      -0.002081       2.495128      95.000000\n",
      "std        NaN       1.732045       1.730417       3.473445      44.749921\n",
      "min        NaN      -8.760004      -7.084020     -11.970335       0.000000\n",
      "25%        NaN      -1.162288      -1.174820       0.130359      59.450441\n",
      "50%        NaN       0.009424      -0.009482       2.484236      94.925613\n",
      "75%        NaN       1.158535       1.163678       4.858794     130.595027\n",
      "max        NaN       7.238262       7.844801      16.739402     190.029838\n"
     ]
    }
   ],
   "source": [
    "print(geo_data_0.describe(include='all'),\"\\n\")\n",
    "print(geo_data_1.describe(include='all'),\"\\n\")\n",
    "print(geo_data_2.describe(include='all'))"
   ]
  },
  {
   "cell_type": "code",
   "execution_count": 6,
   "metadata": {},
   "outputs": [
    {
     "data": {
      "image/png": "[encoded data removed]",
      "text/plain": [
       "<Figure size 1400x1000 with 4 Axes>"
      ]
     },
     "metadata": {},
     "output_type": "display_data"
    }
   ],
   "source": [
    "fig, ((ax1, ax2), (ax3, _)) = plt.subplots(2, 2)\n",
    "fig.set_figwidth(14)\n",
    "fig.set_figheight(10)\n",
    "sns.violinplot(ax=ax1,x=geo_data_0['product'])\n",
    "ax1.set_title('Distribución región 1.')\n",
    "sns.violinplot(ax=ax2,x=geo_data_1['product'])\n",
    "ax2.set_title('Distribución región 2.')\n",
    "sns.violinplot(ax=ax3,x=geo_data_2['product'])\n",
    "ax3.set_title('Distribución región 3.')\n",
    "plt.show()"
   ]
  },
  {
   "cell_type": "markdown",
   "metadata": {},
   "source": [
    " Los datos se cargaron se forma existosa. Los 3 conjunto de datos no tiene ningún valor nulo y el tipo de objeto corresponde correctamente a los datos. En la descripción estadítica se obtuvo que hay 99 996 valores únicos, en cada región se repiten 2 pozos (`id`). La región 1 y 3 tiene una distribucipon de lso datos `product` de manera similar, mientras que la región 2 tiene una distribución sesgada hacia la derecha."
   ]
  },
  {
   "cell_type": "markdown",
   "metadata": {},
   "source": [
    "### 2.2.1 Revisar los datos duplicados."
   ]
  },
  {
   "cell_type": "markdown",
   "metadata": {},
   "source": [
    "El dato duplicado en la región 2 es  `fiKDv`."
   ]
  },
  {
   "cell_type": "code",
   "execution_count": 7,
   "metadata": {},
   "outputs": [
    {
     "data": {
      "text/html": [
       "<div>\n",
       "<style scoped>\n",
       "    .dataframe tbody tr th:only-of-type {\n",
       "        vertical-align: middle;\n",
       "    }\n",
       "\n",
       "    .dataframe tbody tr th {\n",
       "        vertical-align: top;\n",
       "    }\n",
       "\n",
       "    .dataframe thead th {\n",
       "        text-align: right;\n",
       "    }\n",
       "</style>\n",
       "<table border=\"1\" class=\"dataframe\">\n",
       "  <thead>\n",
       "    <tr style=\"text-align: right;\">\n",
       "      <th></th>\n",
       "      <th>id</th>\n",
       "      <th>f0</th>\n",
       "      <th>f1</th>\n",
       "      <th>f2</th>\n",
       "      <th>product</th>\n",
       "    </tr>\n",
       "  </thead>\n",
       "  <tbody>\n",
       "    <tr>\n",
       "      <th>16633</th>\n",
       "      <td>fiKDv</td>\n",
       "      <td>0.157341</td>\n",
       "      <td>1.028359</td>\n",
       "      <td>5.585586</td>\n",
       "      <td>95.817889</td>\n",
       "    </tr>\n",
       "    <tr>\n",
       "      <th>90815</th>\n",
       "      <td>fiKDv</td>\n",
       "      <td>0.049883</td>\n",
       "      <td>0.841313</td>\n",
       "      <td>6.394613</td>\n",
       "      <td>137.346586</td>\n",
       "    </tr>\n",
       "  </tbody>\n",
       "</table>\n",
       "</div>"
      ],
      "text/plain": [
       "          id        f0        f1        f2     product\n",
       "16633  fiKDv  0.157341  1.028359  5.585586   95.817889\n",
       "90815  fiKDv  0.049883  0.841313  6.394613  137.346586"
      ]
     },
     "execution_count": 7,
     "metadata": {},
     "output_type": "execute_result"
    }
   ],
   "source": [
    "geo_data_0.query(\"id == 'fiKDv'\")"
   ]
  },
  {
   "cell_type": "markdown",
   "metadata": {},
   "source": [
    "El dato duplicado en la región 2 es `wt4Uk`."
   ]
  },
  {
   "cell_type": "code",
   "execution_count": 8,
   "metadata": {},
   "outputs": [
    {
     "data": {
      "text/html": [
       "<div>\n",
       "<style scoped>\n",
       "    .dataframe tbody tr th:only-of-type {\n",
       "        vertical-align: middle;\n",
       "    }\n",
       "\n",
       "    .dataframe tbody tr th {\n",
       "        vertical-align: top;\n",
       "    }\n",
       "\n",
       "    .dataframe thead th {\n",
       "        text-align: right;\n",
       "    }\n",
       "</style>\n",
       "<table border=\"1\" class=\"dataframe\">\n",
       "  <thead>\n",
       "    <tr style=\"text-align: right;\">\n",
       "      <th></th>\n",
       "      <th>id</th>\n",
       "      <th>f0</th>\n",
       "      <th>f1</th>\n",
       "      <th>f2</th>\n",
       "      <th>product</th>\n",
       "    </tr>\n",
       "  </thead>\n",
       "  <tbody>\n",
       "    <tr>\n",
       "      <th>47591</th>\n",
       "      <td>wt4Uk</td>\n",
       "      <td>-9.091098</td>\n",
       "      <td>-8.109279</td>\n",
       "      <td>-0.002314</td>\n",
       "      <td>3.179103</td>\n",
       "    </tr>\n",
       "    <tr>\n",
       "      <th>82873</th>\n",
       "      <td>wt4Uk</td>\n",
       "      <td>10.259972</td>\n",
       "      <td>-9.376355</td>\n",
       "      <td>4.994297</td>\n",
       "      <td>134.766305</td>\n",
       "    </tr>\n",
       "  </tbody>\n",
       "</table>\n",
       "</div>"
      ],
      "text/plain": [
       "          id         f0        f1        f2     product\n",
       "47591  wt4Uk  -9.091098 -8.109279 -0.002314    3.179103\n",
       "82873  wt4Uk  10.259972 -9.376355  4.994297  134.766305"
      ]
     },
     "execution_count": 8,
     "metadata": {},
     "output_type": "execute_result"
    }
   ],
   "source": [
    "geo_data_1.query(\"id == 'wt4Uk'\")"
   ]
  },
  {
   "cell_type": "markdown",
   "metadata": {},
   "source": [
    "Los datos duplicados en la región 3 son `VF7Jo`."
   ]
  },
  {
   "cell_type": "code",
   "execution_count": 9,
   "metadata": {},
   "outputs": [
    {
     "data": {
      "text/html": [
       "<div>\n",
       "<style scoped>\n",
       "    .dataframe tbody tr th:only-of-type {\n",
       "        vertical-align: middle;\n",
       "    }\n",
       "\n",
       "    .dataframe tbody tr th {\n",
       "        vertical-align: top;\n",
       "    }\n",
       "\n",
       "    .dataframe thead th {\n",
       "        text-align: right;\n",
       "    }\n",
       "</style>\n",
       "<table border=\"1\" class=\"dataframe\">\n",
       "  <thead>\n",
       "    <tr style=\"text-align: right;\">\n",
       "      <th></th>\n",
       "      <th>id</th>\n",
       "      <th>f0</th>\n",
       "      <th>f1</th>\n",
       "      <th>f2</th>\n",
       "      <th>product</th>\n",
       "    </tr>\n",
       "  </thead>\n",
       "  <tbody>\n",
       "    <tr>\n",
       "      <th>11449</th>\n",
       "      <td>VF7Jo</td>\n",
       "      <td>2.122656</td>\n",
       "      <td>-0.858275</td>\n",
       "      <td>5.746001</td>\n",
       "      <td>181.716817</td>\n",
       "    </tr>\n",
       "    <tr>\n",
       "      <th>49564</th>\n",
       "      <td>VF7Jo</td>\n",
       "      <td>-0.883115</td>\n",
       "      <td>0.560537</td>\n",
       "      <td>0.723601</td>\n",
       "      <td>136.233420</td>\n",
       "    </tr>\n",
       "  </tbody>\n",
       "</table>\n",
       "</div>"
      ],
      "text/plain": [
       "          id        f0        f1        f2     product\n",
       "11449  VF7Jo  2.122656 -0.858275  5.746001  181.716817\n",
       "49564  VF7Jo -0.883115  0.560537  0.723601  136.233420"
      ]
     },
     "execution_count": 9,
     "metadata": {},
     "output_type": "execute_result"
    }
   ],
   "source": [
    "geo_data_2.query(\"id == 'VF7Jo'\")"
   ]
  },
  {
   "cell_type": "markdown",
   "metadata": {},
   "source": [
    "A pesar de que tinen el mimso `id` en los 3 conjunto de datos, tienen diferentes registros."
   ]
  },
  {
   "cell_type": "markdown",
   "metadata": {},
   "source": [
    "# Parte 2. Entrenamiento y prueba del modelo"
   ]
  },
  {
   "cell_type": "markdown",
   "metadata": {},
   "source": [
    "En este siguiente paso se entranará y se probará el modelopara cada región en el conjunto de datos `geo_data_0`. Se dividirá en el conjunto de datos en conjunto de entranmeinto y prueba en el proporción de 75:25. El modelo a entrenar será una regresión lineal y se revisará el calidad del mismo. Se colocarán los pasos previos en una función para el conjunto de datos `geo_data_1` y `geo_data_2`."
   ]
  },
  {
   "cell_type": "markdown",
   "metadata": {},
   "source": [
    "## 2.1. Dividir el conjunto de datos."
   ]
  },
  {
   "cell_type": "markdown",
   "metadata": {},
   "source": [
    "No se toma en cuenta la columna `id` para entranr el modelo debido a la acción que va tomar el modelo de aprenderse la caraterísticas de memoria."
   ]
  },
  {
   "cell_type": "code",
   "execution_count": 10,
   "metadata": {},
   "outputs": [
    {
     "name": "stdout",
     "output_type": "stream",
     "text": [
      "(75000, 3)\n",
      "(25000, 3)\n",
      "(75000,)\n",
      "(25000,)\n"
     ]
    }
   ],
   "source": [
    "X = geo_data_0[['f0','f1','f2']]\n",
    "y = geo_data_0['product']\n",
    "\n",
    "X_train, X_test, y_train, y_test = train_test_split(X,\n",
    "                                                    y,\n",
    "                                                    test_size=0.25, random_state=42)\n",
    "\n",
    "print(X_train.shape)\n",
    "print(X_test.shape)\n",
    "print(y_train.shape)\n",
    "print(y_test.shape)"
   ]
  },
  {
   "cell_type": "markdown",
   "metadata": {},
   "source": [
    "## 2.2. Escalamiento de datos."
   ]
  },
  {
   "cell_type": "code",
   "execution_count": 11,
   "metadata": {},
   "outputs": [],
   "source": [
    "scaler = StandardScaler()\n",
    "X_train_scaled = pd.DataFrame(data=scaler.fit_transform(X_train),columns=X_train.columns)\n",
    "X_test_scaled = pd.DataFrame(data=scaler.fit_transform(X_test),columns=X_test.columns)"
   ]
  },
  {
   "cell_type": "code",
   "execution_count": 12,
   "metadata": {},
   "outputs": [
    {
     "name": "stdout",
     "output_type": "stream",
     "text": [
      "             f0        f1        f2\n",
      "0      1.274786 -0.799739 -0.396677\n",
      "1     -1.600689  0.234678 -2.169283\n",
      "2     -0.323791  1.436297  1.495425\n",
      "3      0.439038  0.830679  0.185881\n",
      "4     -1.652805  0.761012  0.111734\n",
      "...         ...       ...       ...\n",
      "74995  1.291452 -0.712129  0.135573\n",
      "74996  1.355542 -0.882161 -1.134411\n",
      "74997  0.549229 -1.591632  0.119090\n",
      "74998  0.175176 -1.459344  1.429524\n",
      "74999  1.029803 -1.420625 -0.149459\n",
      "\n",
      "[75000 rows x 3 columns]\n",
      "             f0        f1        f2\n",
      "0      0.112101 -1.589321 -0.110233\n",
      "1      0.272610 -1.402931 -1.179141\n",
      "2      1.057993 -1.544522  0.382073\n",
      "3      1.238912 -0.959586  0.100531\n",
      "4      0.479323 -0.441815  0.036875\n",
      "...         ...       ...       ...\n",
      "24995  0.290564 -1.499725  0.040633\n",
      "24996 -0.647567  0.530756 -0.543723\n",
      "24997  0.105767 -1.328161 -0.925665\n",
      "24998 -0.348606  0.406562 -0.302406\n",
      "24999 -0.859695  1.509676  0.677737\n",
      "\n",
      "[25000 rows x 3 columns]\n"
     ]
    }
   ],
   "source": [
    "print(X_train_scaled)\n",
    "print(X_test_scaled)"
   ]
  },
  {
   "cell_type": "markdown",
   "metadata": {},
   "source": [
    "## 2.3 Entrenamiento y calidad del modelo."
   ]
  },
  {
   "cell_type": "markdown",
   "metadata": {},
   "source": [
    "### 2.3.1. Región 1."
   ]
  },
  {
   "cell_type": "code",
   "execution_count": 13,
   "metadata": {},
   "outputs": [],
   "source": [
    "model = LinearRegression()\n",
    "model.fit(X_train_scaled,y_train)\n",
    "y_pred = model.predict(X_test)"
   ]
  },
  {
   "cell_type": "code",
   "execution_count": 14,
   "metadata": {},
   "outputs": [],
   "source": [
    "mse = mean_squared_error(y_test,y_pred)\n",
    "rmse = mse**0.5"
   ]
  },
  {
   "cell_type": "code",
   "execution_count": 15,
   "metadata": {},
   "outputs": [
    {
     "name": "stdout",
     "output_type": "stream",
     "text": [
      "Volumen medio de reservas predicho: 92.32595637084387\n",
      "\n",
      "RMSE del modelo en el conjunto de prueba: 81.11662851393159\n"
     ]
    }
   ],
   "source": [
    "print(\"Volumen medio de reservas predicho:\", y_test.mean())\n",
    "print('\\nRMSE del modelo en el conjunto de prueba:', rmse)"
   ]
  },
  {
   "cell_type": "markdown",
   "metadata": {},
   "source": [
    "La RECM nos indica que en promedio nuetras predicciones erran por ~ 81 117 barriles. Parece mucho pero es aceptable para un modelo que siempre responde con el valor debajo de la media, dado que la región con más reservas de barriles llegan a más de 185 mil."
   ]
  },
  {
   "cell_type": "markdown",
   "metadata": {},
   "source": [
    "### 2.3.2 Preparar la función."
   ]
  },
  {
   "cell_type": "code",
   "execution_count": 16,
   "metadata": {},
   "outputs": [],
   "source": [
    "def rmse_L_Regression(data):\n",
    "    features = data[['f0','f1','f2']]\n",
    "    target = data['product']\n",
    "    X_train, X_test, y_train, y_test = train_test_split(features,\n",
    "                                                    target,\n",
    "                                                    test_size=0.25, random_state=42)\n",
    "    scaler = StandardScaler()\n",
    "    X_train_scaled = pd.DataFrame(data=scaler.fit_transform(X_train),columns=features.columns)\n",
    "    X_test_scaled = pd.DataFrame(data=scaler.fit_transform(X_test),columns=features.columns)\n",
    "    model.fit(X_train_scaled,y_train)\n",
    "    y_pred = model.predict(X_test_scaled)\n",
    "    rmse = mean_squared_error(y_test,y_pred) ** 0.5\n",
    "#     print(\"Volumen medio de reservas predicho:\", y_test.mean())\n",
    "#     print('\\nRMSE del modelo en el conjunto de prueba:', rmse)\n",
    "    return {'model':model, 'y_test_mean':y_test.mean(), 'rmse':rmse}"
   ]
  },
  {
   "cell_type": "markdown",
   "metadata": {},
   "source": [
    "### 2.3.3 Región 2."
   ]
  },
  {
   "cell_type": "code",
   "execution_count": 17,
   "metadata": {},
   "outputs": [
    {
     "name": "stdout",
     "output_type": "stream",
     "text": [
      "Volumen medio de reservas predicho 68.72538074722745\n",
      "RMSE del modelo en el conjunto de prueba: 0.8999970499802324\n"
     ]
    }
   ],
   "source": [
    "print(f'Volumen medio de reservas predicho {rmse_L_Regression(geo_data_1)[\"y_test_mean\"]}')\n",
    "print(f'RMSE del modelo en el conjunto de prueba: {rmse_L_Regression(geo_data_1)[\"rmse\"]}')"
   ]
  },
  {
   "cell_type": "markdown",
   "metadata": {},
   "source": [
    "El RMSE indica en nuetras predicciones erran unos ~900 barriles. Bastante bien para este conjunto de datos."
   ]
  },
  {
   "cell_type": "markdown",
   "metadata": {},
   "source": [
    "### 2.3.4 Región 3"
   ]
  },
  {
   "cell_type": "code",
   "execution_count": 18,
   "metadata": {},
   "outputs": [
    {
     "name": "stdout",
     "output_type": "stream",
     "text": [
      "Volumen medio de reservas predicho 95.15099907171961\n",
      "RMSE del modelo en el conjunto de prueba: 40.1447439796432\n"
     ]
    }
   ],
   "source": [
    "print(f'Volumen medio de reservas predicho {rmse_L_Regression(geo_data_2)[\"y_test_mean\"]}')\n",
    "print(f'RMSE del modelo en el conjunto de prueba: {rmse_L_Regression(geo_data_2)[\"rmse\"]}')"
   ]
  },
  {
   "cell_type": "markdown",
   "metadata": {},
   "source": [
    "El RMSE indica que las predicciones de la región 3 tienen en error medio de 40 mil barriles."
   ]
  },
  {
   "cell_type": "markdown",
   "metadata": {},
   "source": [
    "# Parte 3. Preparar cálculo de ganancias."
   ]
  },
  {
   "cell_type": "markdown",
   "metadata": {},
   "source": [
    "El presupuesto para el desarrollo de 200 pozos petroleros es de 100 millones de dólares. Dicho esto, de media un pozo petrolífero debe producir al menos un valor de 500,000 dólares en unidades para evitar pérdidas (esto es equivalente a 111.1 unidades). Se comparó esta cantidad con la cantidad media de reservas en cada región."
   ]
  },
  {
   "cell_type": "code",
   "execution_count": 19,
   "metadata": {},
   "outputs": [],
   "source": [
    "presupuesto = 100_000_000\n",
    "cantidad_pozos = 200\n",
    "ingresos_barril = 4_500\n",
    "lucro_minimo_unidades = 111.1"
   ]
  },
  {
   "cell_type": "markdown",
   "metadata": {},
   "source": [
    "### 3.1 Cantidad media de barriles y ganancias en cada región."
   ]
  },
  {
   "cell_type": "code",
   "execution_count": 20,
   "metadata": {},
   "outputs": [
    {
     "name": "stdout",
     "output_type": "stream",
     "text": [
      "Región 1:\n",
      "\n",
      "Unidades de barriles producidos en promedio: 92.50\n",
      "\n",
      "Ganancias en USD: 416250.00\n"
     ]
    }
   ],
   "source": [
    "barril_r1_mean =  geo_data_0['product'].mean()\n",
    "ingresos_r1 = barril_r1_mean * ingresos_barril\n",
    "print(\"Región 1:\\n\")\n",
    "print(f\"Unidades de barriles producidos en promedio: {barril_r1_mean:.2f}\\n\")\n",
    "print(f\"Ganancias en USD: {ingresos_r1:.2f}\")"
   ]
  },
  {
   "cell_type": "code",
   "execution_count": 21,
   "metadata": {},
   "outputs": [
    {
     "name": "stdout",
     "output_type": "stream",
     "text": [
      "Región 2:\n",
      "\n",
      "Unidades de barriles producidos en promedio: 68.83\n",
      "\n",
      "Ganancias en USD: 309712.50\n"
     ]
    }
   ],
   "source": [
    "barril_r2_mean =  geo_data_1['product'].mean()\n",
    "ingresos_r2 = barril_r2_mean * ingresos_barril\n",
    "print(\"Región 2:\\n\")\n",
    "print(f\"Unidades de barriles producidos en promedio: {barril_r2_mean:.2f}\\n\")\n",
    "print(f\"Ganancias en USD: {ingresos_r2:.2f}\")"
   ]
  },
  {
   "cell_type": "code",
   "execution_count": 22,
   "metadata": {},
   "outputs": [
    {
     "name": "stdout",
     "output_type": "stream",
     "text": [
      "Región 3:\n",
      "\n",
      "Unidades de barriles producidos en promedio: 95.00\n",
      "\n",
      "Ganancias en USD: 427500.00\n"
     ]
    }
   ],
   "source": [
    "barril_r3_mean =  geo_data_2['product'].mean()\n",
    "ingresos_r3 = barril_r3_mean * ingresos_barril\n",
    "print(\"Región 3:\\n\")\n",
    "print(f\"Unidades de barriles producidos en promedio: {barril_r3_mean:.2f}\\n\")\n",
    "print(f\"Ganancias en USD: {ingresos_r3:.2f}\")"
   ]
  },
  {
   "cell_type": "markdown",
   "metadata": {},
   "source": [
    "Ninguna de las regiones llega a la unidades de 111.1 barriles o 500 000 dólares."
   ]
  },
  {
   "cell_type": "markdown",
   "metadata": {},
   "source": [
    "# Parte 4. Escribe una función para calcular la ganancia de un conjunto de pozos de petróleo seleccionados y modela las predicciones"
   ]
  },
  {
   "cell_type": "markdown",
   "metadata": {},
   "source": [
    "### 4.1 Elige los 200 pozos con los valores de predicción más altos de cada una de las 3 regiones."
   ]
  },
  {
   "cell_type": "code",
   "execution_count": 23,
   "metadata": {},
   "outputs": [],
   "source": [
    "def valores_mas_altos(data):\n",
    "    X = data[['f0','f1','f2']]\n",
    "\n",
    "    prediction = pd.Series(model.predict(X))\n",
    "\n",
    "    prediction.name = 'prediction'\n",
    "    \n",
    "    region = data.join(prediction)\n",
    "    indice = region['prediction'].nlargest(200).index\n",
    "    region_200 = region.iloc[indice,:]\n",
    "    return region_200\n",
    "    "
   ]
  },
  {
   "cell_type": "code",
   "execution_count": 24,
   "metadata": {},
   "outputs": [],
   "source": [
    "def ganancia(data):\n",
    "    print(data.iloc[valores_mas_altos(data).index,:])\n",
    "    beneficio_bruto = data.iloc[valores_mas_altos(data).index,:]['product'].sum()*ingresos_barril\n",
    "    print(f\"Beneficio bruto: {beneficio_bruto:.2f} USD\\n\")\n",
    "    beneficio_operativo =  beneficio_bruto - presupuesto\n",
    "    return beneficio_operativo"
   ]
  },
  {
   "cell_type": "code",
   "execution_count": 25,
   "metadata": {},
   "outputs": [
    {
     "name": "stdout",
     "output_type": "stream",
     "text": [
      "Región 1:\n",
      "\n"
     ]
    },
    {
     "name": "stdout",
     "output_type": "stream",
     "text": [
      "          id        f0        f1         f2     product\n",
      "51140  QFDWZ  1.092258 -0.541900  16.003790  182.079984\n",
      "83095  xuWxm  1.888221  0.067384  15.428372  144.009283\n",
      "51464  Fgte6  1.612452 -0.074593  15.230322  173.971897\n",
      "52356  R5IYz  0.879559  0.258449  15.202838  123.920559\n",
      "11404  Ue1K8  0.762994  0.742322  15.014250   76.184104\n",
      "...      ...       ...       ...        ...         ...\n",
      "68681  bWTHz -0.903187  0.334305  11.599498   97.704895\n",
      "3806   xY7Rc  1.247499 -0.482881  11.610778  152.898337\n",
      "69120  VWv23  1.330988 -0.391673  11.603801  146.261727\n",
      "47527  Q76zB  0.987777  0.263655  11.599940  121.611459\n",
      "58421  S8c7q  2.038708  0.350157  11.606881  144.825558\n",
      "\n",
      "[200 rows x 5 columns]\n",
      "Beneficio bruto: 127529688.28 USD\n",
      "\n",
      "Benefeicio operativo: 27529688.28\n"
     ]
    }
   ],
   "source": [
    "print(\"Región 1:\\n\")\n",
    "print(f\"Benefeicio operativo: {ganancia(geo_data_0):.2f}\")"
   ]
  },
  {
   "cell_type": "code",
   "execution_count": 26,
   "metadata": {},
   "outputs": [
    {
     "name": "stdout",
     "output_type": "stream",
     "text": [
      "Región 2:\n",
      "\n",
      "          id         f0         f1        f2     product\n",
      "26531  yLbdW -26.646255  -1.531112  5.001941  137.945408\n",
      "80439  kpPCd -23.884180  -3.773158  5.001008  137.945408\n",
      "55165  wcKNk -22.107811  -5.342910  5.006254  137.945408\n",
      "42738  XLXvP -19.384167 -15.314765  5.010972  137.945408\n",
      "20191  4zwHI -23.795133  -2.313652  4.994894  137.945408\n",
      "...      ...        ...        ...       ...         ...\n",
      "59793  zZzw6 -15.326874 -10.555402  5.000651  137.945408\n",
      "7040   Ihs0y -17.833038  -3.304180  4.992079  137.945408\n",
      "55583  DPp8p -14.515572 -15.573664  4.999820  137.945408\n",
      "20775  N2baR -15.387538  -8.767971  5.002486  137.945408\n",
      "58302  di4FO -13.447409  -9.078163  5.015957  137.945408\n",
      "\n",
      "[200 rows x 5 columns]\n",
      "Beneficio bruto: 124150866.97 USD\n",
      "\n",
      "Benefeicio operativo: 24150866.97\n"
     ]
    }
   ],
   "source": [
    "print(\"Región 2:\\n\")\n",
    "print(f\"Benefeicio operativo: {ganancia(geo_data_1):.2f}\")"
   ]
  },
  {
   "cell_type": "code",
   "execution_count": 27,
   "metadata": {},
   "outputs": [
    {
     "name": "stdout",
     "output_type": "stream",
     "text": [
      "Región 3:\n",
      "\n",
      "          id        f0        f1         f2     product\n",
      "3540   4KBhu -2.548791  3.210600  16.739402  154.062998\n",
      "98714  C6aBZ -0.209583  1.174825  16.357645   98.664401\n",
      "25463  mMCBz -1.623992 -3.263073  16.313011  166.293929\n",
      "6647   AaIO6  1.046668 -1.970502  16.252444  152.294162\n",
      "69502  OYrnh -1.145417 -0.650543  16.223146  121.349438\n",
      "...      ...       ...       ...        ...         ...\n",
      "70098  JZblA -1.203156 -2.631162  12.343470  171.042469\n",
      "56419  MtUK6  0.422957  0.605761  12.347223   95.073988\n",
      "23998  il8vO  0.442946  0.330694  12.343233  132.242854\n",
      "2981   ZTW7f -2.033913 -0.459846  12.323733  182.030007\n",
      "23424  DNjtD  1.514751  0.479409  12.331792  119.627311\n",
      "\n",
      "[200 rows x 5 columns]\n",
      "Beneficio bruto: 125806406.82 USD\n",
      "\n",
      "Beneficio operativo: 25806406.82\n"
     ]
    }
   ],
   "source": [
    "print(\"Región 3:\\n\")\n",
    "print(f\"Beneficio operativo: {ganancia(geo_data_2):.2f}\")"
   ]
  },
  {
   "cell_type": "markdown",
   "metadata": {},
   "source": [
    "# Parte 5. Riesgos y ganancias de cada región."
   ]
  },
  {
   "cell_type": "markdown",
   "metadata": {},
   "source": [
    "## 5.1. Utilizando las predicciones que almacenaste en el paso 4.1, emplea la técnica del bootstrapping con 1000 muestras para hallar la distribución de los beneficios."
   ]
  },
  {
   "cell_type": "code",
   "execution_count": 28,
   "metadata": {},
   "outputs": [
    {
     "data": {
      "text/plain": [
       "26531    137.945408\n",
       "80439    137.945408\n",
       "55165    137.945408\n",
       "42738    137.945408\n",
       "20191    137.945408\n",
       "            ...    \n",
       "59793    137.945408\n",
       "7040     137.945408\n",
       "55583    137.945408\n",
       "20775    137.945408\n",
       "58302    137.945408\n",
       "Name: product, Length: 200, dtype: float64"
      ]
     },
     "execution_count": 28,
     "metadata": {},
     "output_type": "execute_result"
    }
   ],
   "source": [
    "valores_mas_altos(geo_data_1)['product']"
   ]
  },
  {
   "cell_type": "code",
   "execution_count": 29,
   "metadata": {},
   "outputs": [],
   "source": [
    "def distribution(data,title=''):    \n",
    "    \n",
    "    beneficio_bruto = data.iloc[valores_mas_altos(data).index,:]['product']*ingresos_barril\n",
    "    data = (beneficio_bruto - presupuesto,)\n",
    "\n",
    "    fig, ax = plt.subplots()\n",
    "\n",
    "    ax.hist(bootstrap(data,statistic=np.mean,n_resamples=1000,random_state=12345).bootstrap_distribution,bins=25,)\n",
    "    ax.set_title(title)\n",
    "    ax.set_ylabel('Frequency')\n",
    "    ax.set_xlabel('USD.')\n",
    "\n",
    "    fig.set_figwidth(8)\n",
    "    fig.set_figheight(4)\n",
    "\n",
    "    plt.show()"
   ]
  },
  {
   "cell_type": "code",
   "execution_count": 30,
   "metadata": {},
   "outputs": [
    {
     "data": {
      "image/png": "[encoded data removed]",
      "text/plain": [
       "<Figure size 800x400 with 1 Axes>"
      ]
     },
     "metadata": {},
     "output_type": "display_data"
    },
    {
     "data": {
      "image/png": "[encoded data removed]",
      "text/plain": [
       "<Figure size 800x400 with 1 Axes>"
      ]
     },
     "metadata": {},
     "output_type": "display_data"
    },
    {
     "data": {
      "image/png": "[encoded data removed]",
      "text/plain": [
       "<Figure size 800x400 with 1 Axes>"
      ]
     },
     "metadata": {},
     "output_type": "display_data"
    }
   ],
   "source": [
    "distribution(geo_data_0.reset_index(drop=True),'Distribución de los beneficios región 1.')\n",
    "\n",
    "distribution(geo_data_1.reset_index(drop=True),'Distribución de los beneficios región 2.')\n",
    "\n",
    "distribution(geo_data_2.reset_index(drop=True),'Distribución de los beneficios región 3.')"
   ]
  },
  {
   "cell_type": "markdown",
   "metadata": {},
   "source": [
    "## 5.2 Encuentra el beneficio promedio, el intervalo de confianza del 95% y el riesgo de pérdidas. La pérdida es una ganancia negativa, calcúlala como una probabilidad y luego exprésala como un porcentaje."
   ]
  },
  {
   "cell_type": "code",
   "execution_count": 31,
   "metadata": {},
   "outputs": [],
   "source": [
    "def predictions(data):\n",
    "    features = ['f0','f1','f2']\n",
    "    predictions = pd.Series(model.predict(data[features]),name='predictions')\n",
    "    data_predcitions = pd.concat([data,predictions],axis=1)\n",
    "    return data_predcitions"
   ]
  },
  {
   "cell_type": "code",
   "execution_count": 32,
   "metadata": {},
   "outputs": [],
   "source": [
    "predicitons_geo_data_0 = predictions(geo_data_0)\n",
    "predicitons_geo_data_1 = predictions(geo_data_1)\n",
    "predicitons_geo_data_2 = predictions(geo_data_2)"
   ]
  },
  {
   "cell_type": "code",
   "execution_count": 33,
   "metadata": {},
   "outputs": [
    {
     "name": "stdout",
     "output_type": "stream",
     "text": [
      "      id        f0        f1        f2     product  predictions\n",
      "0  txEyH  0.705745 -0.497823  1.221170  105.280062   119.268829\n",
      "1  2acmU  1.334711 -0.340164  4.365080   73.037750   182.013200\n",
      "2  409Wp  1.022732  0.151990  1.419926   85.265647   123.177976\n",
      "3  iJLyR -0.032172  0.139033  2.978566  168.620776   154.485958\n",
      "4  Xdl7t  1.988431  0.155413  4.751769  154.036647   189.633802 \n",
      "\n",
      "      id         f0         f1        f2     product  predictions\n",
      "0  kBEdx -15.001348  -8.276000 -0.005876    3.179103    97.239155\n",
      "1  62mP7  14.272088  -3.475083  0.999183   26.953261   112.935195\n",
      "2  vyE1P   6.263187  -5.948386  5.001160  134.766305   194.159315\n",
      "3  KcrkZ -13.081196 -11.506057  4.999415  137.945408   197.091259\n",
      "4  AHL4O  12.702195  -8.147433  5.004363  134.766305   193.344197 \n",
      "\n",
      "      id        f0        f1        f2     product  predictions\n",
      "0  fwXo0 -1.146987  0.963328 -0.828965   27.758673    78.521680\n",
      "1  WJtFt  0.262778  0.269839 -2.530187   56.069697    44.331005\n",
      "2  ovLUW  0.194587  0.289035 -5.586433   62.871910   -16.747569\n",
      "3  q6cA6  2.236060 -0.553760  0.930038  114.572842   113.228268\n",
      "4  WPMUX -0.515993  1.716266  5.899011  149.600746   212.887827 \n",
      "\n"
     ]
    }
   ],
   "source": [
    "print(predicitons_geo_data_0.head(),'\\n')\n",
    "print(predicitons_geo_data_1.head(),'\\n')\n",
    "print(predicitons_geo_data_2.head(),'\\n')"
   ]
  },
  {
   "cell_type": "code",
   "execution_count": 34,
   "metadata": {},
   "outputs": [],
   "source": [
    "def revenue(target, predictions):\n",
    "    # Se obtienen los 200 con valores más altos\n",
    "    probs_sorted = predictions.sort_values(ascending=False)[:200]\n",
    "    # Se seleccionan los objetivos con base en los índices de los 200 mejores\n",
    "    selected = target[probs_sorted.index]\n",
    "    # Se obtiene el volumen total\n",
    "    total_volume=selected.sum()\n",
    "    # Se obtienen los ingresos \n",
    "    total_revenue=(total_volume*ingresos_barril)-presupuesto\n",
    "    return total_revenue"
   ]
  },
  {
   "cell_type": "code",
   "execution_count": 35,
   "metadata": {},
   "outputs": [],
   "source": [
    "\n",
    "# Función para obtener beneficio promedio, intervalo de confianza y riesgo de pérdidas\n",
    "def revenue_dist(target,predictions,region):\n",
    "    \n",
    "    state = np.random.RandomState(16)\n",
    "    \n",
    "    values = []\n",
    "    for i in range(1000):\n",
    "        # Se obtienen las muestras del conjunto de predicciones mediante bootstrapping\n",
    "        predicitions_subsample = predictions.sample(n=500,replace=True,random_state=state)\n",
    "        # Se obtienen los objetivos reales con base en los indices de las predicciones seleccioandas\n",
    "        target_subsample = target[predicitions_subsample.index]\n",
    "        # Se añade la muestra a la lista values\n",
    "        values.append(revenue(target_subsample, predicitions_subsample)) # pasemos los subsamples de target y predictions\n",
    "    \n",
    "    values = pd.Series(values)\n",
    "    conf_interval = (values.quantile(0.025), values.quantile(0.975))\n",
    "    print('El intervalo de confianza es: ',conf_interval)\n",
    "    # Se obtiene el riesgo de pérdida \n",
    "    risk_of_loss=((values < 0).mean()) * 100\n",
    "    print('El riesgo de pérdida es: ',risk_of_loss,'%')\n",
    "\n"
   ]
  },
  {
   "cell_type": "code",
   "execution_count": 36,
   "metadata": {},
   "outputs": [
    {
     "name": "stdout",
     "output_type": "stream",
     "text": [
      "El intervalo de confianza es:  (-2389387.8506003805, 8375578.314991092)\n",
      "El riesgo de pérdida es:  11.5 %\n",
      "El intervalo de confianza es:  (816692.860452262, 9235984.525805188)\n",
      "El riesgo de pérdida es:  1.0 %\n",
      "El intervalo de confianza es:  (-1194464.1114701896, 9589634.415931353)\n",
      "El riesgo de pérdida es:  6.800000000000001 %\n"
     ]
    }
   ],
   "source": [
    "revenue_dist(geo_data_0['product'],pd.Series(model.predict(geo_data_0[['f0','f1','f2']])),'region_1')\n",
    "revenue_dist(geo_data_1['product'],pd.Series(model.predict(geo_data_1[['f0','f1','f2']])),'region_2')\n",
    "revenue_dist(geo_data_2['product'],pd.Series(model.predict(geo_data_2[['f0','f1','f2']])),'region_3')"
   ]
  },
  {
   "cell_type": "code",
   "execution_count": 37,
   "metadata": {},
   "outputs": [
    {
     "name": "stdout",
     "output_type": "stream",
     "text": [
      "El intervalo de confianza es:  (-2389387.8506003805, 8375578.314991092)\n",
      "El riesgo de pérdida es:  11.5 %\n",
      "El intervalo de confianza es:  (816692.860452262, 9235984.525805188)\n",
      "El riesgo de pérdida es:  1.0 %\n",
      "El intervalo de confianza es:  (-1194464.1114701896, 9589634.415931353)\n",
      "El riesgo de pérdida es:  6.800000000000001 %\n"
     ]
    }
   ],
   "source": [
    "revenue_dist(predicitons_geo_data_0['product'],predicitons_geo_data_0['predictions'],'region_1')\n",
    "revenue_dist(predicitons_geo_data_1['product'],predicitons_geo_data_1['predictions'],'region_2')\n",
    "revenue_dist(predicitons_geo_data_2['product'],predicitons_geo_data_2['predictions'],'region_3')"
   ]
  },
  {
   "cell_type": "code",
   "execution_count": 38,
   "metadata": {},
   "outputs": [],
   "source": [
    "def ROI(benefecio_operativo,inversion,data):\n",
    "    return str((benefecio_operativo)/inversion * 100) + ' %'"
   ]
  },
  {
   "cell_type": "code",
   "execution_count": 39,
   "metadata": {},
   "outputs": [
    {
     "name": "stdout",
     "output_type": "stream",
     "text": [
      "          id        f0        f1         f2     product\n",
      "51140  QFDWZ  1.092258 -0.541900  16.003790  182.079984\n",
      "83095  xuWxm  1.888221  0.067384  15.428372  144.009283\n",
      "51464  Fgte6  1.612452 -0.074593  15.230322  173.971897\n",
      "52356  R5IYz  0.879559  0.258449  15.202838  123.920559\n",
      "11404  Ue1K8  0.762994  0.742322  15.014250   76.184104\n",
      "...      ...       ...       ...        ...         ...\n",
      "68681  bWTHz -0.903187  0.334305  11.599498   97.704895\n",
      "3806   xY7Rc  1.247499 -0.482881  11.610778  152.898337\n",
      "69120  VWv23  1.330988 -0.391673  11.603801  146.261727\n",
      "47527  Q76zB  0.987777  0.263655  11.599940  121.611459\n",
      "58421  S8c7q  2.038708  0.350157  11.606881  144.825558\n",
      "\n",
      "[200 rows x 5 columns]\n",
      "Beneficio bruto: 127529688.28 USD\n",
      "\n",
      "Probabilidad de pérdidas en la región 1: 27.529688284090696 %\n",
      "\n",
      "          id         f0         f1        f2     product\n",
      "26531  yLbdW -26.646255  -1.531112  5.001941  137.945408\n",
      "80439  kpPCd -23.884180  -3.773158  5.001008  137.945408\n",
      "55165  wcKNk -22.107811  -5.342910  5.006254  137.945408\n",
      "42738  XLXvP -19.384167 -15.314765  5.010972  137.945408\n",
      "20191  4zwHI -23.795133  -2.313652  4.994894  137.945408\n",
      "...      ...        ...        ...       ...         ...\n",
      "59793  zZzw6 -15.326874 -10.555402  5.000651  137.945408\n",
      "7040   Ihs0y -17.833038  -3.304180  4.992079  137.945408\n",
      "55583  DPp8p -14.515572 -15.573664  4.999820  137.945408\n",
      "20775  N2baR -15.387538  -8.767971  5.002486  137.945408\n",
      "58302  di4FO -13.447409  -9.078163  5.015957  137.945408\n",
      "\n",
      "[200 rows x 5 columns]\n",
      "Beneficio bruto: 124150866.97 USD\n",
      "\n",
      "Probabilidad de pérdidas en la región 2: 24.150866966815112 %\n",
      "\n",
      "          id        f0        f1         f2     product\n",
      "3540   4KBhu -2.548791  3.210600  16.739402  154.062998\n",
      "98714  C6aBZ -0.209583  1.174825  16.357645   98.664401\n",
      "25463  mMCBz -1.623992 -3.263073  16.313011  166.293929\n",
      "6647   AaIO6  1.046668 -1.970502  16.252444  152.294162\n",
      "69502  OYrnh -1.145417 -0.650543  16.223146  121.349438\n",
      "...      ...       ...       ...        ...         ...\n",
      "70098  JZblA -1.203156 -2.631162  12.343470  171.042469\n",
      "56419  MtUK6  0.422957  0.605761  12.347223   95.073988\n",
      "23998  il8vO  0.442946  0.330694  12.343233  132.242854\n",
      "2981   ZTW7f -2.033913 -0.459846  12.323733  182.030007\n",
      "23424  DNjtD  1.514751  0.479409  12.331792  119.627311\n",
      "\n",
      "[200 rows x 5 columns]\n",
      "Beneficio bruto: 125806406.82 USD\n",
      "\n",
      "Porbalilidad de pérdidas en la región 3: 25.806406823200035 %\n"
     ]
    }
   ],
   "source": [
    "print(f\"Probabilidad de pérdidas en la región 1: {ROI(ganancia(geo_data_0),presupuesto,geo_data_0)}\\n\")\n",
    "print(f\"Probabilidad de pérdidas en la región 2: {ROI(ganancia(geo_data_1),presupuesto,geo_data_1)}\\n\")\n",
    "print(f\"Porbalilidad de pérdidas en la región 3: {ROI(ganancia(geo_data_2),presupuesto,geo_data_2)}\")"
   ]
  },
  {
   "cell_type": "markdown",
   "metadata": {},
   "source": [
    "## 5.3 Presenta tus conclusiones: propón una región para el desarrollo de pozos petrolíferos y justifica tu elección. ¿Coincide tu elección con la elección anterior en el punto 4.3?"
   ]
  },
  {
   "cell_type": "markdown",
   "metadata": {},
   "source": [
    "Se propone la región 3 para el desarrollo. En el paso **4.1** obtuvimos que la región con los mejores 200 pozos con menos perdida es la región 3 con el 15%. En ningún escenario se podría slavar la empresa de tener pérdidas."
   ]
  }
 ],
 "metadata": {
  "ExecuteTimeLog": [
   {
    "duration": 6384,
    "start_time": "2024-07-31T02:01:04.710Z"
   },
   {
    "duration": 665,
    "start_time": "2024-07-31T02:01:21.068Z"
   },
   {
    "duration": 31,
    "start_time": "2024-07-31T02:01:32.014Z"
   },
   {
    "duration": 86,
    "start_time": "2024-07-31T02:01:32.393Z"
   },
   {
    "duration": 587,
    "start_time": "2024-07-31T02:01:32.637Z"
   },
   {
    "duration": 2108,
    "start_time": "2024-07-31T02:01:33.328Z"
   },
   {
    "duration": 23,
    "start_time": "2024-07-31T02:01:53.658Z"
   },
   {
    "duration": 19,
    "start_time": "2024-07-31T02:02:02.609Z"
   },
   {
    "duration": 13,
    "start_time": "2024-07-31T02:02:03.087Z"
   },
   {
    "duration": 17,
    "start_time": "2024-07-31T02:02:16.364Z"
   },
   {
    "duration": 5,
    "start_time": "2024-07-31T02:02:16.700Z"
   },
   {
    "duration": 5,
    "start_time": "2024-07-31T02:02:16.708Z"
   },
   {
    "duration": 21,
    "start_time": "2024-07-31T02:02:17.400Z"
   },
   {
    "duration": 67,
    "start_time": "2024-07-31T02:02:18.035Z"
   },
   {
    "duration": 51,
    "start_time": "2024-07-31T02:02:18.966Z"
   },
   {
    "duration": 4,
    "start_time": "2024-07-31T02:02:22.795Z"
   },
   {
    "duration": 12,
    "start_time": "2024-07-31T02:02:23.910Z"
   },
   {
    "duration": 7,
    "start_time": "2024-07-31T02:02:24.124Z"
   },
   {
    "duration": 6,
    "start_time": "2024-07-31T02:02:24.292Z"
   },
   {
    "duration": 7,
    "start_time": "2024-07-31T02:02:25.809Z"
   },
   {
    "duration": 6,
    "start_time": "2024-07-31T02:02:26.207Z"
   },
   {
    "duration": 94,
    "start_time": "2024-07-31T02:02:26.434Z"
   },
   {
    "duration": 84,
    "start_time": "2024-07-31T02:02:26.700Z"
   },
   {
    "duration": 85,
    "start_time": "2024-07-31T02:02:26.920Z"
   },
   {
    "duration": 5,
    "start_time": "2024-07-31T02:10:01.414Z"
   },
   {
    "duration": 111,
    "start_time": "2024-07-31T02:10:01.835Z"
   },
   {
    "duration": 5,
    "start_time": "2024-07-31T02:10:38.851Z"
   },
   {
    "duration": 158,
    "start_time": "2024-07-31T02:10:43.591Z"
   },
   {
    "duration": 8,
    "start_time": "2024-07-31T02:23:58.440Z"
   },
   {
    "duration": 5,
    "start_time": "2024-07-31T02:24:02.795Z"
   },
   {
    "duration": 1139,
    "start_time": "2024-07-31T02:24:04.326Z"
   },
   {
    "duration": 6,
    "start_time": "2024-07-31T02:25:57.777Z"
   },
   {
    "duration": 5,
    "start_time": "2024-07-31T02:25:59.620Z"
   },
   {
    "duration": 202,
    "start_time": "2024-07-31T02:25:59.869Z"
   },
   {
    "duration": 8,
    "start_time": "2024-07-31T02:27:14.372Z"
   },
   {
    "duration": 5,
    "start_time": "2024-07-31T02:27:15.515Z"
   },
   {
    "duration": 229,
    "start_time": "2024-07-31T02:27:15.807Z"
   },
   {
    "duration": 7,
    "start_time": "2024-07-31T02:27:32.851Z"
   },
   {
    "duration": 7,
    "start_time": "2024-07-31T02:30:24.896Z"
   },
   {
    "duration": 66107,
    "start_time": "2024-07-31T02:30:25.741Z"
   },
   {
    "duration": 0,
    "start_time": "2024-07-31T02:31:31.852Z"
   },
   {
    "duration": 0,
    "start_time": "2024-07-31T02:31:31.853Z"
   },
   {
    "duration": 7,
    "start_time": "2024-07-31T02:31:43.474Z"
   },
   {
    "duration": 1209,
    "start_time": "2024-07-31T02:31:43.936Z"
   },
   {
    "duration": 5,
    "start_time": "2024-07-31T02:31:45.571Z"
   },
   {
    "duration": 7,
    "start_time": "2024-07-31T02:31:45.970Z"
   },
   {
    "duration": 21720,
    "start_time": "2024-07-31T02:31:46.559Z"
   },
   {
    "duration": 0,
    "start_time": "2024-07-31T02:32:08.283Z"
   },
   {
    "duration": 1,
    "start_time": "2024-07-31T02:32:08.285Z"
   },
   {
    "duration": 7,
    "start_time": "2024-07-31T02:32:14.841Z"
   },
   {
    "duration": 6,
    "start_time": "2024-07-31T02:32:15.769Z"
   },
   {
    "duration": 154,
    "start_time": "2024-07-31T02:32:16.107Z"
   },
   {
    "duration": 316,
    "start_time": "2024-07-31T02:32:17.325Z"
   },
   {
    "duration": 288,
    "start_time": "2024-07-31T02:32:17.672Z"
   },
   {
    "duration": 77,
    "start_time": "2024-07-31T02:32:17.963Z"
   },
   {
    "duration": 34,
    "start_time": "2024-07-31T02:32:18.100Z"
   },
   {
    "duration": 6,
    "start_time": "2024-07-31T02:32:18.426Z"
   },
   {
    "duration": 7,
    "start_time": "2024-07-31T02:32:32.366Z"
   },
   {
    "duration": 1109,
    "start_time": "2024-07-31T02:32:32.708Z"
   },
   {
    "duration": 4,
    "start_time": "2024-07-31T02:32:34.450Z"
   },
   {
    "duration": 7,
    "start_time": "2024-07-31T02:32:35.200Z"
   },
   {
    "duration": 57285,
    "start_time": "2024-07-31T02:32:36.014Z"
   },
   {
    "duration": 5237,
    "start_time": "2024-07-31T19:21:42.022Z"
   },
   {
    "duration": 495,
    "start_time": "2024-07-31T19:21:48.823Z"
   },
   {
    "duration": 18,
    "start_time": "2024-07-31T19:21:52.048Z"
   },
   {
    "duration": 5211,
    "start_time": "2024-08-04T19:24:57.164Z"
   },
   {
    "duration": 511,
    "start_time": "2024-08-04T19:25:02.379Z"
   },
   {
    "duration": 18,
    "start_time": "2024-08-04T19:25:02.893Z"
   },
   {
    "duration": 47,
    "start_time": "2024-08-04T19:25:02.915Z"
   },
   {
    "duration": 422,
    "start_time": "2024-08-04T19:25:02.969Z"
   },
   {
    "duration": 1832,
    "start_time": "2024-08-04T19:25:03.402Z"
   },
   {
    "duration": 20,
    "start_time": "2024-08-04T19:25:05.238Z"
   },
   {
    "duration": 17,
    "start_time": "2024-08-04T19:25:05.262Z"
   },
   {
    "duration": 18,
    "start_time": "2024-08-04T19:25:05.301Z"
   },
   {
    "duration": 23,
    "start_time": "2024-08-04T19:25:05.321Z"
   },
   {
    "duration": 54,
    "start_time": "2024-08-04T19:25:05.347Z"
   },
   {
    "duration": 14,
    "start_time": "2024-08-04T19:25:05.404Z"
   },
   {
    "duration": 21,
    "start_time": "2024-08-04T19:25:05.421Z"
   },
   {
    "duration": 58,
    "start_time": "2024-08-04T19:25:05.448Z"
   },
   {
    "duration": 6,
    "start_time": "2024-08-04T19:25:05.509Z"
   },
   {
    "duration": 84,
    "start_time": "2024-08-04T19:25:05.518Z"
   },
   {
    "duration": 43,
    "start_time": "2024-08-04T19:25:05.606Z"
   },
   {
    "duration": 166,
    "start_time": "2024-08-04T19:25:05.653Z"
   },
   {
    "duration": 4,
    "start_time": "2024-08-04T19:25:05.822Z"
   },
   {
    "duration": 6,
    "start_time": "2024-08-04T19:25:05.829Z"
   },
   {
    "duration": 6,
    "start_time": "2024-08-04T19:25:05.904Z"
   },
   {
    "duration": 8,
    "start_time": "2024-08-04T19:25:05.913Z"
   },
   {
    "duration": 81,
    "start_time": "2024-08-04T19:25:05.923Z"
   },
   {
    "duration": 5,
    "start_time": "2024-08-04T19:25:29.365Z"
   },
   {
    "duration": 525,
    "start_time": "2024-08-04T19:27:09.927Z"
   },
   {
    "duration": 5,
    "start_time": "2024-08-04T19:27:18.864Z"
   },
   {
    "duration": 26,
    "start_time": "2024-08-04T19:27:23.331Z"
   },
   {
    "duration": 27,
    "start_time": "2024-08-04T19:28:02.793Z"
   },
   {
    "duration": 5,
    "start_time": "2024-08-04T19:28:06.939Z"
   },
   {
    "duration": 450,
    "start_time": "2024-08-04T19:28:51.197Z"
   },
   {
    "duration": 5,
    "start_time": "2024-08-04T19:29:34.622Z"
   },
   {
    "duration": 26,
    "start_time": "2024-08-04T19:29:35.094Z"
   },
   {
    "duration": 83,
    "start_time": "2024-08-04T19:29:35.558Z"
   },
   {
    "duration": 103,
    "start_time": "2024-08-04T19:30:24.112Z"
   },
   {
    "duration": 5,
    "start_time": "2024-08-04T19:33:01.518Z"
   },
   {
    "duration": 25,
    "start_time": "2024-08-04T19:33:02.139Z"
   },
   {
    "duration": 125,
    "start_time": "2024-08-04T19:33:05.685Z"
   },
   {
    "duration": 7,
    "start_time": "2024-08-04T19:33:43.578Z"
   },
   {
    "duration": 5,
    "start_time": "2024-08-04T19:33:45.739Z"
   },
   {
    "duration": 26,
    "start_time": "2024-08-04T19:33:46.046Z"
   },
   {
    "duration": 348,
    "start_time": "2024-08-04T19:33:57.355Z"
   },
   {
    "duration": 310,
    "start_time": "2024-08-04T19:36:38.095Z"
   },
   {
    "duration": 3,
    "start_time": "2024-08-04T19:36:49.747Z"
   },
   {
    "duration": 3,
    "start_time": "2024-08-04T19:36:52.796Z"
   },
   {
    "duration": 3,
    "start_time": "2024-08-04T19:36:55.979Z"
   },
   {
    "duration": 5,
    "start_time": "2024-08-04T19:41:06.443Z"
   },
   {
    "duration": 408,
    "start_time": "2024-08-04T19:41:06.453Z"
   },
   {
    "duration": 15,
    "start_time": "2024-08-04T19:41:06.864Z"
   },
   {
    "duration": 62,
    "start_time": "2024-08-04T19:41:06.882Z"
   },
   {
    "duration": 399,
    "start_time": "2024-08-04T19:41:06.949Z"
   },
   {
    "duration": 1662,
    "start_time": "2024-08-04T19:41:07.351Z"
   },
   {
    "duration": 18,
    "start_time": "2024-08-04T19:41:09.016Z"
   },
   {
    "duration": 17,
    "start_time": "2024-08-04T19:41:09.038Z"
   },
   {
    "duration": 55,
    "start_time": "2024-08-04T19:41:09.058Z"
   },
   {
    "duration": 22,
    "start_time": "2024-08-04T19:41:09.116Z"
   },
   {
    "duration": 18,
    "start_time": "2024-08-04T19:41:09.144Z"
   },
   {
    "duration": 47,
    "start_time": "2024-08-04T19:41:09.165Z"
   },
   {
    "duration": 26,
    "start_time": "2024-08-04T19:41:09.215Z"
   },
   {
    "duration": 56,
    "start_time": "2024-08-04T19:41:09.244Z"
   },
   {
    "duration": 8,
    "start_time": "2024-08-04T19:41:09.304Z"
   },
   {
    "duration": 86,
    "start_time": "2024-08-04T19:41:09.316Z"
   },
   {
    "duration": 39,
    "start_time": "2024-08-04T19:41:09.406Z"
   },
   {
    "duration": 164,
    "start_time": "2024-08-04T19:41:09.448Z"
   },
   {
    "duration": 4,
    "start_time": "2024-08-04T19:41:09.616Z"
   },
   {
    "duration": 6,
    "start_time": "2024-08-04T19:41:09.623Z"
   },
   {
    "duration": 10,
    "start_time": "2024-08-04T19:41:09.702Z"
   },
   {
    "duration": 84,
    "start_time": "2024-08-04T19:41:09.716Z"
   },
   {
    "duration": 8,
    "start_time": "2024-08-04T19:41:16.709Z"
   },
   {
    "duration": 7,
    "start_time": "2024-08-04T19:42:49.407Z"
   },
   {
    "duration": 45,
    "start_time": "2024-08-04T19:42:52.089Z"
   },
   {
    "duration": 43,
    "start_time": "2024-08-04T19:42:57.597Z"
   },
   {
    "duration": 6,
    "start_time": "2024-08-04T19:46:01.369Z"
   },
   {
    "duration": 98,
    "start_time": "2024-08-04T19:46:26.817Z"
   },
   {
    "duration": 5,
    "start_time": "2024-08-04T19:46:43.947Z"
   },
   {
    "duration": 175,
    "start_time": "2024-08-04T19:47:01.752Z"
   },
   {
    "duration": 245,
    "start_time": "2024-08-04T19:47:09.570Z"
   },
   {
    "duration": 180,
    "start_time": "2024-08-04T19:47:16.542Z"
   },
   {
    "duration": 6,
    "start_time": "2024-08-04T19:49:06.743Z"
   },
   {
    "duration": 7,
    "start_time": "2024-08-04T19:49:07.596Z"
   },
   {
    "duration": 6,
    "start_time": "2024-08-04T19:49:08.460Z"
   },
   {
    "duration": 6,
    "start_time": "2024-08-04T19:51:40.226Z"
   },
   {
    "duration": 109,
    "start_time": "2024-08-04T19:51:40.903Z"
   },
   {
    "duration": 6,
    "start_time": "2024-08-04T19:51:49.993Z"
   },
   {
    "duration": 124,
    "start_time": "2024-08-04T19:51:50.883Z"
   },
   {
    "duration": 7,
    "start_time": "2024-08-04T19:52:57.634Z"
   },
   {
    "duration": 45,
    "start_time": "2024-08-04T19:52:59.227Z"
   },
   {
    "duration": 40,
    "start_time": "2024-08-04T19:53:02.121Z"
   },
   {
    "duration": 6,
    "start_time": "2024-08-04T19:53:19.162Z"
   },
   {
    "duration": 557,
    "start_time": "2024-08-04T19:53:22.223Z"
   },
   {
    "duration": 6,
    "start_time": "2024-08-04T19:54:20.231Z"
   },
   {
    "duration": 40,
    "start_time": "2024-08-04T19:54:20.637Z"
   },
   {
    "duration": 6,
    "start_time": "2024-08-04T19:54:25.337Z"
   },
   {
    "duration": 234,
    "start_time": "2024-08-04T19:54:25.721Z"
   },
   {
    "duration": 10,
    "start_time": "2024-08-04T19:55:13.896Z"
   },
   {
    "duration": 242,
    "start_time": "2024-08-04T19:55:14.485Z"
   },
   {
    "duration": 5,
    "start_time": "2024-08-04T19:55:26.645Z"
   },
   {
    "duration": 182,
    "start_time": "2024-08-04T19:55:27.258Z"
   },
   {
    "duration": 6,
    "start_time": "2024-08-04T19:56:16.391Z"
   },
   {
    "duration": 200,
    "start_time": "2024-08-04T19:56:17.337Z"
   },
   {
    "duration": 26,
    "start_time": "2024-08-04T19:56:32.361Z"
   },
   {
    "duration": 43,
    "start_time": "2024-08-04T19:56:38.448Z"
   },
   {
    "duration": 8,
    "start_time": "2024-08-04T19:56:50.061Z"
   },
   {
    "duration": 211,
    "start_time": "2024-08-04T19:56:52.818Z"
   },
   {
    "duration": 49,
    "start_time": "2024-08-04T19:57:17.939Z"
   },
   {
    "duration": 6,
    "start_time": "2024-08-04T19:57:44.713Z"
   },
   {
    "duration": 90,
    "start_time": "2024-08-04T19:57:45.524Z"
   },
   {
    "duration": 5,
    "start_time": "2024-08-04T19:58:05.082Z"
   },
   {
    "duration": 69,
    "start_time": "2024-08-04T19:58:05.447Z"
   },
   {
    "duration": 5,
    "start_time": "2024-08-04T19:58:16.231Z"
   },
   {
    "duration": 243,
    "start_time": "2024-08-04T19:58:17.376Z"
   },
   {
    "duration": 243,
    "start_time": "2024-08-04T19:58:22.276Z"
   },
   {
    "duration": 232,
    "start_time": "2024-08-04T19:58:26.697Z"
   },
   {
    "duration": 6,
    "start_time": "2024-08-04T20:05:07.777Z"
   },
   {
    "duration": 1293,
    "start_time": "2024-08-04T20:05:08.224Z"
   },
   {
    "duration": 1263,
    "start_time": "2024-08-04T20:05:39.160Z"
   },
   {
    "duration": 83,
    "start_time": "2024-08-04T20:06:26.733Z"
   },
   {
    "duration": 137,
    "start_time": "2024-08-04T20:06:47.866Z"
   },
   {
    "duration": 1315,
    "start_time": "2024-08-04T20:06:55.196Z"
   },
   {
    "duration": 1621,
    "start_time": "2024-08-04T20:07:04.123Z"
   },
   {
    "duration": 415,
    "start_time": "2024-08-04T20:07:05.748Z"
   },
   {
    "duration": 20,
    "start_time": "2024-08-04T20:07:06.166Z"
   },
   {
    "duration": 49,
    "start_time": "2024-08-04T20:07:06.203Z"
   },
   {
    "duration": 418,
    "start_time": "2024-08-04T20:07:06.258Z"
   },
   {
    "duration": 1868,
    "start_time": "2024-08-04T20:07:06.682Z"
   },
   {
    "duration": 19,
    "start_time": "2024-08-04T20:07:08.554Z"
   },
   {
    "duration": 27,
    "start_time": "2024-08-04T20:07:08.577Z"
   },
   {
    "duration": 18,
    "start_time": "2024-08-04T20:07:08.607Z"
   },
   {
    "duration": 22,
    "start_time": "2024-08-04T20:07:08.629Z"
   },
   {
    "duration": 58,
    "start_time": "2024-08-04T20:07:08.654Z"
   },
   {
    "duration": 14,
    "start_time": "2024-08-04T20:07:08.714Z"
   },
   {
    "duration": 19,
    "start_time": "2024-08-04T20:07:08.731Z"
   },
   {
    "duration": 50,
    "start_time": "2024-08-04T20:07:08.755Z"
   },
   {
    "duration": 8,
    "start_time": "2024-08-04T20:07:08.809Z"
   },
   {
    "duration": 81,
    "start_time": "2024-08-04T20:07:08.821Z"
   },
   {
    "duration": 53,
    "start_time": "2024-08-04T20:07:08.906Z"
   },
   {
    "duration": 123,
    "start_time": "2024-08-04T20:07:09.003Z"
   },
   {
    "duration": 5,
    "start_time": "2024-08-04T20:07:09.129Z"
   },
   {
    "duration": 72,
    "start_time": "2024-08-04T20:07:09.137Z"
   },
   {
    "duration": 89,
    "start_time": "2024-08-04T20:07:09.213Z"
   },
   {
    "duration": 6,
    "start_time": "2024-08-04T20:07:09.305Z"
   },
   {
    "duration": 6,
    "start_time": "2024-08-04T20:07:09.316Z"
   },
   {
    "duration": 188,
    "start_time": "2024-08-04T20:07:09.325Z"
   },
   {
    "duration": 5,
    "start_time": "2024-08-04T20:07:09.516Z"
   },
   {
    "duration": 388,
    "start_time": "2024-08-04T20:07:09.524Z"
   },
   {
    "duration": 388,
    "start_time": "2024-08-04T20:07:09.915Z"
   },
   {
    "duration": 397,
    "start_time": "2024-08-04T20:07:10.306Z"
   },
   {
    "duration": 4,
    "start_time": "2024-08-04T20:07:10.706Z"
   },
   {
    "duration": 3,
    "start_time": "2024-08-04T20:07:10.713Z"
   },
   {
    "duration": 4,
    "start_time": "2024-08-04T20:07:10.720Z"
   },
   {
    "duration": 277,
    "start_time": "2024-08-04T20:07:10.726Z"
   },
   {
    "duration": 7,
    "start_time": "2024-08-04T20:07:11.006Z"
   },
   {
    "duration": 1212,
    "start_time": "2024-08-04T20:07:12.614Z"
   },
   {
    "duration": 1497,
    "start_time": "2024-08-04T20:07:56.200Z"
   },
   {
    "duration": 119,
    "start_time": "2024-08-04T20:08:03.185Z"
   },
   {
    "duration": 64,
    "start_time": "2024-08-04T20:08:13.466Z"
   },
   {
    "duration": 74,
    "start_time": "2024-08-04T20:08:20.534Z"
   },
   {
    "duration": 94,
    "start_time": "2024-08-04T20:08:33.313Z"
   },
   {
    "duration": 100,
    "start_time": "2024-08-04T20:10:06.505Z"
   },
   {
    "duration": 61,
    "start_time": "2024-08-04T20:10:11.867Z"
   },
   {
    "duration": 111,
    "start_time": "2024-08-04T20:10:58.208Z"
   },
   {
    "duration": 6,
    "start_time": "2024-08-04T20:11:10.112Z"
   },
   {
    "duration": 408,
    "start_time": "2024-08-04T20:11:10.123Z"
   },
   {
    "duration": 15,
    "start_time": "2024-08-04T20:11:10.534Z"
   },
   {
    "duration": 71,
    "start_time": "2024-08-04T20:11:10.553Z"
   },
   {
    "duration": 392,
    "start_time": "2024-08-04T20:11:10.629Z"
   },
   {
    "duration": 1748,
    "start_time": "2024-08-04T20:11:11.024Z"
   },
   {
    "duration": 31,
    "start_time": "2024-08-04T20:11:12.775Z"
   },
   {
    "duration": 17,
    "start_time": "2024-08-04T20:11:12.809Z"
   },
   {
    "duration": 18,
    "start_time": "2024-08-04T20:11:12.830Z"
   },
   {
    "duration": 60,
    "start_time": "2024-08-04T20:11:12.850Z"
   },
   {
    "duration": 17,
    "start_time": "2024-08-04T20:11:12.913Z"
   },
   {
    "duration": 13,
    "start_time": "2024-08-04T20:11:12.933Z"
   },
   {
    "duration": 53,
    "start_time": "2024-08-04T20:11:12.949Z"
   },
   {
    "duration": 6,
    "start_time": "2024-08-04T20:11:13.007Z"
   },
   {
    "duration": 5,
    "start_time": "2024-08-04T20:11:13.016Z"
   },
   {
    "duration": 79,
    "start_time": "2024-08-04T20:11:13.024Z"
   },
   {
    "duration": 97,
    "start_time": "2024-08-04T20:11:13.107Z"
   },
   {
    "duration": 124,
    "start_time": "2024-08-04T20:11:13.207Z"
   },
   {
    "duration": 62,
    "start_time": "2024-08-04T20:11:13.340Z"
   },
   {
    "duration": 8,
    "start_time": "2024-08-04T20:11:13.406Z"
   },
   {
    "duration": 82,
    "start_time": "2024-08-04T20:11:13.421Z"
   },
   {
    "duration": 6,
    "start_time": "2024-08-04T20:11:13.506Z"
   },
   {
    "duration": 139,
    "start_time": "2024-08-04T20:11:13.515Z"
   },
   {
    "duration": 118,
    "start_time": "2024-08-04T20:11:13.694Z"
   },
   {
    "duration": 18,
    "start_time": "2024-08-04T20:11:22.265Z"
   },
   {
    "duration": 110,
    "start_time": "2024-08-04T20:11:36.116Z"
   },
   {
    "duration": 24,
    "start_time": "2024-08-04T20:13:03.916Z"
   },
   {
    "duration": 43,
    "start_time": "2024-08-04T20:13:08.890Z"
   },
   {
    "duration": 87,
    "start_time": "2024-08-04T20:13:40.729Z"
   },
   {
    "duration": 110,
    "start_time": "2024-08-04T20:13:47.603Z"
   },
   {
    "duration": 137,
    "start_time": "2024-08-04T20:13:50.067Z"
   },
   {
    "duration": 249,
    "start_time": "2024-08-04T20:14:05.775Z"
   },
   {
    "duration": 232,
    "start_time": "2024-08-04T20:14:15.798Z"
   },
   {
    "duration": 17,
    "start_time": "2024-08-04T20:14:40.201Z"
   },
   {
    "duration": 7,
    "start_time": "2024-08-04T20:15:12.116Z"
   },
   {
    "duration": 7,
    "start_time": "2024-08-04T20:15:35.481Z"
   },
   {
    "duration": 6,
    "start_time": "2024-08-04T20:17:01.178Z"
   },
   {
    "duration": 197,
    "start_time": "2024-08-04T20:17:01.637Z"
   },
   {
    "duration": 257,
    "start_time": "2024-08-04T20:17:04.658Z"
   },
   {
    "duration": 185,
    "start_time": "2024-08-04T20:17:09.345Z"
   },
   {
    "duration": 1641,
    "start_time": "2024-08-04T20:18:57.129Z"
   },
   {
    "duration": 392,
    "start_time": "2024-08-04T20:18:58.773Z"
   },
   {
    "duration": 33,
    "start_time": "2024-08-04T20:18:59.168Z"
   },
   {
    "duration": 49,
    "start_time": "2024-08-04T20:18:59.205Z"
   },
   {
    "duration": 421,
    "start_time": "2024-08-04T20:18:59.262Z"
   },
   {
    "duration": 1754,
    "start_time": "2024-08-04T20:18:59.688Z"
   },
   {
    "duration": 19,
    "start_time": "2024-08-04T20:19:01.446Z"
   },
   {
    "duration": 18,
    "start_time": "2024-08-04T20:19:01.469Z"
   },
   {
    "duration": 25,
    "start_time": "2024-08-04T20:19:01.491Z"
   },
   {
    "duration": 23,
    "start_time": "2024-08-04T20:19:01.519Z"
   },
   {
    "duration": 19,
    "start_time": "2024-08-04T20:19:01.545Z"
   },
   {
    "duration": 48,
    "start_time": "2024-08-04T20:19:01.567Z"
   },
   {
    "duration": 20,
    "start_time": "2024-08-04T20:19:01.618Z"
   },
   {
    "duration": 69,
    "start_time": "2024-08-04T20:19:01.643Z"
   },
   {
    "duration": 82,
    "start_time": "2024-08-04T20:19:01.721Z"
   },
   {
    "duration": 8,
    "start_time": "2024-08-04T20:19:01.806Z"
   },
   {
    "duration": 85,
    "start_time": "2024-08-04T20:19:01.818Z"
   },
   {
    "duration": 122,
    "start_time": "2024-08-04T20:19:01.906Z"
   },
   {
    "duration": 4,
    "start_time": "2024-08-04T20:19:02.033Z"
   },
   {
    "duration": 64,
    "start_time": "2024-08-04T20:19:02.041Z"
   },
   {
    "duration": 6,
    "start_time": "2024-08-04T20:19:02.109Z"
   },
   {
    "duration": 6,
    "start_time": "2024-08-04T20:19:02.118Z"
   },
   {
    "duration": 6,
    "start_time": "2024-08-04T20:19:02.203Z"
   },
   {
    "duration": 5,
    "start_time": "2024-08-04T20:19:02.213Z"
   },
   {
    "duration": 389,
    "start_time": "2024-08-04T20:19:02.221Z"
   },
   {
    "duration": 397,
    "start_time": "2024-08-04T20:19:02.613Z"
   },
   {
    "duration": 395,
    "start_time": "2024-08-04T20:19:03.014Z"
   },
   {
    "duration": 4,
    "start_time": "2024-08-04T20:19:03.412Z"
   },
   {
    "duration": 4,
    "start_time": "2024-08-04T20:19:03.419Z"
   },
   {
    "duration": 78,
    "start_time": "2024-08-04T20:19:03.426Z"
   },
   {
    "duration": 116,
    "start_time": "2024-08-04T20:19:03.508Z"
   },
   {
    "duration": 9,
    "start_time": "2024-08-04T20:19:03.707Z"
   },
   {
    "duration": 1305,
    "start_time": "2024-08-04T20:19:03.723Z"
   },
   {
    "duration": 3,
    "start_time": "2024-08-04T20:19:07.978Z"
   },
   {
    "duration": 6,
    "start_time": "2024-08-04T20:20:30.322Z"
   },
   {
    "duration": 512,
    "start_time": "2024-08-04T20:20:32.327Z"
   },
   {
    "duration": 9,
    "start_time": "2024-08-04T20:20:41.205Z"
   },
   {
    "duration": 397,
    "start_time": "2024-08-04T20:20:41.668Z"
   },
   {
    "duration": 6,
    "start_time": "2024-08-04T20:22:34.202Z"
   },
   {
    "duration": 114,
    "start_time": "2024-08-04T20:22:34.996Z"
   },
   {
    "duration": 7,
    "start_time": "2024-08-04T20:22:44.157Z"
   },
   {
    "duration": 260,
    "start_time": "2024-08-04T20:22:44.643Z"
   },
   {
    "duration": 26,
    "start_time": "2024-08-04T20:23:20.021Z"
   },
   {
    "duration": 22,
    "start_time": "2024-08-04T20:23:23.525Z"
   },
   {
    "duration": 198,
    "start_time": "2024-08-04T20:24:08.304Z"
   },
   {
    "duration": 178,
    "start_time": "2024-08-04T20:24:13.637Z"
   },
   {
    "duration": 77,
    "start_time": "2024-08-04T20:24:15.629Z"
   },
   {
    "duration": 9,
    "start_time": "2024-08-04T20:24:51.348Z"
   },
   {
    "duration": 267,
    "start_time": "2024-08-04T20:25:07.760Z"
   },
   {
    "duration": 58,
    "start_time": "2024-08-04T20:26:13.176Z"
   },
   {
    "duration": 194,
    "start_time": "2024-08-04T20:26:17.107Z"
   },
   {
    "duration": 91,
    "start_time": "2024-08-04T20:26:22.015Z"
   },
   {
    "duration": 6,
    "start_time": "2024-08-04T20:27:44.657Z"
   },
   {
    "duration": 49,
    "start_time": "2024-08-04T20:27:45.285Z"
   },
   {
    "duration": 6,
    "start_time": "2024-08-04T20:27:51.712Z"
   },
   {
    "duration": 30100,
    "start_time": "2024-08-04T20:27:52.168Z"
   },
   {
    "duration": 6,
    "start_time": "2024-08-04T20:29:10.789Z"
   },
   {
    "duration": 9915,
    "start_time": "2024-08-04T20:29:11.246Z"
   },
   {
    "duration": 7,
    "start_time": "2024-08-04T20:29:38.732Z"
   },
   {
    "duration": 1636,
    "start_time": "2024-08-04T20:30:02.952Z"
   },
   {
    "duration": 512,
    "start_time": "2024-08-04T20:30:04.593Z"
   },
   {
    "duration": 21,
    "start_time": "2024-08-04T20:30:05.108Z"
   },
   {
    "duration": 45,
    "start_time": "2024-08-04T20:30:05.132Z"
   },
   {
    "duration": 407,
    "start_time": "2024-08-04T20:30:05.202Z"
   },
   {
    "duration": 1845,
    "start_time": "2024-08-04T20:30:05.613Z"
   },
   {
    "duration": 20,
    "start_time": "2024-08-04T20:30:07.461Z"
   },
   {
    "duration": 31,
    "start_time": "2024-08-04T20:30:07.484Z"
   },
   {
    "duration": 18,
    "start_time": "2024-08-04T20:30:07.518Z"
   },
   {
    "duration": 26,
    "start_time": "2024-08-04T20:30:07.539Z"
   },
   {
    "duration": 18,
    "start_time": "2024-08-04T20:30:07.604Z"
   },
   {
    "duration": 14,
    "start_time": "2024-08-04T20:30:07.625Z"
   },
   {
    "duration": 60,
    "start_time": "2024-08-04T20:30:07.642Z"
   },
   {
    "duration": 12,
    "start_time": "2024-08-04T20:30:07.708Z"
   },
   {
    "duration": 77,
    "start_time": "2024-08-04T20:30:07.723Z"
   },
   {
    "duration": 8,
    "start_time": "2024-08-04T20:30:07.803Z"
   },
   {
    "duration": 91,
    "start_time": "2024-08-04T20:30:07.814Z"
   },
   {
    "duration": 122,
    "start_time": "2024-08-04T20:30:07.908Z"
   },
   {
    "duration": 4,
    "start_time": "2024-08-04T20:30:08.033Z"
   },
   {
    "duration": 63,
    "start_time": "2024-08-04T20:30:08.040Z"
   },
   {
    "duration": 8,
    "start_time": "2024-08-04T20:30:08.105Z"
   },
   {
    "duration": 86,
    "start_time": "2024-08-04T20:30:08.116Z"
   },
   {
    "duration": 8,
    "start_time": "2024-08-04T20:30:08.205Z"
   },
   {
    "duration": 7,
    "start_time": "2024-08-04T20:30:08.217Z"
   },
   {
    "duration": 376,
    "start_time": "2024-08-04T20:30:08.227Z"
   },
   {
    "duration": 399,
    "start_time": "2024-08-04T20:30:08.607Z"
   },
   {
    "duration": 403,
    "start_time": "2024-08-04T20:30:09.010Z"
   },
   {
    "duration": 3,
    "start_time": "2024-08-04T20:30:09.416Z"
   },
   {
    "duration": 80,
    "start_time": "2024-08-04T20:30:09.423Z"
   },
   {
    "duration": 5,
    "start_time": "2024-08-04T20:30:09.506Z"
   },
   {
    "duration": 110,
    "start_time": "2024-08-04T20:30:09.514Z"
   },
   {
    "duration": 12,
    "start_time": "2024-08-04T20:30:09.702Z"
   },
   {
    "duration": 1306,
    "start_time": "2024-08-04T20:30:09.717Z"
   },
   {
    "duration": 4,
    "start_time": "2024-08-04T20:30:11.026Z"
   },
   {
    "duration": 8,
    "start_time": "2024-08-04T20:30:11.033Z"
   },
   {
    "duration": 159,
    "start_time": "2024-08-04T20:30:11.044Z"
   },
   {
    "duration": 1015,
    "start_time": "2024-08-04T20:30:11.206Z"
   },
   {
    "duration": 6,
    "start_time": "2024-08-04T20:31:06.953Z"
   },
   {
    "duration": 30261,
    "start_time": "2024-08-04T20:31:07.321Z"
   },
   {
    "duration": 6,
    "start_time": "2024-08-04T20:34:05.413Z"
   },
   {
    "duration": 13,
    "start_time": "2024-08-04T20:35:35.104Z"
   },
   {
    "duration": 323,
    "start_time": "2024-08-04T20:35:36.529Z"
   },
   {
    "duration": 1652,
    "start_time": "2024-08-04T20:35:44.132Z"
   },
   {
    "duration": 551,
    "start_time": "2024-08-04T20:35:45.788Z"
   },
   {
    "duration": 20,
    "start_time": "2024-08-04T20:35:46.342Z"
   },
   {
    "duration": 71,
    "start_time": "2024-08-04T20:35:46.366Z"
   },
   {
    "duration": 460,
    "start_time": "2024-08-04T20:35:46.442Z"
   },
   {
    "duration": 1780,
    "start_time": "2024-08-04T20:35:46.905Z"
   },
   {
    "duration": 23,
    "start_time": "2024-08-04T20:35:48.688Z"
   },
   {
    "duration": 18,
    "start_time": "2024-08-04T20:35:48.714Z"
   },
   {
    "duration": 20,
    "start_time": "2024-08-04T20:35:48.735Z"
   },
   {
    "duration": 60,
    "start_time": "2024-08-04T20:35:48.759Z"
   },
   {
    "duration": 21,
    "start_time": "2024-08-04T20:35:48.823Z"
   },
   {
    "duration": 22,
    "start_time": "2024-08-04T20:35:48.848Z"
   },
   {
    "duration": 19,
    "start_time": "2024-08-04T20:35:48.903Z"
   },
   {
    "duration": 6,
    "start_time": "2024-08-04T20:35:48.928Z"
   },
   {
    "duration": 5,
    "start_time": "2024-08-04T20:35:49.002Z"
   },
   {
    "duration": 8,
    "start_time": "2024-08-04T20:35:49.010Z"
   },
   {
    "duration": 128,
    "start_time": "2024-08-04T20:35:49.022Z"
   },
   {
    "duration": 168,
    "start_time": "2024-08-04T20:35:49.153Z"
   },
   {
    "duration": 4,
    "start_time": "2024-08-04T20:35:49.324Z"
   },
   {
    "duration": 71,
    "start_time": "2024-08-04T20:35:49.331Z"
   },
   {
    "duration": 9,
    "start_time": "2024-08-04T20:35:49.405Z"
   },
   {
    "duration": 8,
    "start_time": "2024-08-04T20:35:49.417Z"
   },
   {
    "duration": 6,
    "start_time": "2024-08-04T20:35:49.504Z"
   },
   {
    "duration": 5,
    "start_time": "2024-08-04T20:35:49.514Z"
   },
   {
    "duration": 380,
    "start_time": "2024-08-04T20:35:49.523Z"
   },
   {
    "duration": 404,
    "start_time": "2024-08-04T20:35:49.907Z"
   },
   {
    "duration": 395,
    "start_time": "2024-08-04T20:35:50.314Z"
   },
   {
    "duration": 5,
    "start_time": "2024-08-04T20:35:50.713Z"
   },
   {
    "duration": 79,
    "start_time": "2024-08-04T20:35:50.721Z"
   },
   {
    "duration": 4,
    "start_time": "2024-08-04T20:35:50.804Z"
   },
   {
    "duration": 192,
    "start_time": "2024-08-04T20:35:50.811Z"
   },
   {
    "duration": 14,
    "start_time": "2024-08-04T20:35:51.006Z"
   },
   {
    "duration": 1405,
    "start_time": "2024-08-04T20:35:51.024Z"
   },
   {
    "duration": 4,
    "start_time": "2024-08-04T20:35:52.433Z"
   },
   {
    "duration": 9,
    "start_time": "2024-08-04T20:35:52.441Z"
   },
   {
    "duration": 7,
    "start_time": "2024-08-04T20:36:00.447Z"
   },
   {
    "duration": 327,
    "start_time": "2024-08-04T20:36:19.903Z"
   },
   {
    "duration": 10,
    "start_time": "2024-08-04T20:36:24.911Z"
   },
   {
    "duration": 22,
    "start_time": "2024-08-04T20:36:26.115Z"
   },
   {
    "duration": 1698,
    "start_time": "2024-08-04T20:36:36.896Z"
   },
   {
    "duration": 509,
    "start_time": "2024-08-04T20:36:38.598Z"
   },
   {
    "duration": 19,
    "start_time": "2024-08-04T20:36:39.109Z"
   },
   {
    "duration": 75,
    "start_time": "2024-08-04T20:36:39.131Z"
   },
   {
    "duration": 391,
    "start_time": "2024-08-04T20:36:39.211Z"
   },
   {
    "duration": 1813,
    "start_time": "2024-08-04T20:36:39.605Z"
   },
   {
    "duration": 19,
    "start_time": "2024-08-04T20:36:41.422Z"
   },
   {
    "duration": 18,
    "start_time": "2024-08-04T20:36:41.445Z"
   },
   {
    "duration": 44,
    "start_time": "2024-08-04T20:36:41.466Z"
   },
   {
    "duration": 22,
    "start_time": "2024-08-04T20:36:41.513Z"
   },
   {
    "duration": 18,
    "start_time": "2024-08-04T20:36:41.539Z"
   },
   {
    "duration": 46,
    "start_time": "2024-08-04T20:36:41.560Z"
   },
   {
    "duration": 17,
    "start_time": "2024-08-04T20:36:41.609Z"
   },
   {
    "duration": 5,
    "start_time": "2024-08-04T20:36:41.632Z"
   },
   {
    "duration": 6,
    "start_time": "2024-08-04T20:36:41.703Z"
   },
   {
    "duration": 9,
    "start_time": "2024-08-04T20:36:41.712Z"
   },
   {
    "duration": 124,
    "start_time": "2024-08-04T20:36:41.724Z"
   },
   {
    "duration": 181,
    "start_time": "2024-08-04T20:36:41.851Z"
   },
   {
    "duration": 6,
    "start_time": "2024-08-04T20:36:42.102Z"
   },
   {
    "duration": 85,
    "start_time": "2024-08-04T20:36:42.117Z"
   },
   {
    "duration": 7,
    "start_time": "2024-08-04T20:36:42.206Z"
   },
   {
    "duration": 7,
    "start_time": "2024-08-04T20:36:42.217Z"
   },
   {
    "duration": 6,
    "start_time": "2024-08-04T20:36:42.228Z"
   },
   {
    "duration": 5,
    "start_time": "2024-08-04T20:36:42.237Z"
   },
   {
    "duration": 372,
    "start_time": "2024-08-04T20:36:42.246Z"
   },
   {
    "duration": 390,
    "start_time": "2024-08-04T20:36:42.622Z"
   },
   {
    "duration": 392,
    "start_time": "2024-08-04T20:36:43.015Z"
   },
   {
    "duration": 4,
    "start_time": "2024-08-04T20:36:43.411Z"
   },
   {
    "duration": 4,
    "start_time": "2024-08-04T20:36:43.418Z"
   },
   {
    "duration": 3,
    "start_time": "2024-08-04T20:36:43.502Z"
   },
   {
    "duration": 193,
    "start_time": "2024-08-04T20:36:43.509Z"
   },
   {
    "duration": 8,
    "start_time": "2024-08-04T20:36:43.705Z"
   },
   {
    "duration": 1315,
    "start_time": "2024-08-04T20:36:43.715Z"
   },
   {
    "duration": 4,
    "start_time": "2024-08-04T20:36:45.037Z"
   },
   {
    "duration": 8,
    "start_time": "2024-08-04T20:36:45.044Z"
   },
   {
    "duration": 7,
    "start_time": "2024-08-04T20:36:45.057Z"
   },
   {
    "duration": 319,
    "start_time": "2024-08-04T20:37:13.863Z"
   },
   {
    "duration": 7,
    "start_time": "2024-08-04T20:37:21.531Z"
   },
   {
    "duration": 24,
    "start_time": "2024-08-04T20:37:22.099Z"
   },
   {
    "duration": 1670,
    "start_time": "2024-08-04T20:37:31.702Z"
   },
   {
    "duration": 511,
    "start_time": "2024-08-04T20:37:33.375Z"
   },
   {
    "duration": 24,
    "start_time": "2024-08-04T20:37:33.889Z"
   },
   {
    "duration": 47,
    "start_time": "2024-08-04T20:37:33.917Z"
   },
   {
    "duration": 415,
    "start_time": "2024-08-04T20:37:33.968Z"
   },
   {
    "duration": 1887,
    "start_time": "2024-08-04T20:37:34.387Z"
   },
   {
    "duration": 18,
    "start_time": "2024-08-04T20:37:36.278Z"
   },
   {
    "duration": 20,
    "start_time": "2024-08-04T20:37:36.299Z"
   },
   {
    "duration": 17,
    "start_time": "2024-08-04T20:37:36.324Z"
   },
   {
    "duration": 21,
    "start_time": "2024-08-04T20:37:36.347Z"
   },
   {
    "duration": 20,
    "start_time": "2024-08-04T20:37:36.403Z"
   },
   {
    "duration": 13,
    "start_time": "2024-08-04T20:37:36.426Z"
   },
   {
    "duration": 65,
    "start_time": "2024-08-04T20:37:36.442Z"
   },
   {
    "duration": 4,
    "start_time": "2024-08-04T20:37:36.514Z"
   },
   {
    "duration": 79,
    "start_time": "2024-08-04T20:37:36.522Z"
   },
   {
    "duration": 12,
    "start_time": "2024-08-04T20:37:36.606Z"
   },
   {
    "duration": 93,
    "start_time": "2024-08-04T20:37:36.622Z"
   },
   {
    "duration": 123,
    "start_time": "2024-08-04T20:37:36.718Z"
   },
   {
    "duration": 4,
    "start_time": "2024-08-04T20:37:36.844Z"
   },
   {
    "duration": 60,
    "start_time": "2024-08-04T20:37:36.851Z"
   },
   {
    "duration": 14,
    "start_time": "2024-08-04T20:37:36.914Z"
   },
   {
    "duration": 7,
    "start_time": "2024-08-04T20:37:37.003Z"
   },
   {
    "duration": 8,
    "start_time": "2024-08-04T20:37:37.013Z"
   },
   {
    "duration": 6,
    "start_time": "2024-08-04T20:37:37.024Z"
   },
   {
    "duration": 377,
    "start_time": "2024-08-04T20:37:37.032Z"
   },
   {
    "duration": 389,
    "start_time": "2024-08-04T20:37:37.413Z"
   },
   {
    "duration": 403,
    "start_time": "2024-08-04T20:37:37.806Z"
   },
   {
    "duration": 4,
    "start_time": "2024-08-04T20:37:38.217Z"
   },
   {
    "duration": 4,
    "start_time": "2024-08-04T20:37:38.224Z"
   },
   {
    "duration": 4,
    "start_time": "2024-08-04T20:37:38.303Z"
   },
   {
    "duration": 112,
    "start_time": "2024-08-04T20:37:38.310Z"
   },
   {
    "duration": 79,
    "start_time": "2024-08-04T20:37:38.425Z"
   },
   {
    "duration": 1307,
    "start_time": "2024-08-04T20:37:38.507Z"
   },
   {
    "duration": 5,
    "start_time": "2024-08-04T20:37:39.817Z"
   },
   {
    "duration": 8,
    "start_time": "2024-08-04T20:37:39.825Z"
   },
   {
    "duration": 7,
    "start_time": "2024-08-04T20:37:39.838Z"
   },
   {
    "duration": 1637,
    "start_time": "2024-08-04T20:38:11.461Z"
   },
   {
    "duration": 516,
    "start_time": "2024-08-04T20:38:13.102Z"
   },
   {
    "duration": 19,
    "start_time": "2024-08-04T20:38:13.621Z"
   },
   {
    "duration": 71,
    "start_time": "2024-08-04T20:38:13.644Z"
   },
   {
    "duration": 406,
    "start_time": "2024-08-04T20:38:13.721Z"
   },
   {
    "duration": 1703,
    "start_time": "2024-08-04T20:38:14.131Z"
   },
   {
    "duration": 20,
    "start_time": "2024-08-04T20:38:15.837Z"
   },
   {
    "duration": 20,
    "start_time": "2024-08-04T20:38:15.861Z"
   },
   {
    "duration": 21,
    "start_time": "2024-08-04T20:38:15.903Z"
   },
   {
    "duration": 26,
    "start_time": "2024-08-04T20:38:15.930Z"
   },
   {
    "duration": 46,
    "start_time": "2024-08-04T20:38:15.959Z"
   },
   {
    "duration": 16,
    "start_time": "2024-08-04T20:38:16.008Z"
   },
   {
    "duration": 19,
    "start_time": "2024-08-04T20:38:16.027Z"
   },
   {
    "duration": 55,
    "start_time": "2024-08-04T20:38:16.052Z"
   },
   {
    "duration": 7,
    "start_time": "2024-08-04T20:38:16.111Z"
   },
   {
    "duration": 82,
    "start_time": "2024-08-04T20:38:16.122Z"
   },
   {
    "duration": 100,
    "start_time": "2024-08-04T20:38:16.208Z"
   },
   {
    "duration": 122,
    "start_time": "2024-08-04T20:38:16.313Z"
   },
   {
    "duration": 4,
    "start_time": "2024-08-04T20:38:16.437Z"
   },
   {
    "duration": 61,
    "start_time": "2024-08-04T20:38:16.444Z"
   },
   {
    "duration": 7,
    "start_time": "2024-08-04T20:38:16.508Z"
   },
   {
    "duration": 10,
    "start_time": "2024-08-04T20:38:16.518Z"
   },
   {
    "duration": 76,
    "start_time": "2024-08-04T20:38:16.532Z"
   },
   {
    "duration": 5,
    "start_time": "2024-08-04T20:38:16.613Z"
   },
   {
    "duration": 305,
    "start_time": "2024-08-04T20:38:16.622Z"
   },
   {
    "duration": 404,
    "start_time": "2024-08-04T20:38:17.004Z"
   },
   {
    "duration": 398,
    "start_time": "2024-08-04T20:38:17.412Z"
   },
   {
    "duration": 4,
    "start_time": "2024-08-04T20:38:17.813Z"
   },
   {
    "duration": 3,
    "start_time": "2024-08-04T20:38:17.820Z"
   },
   {
    "duration": 5,
    "start_time": "2024-08-04T20:38:17.903Z"
   },
   {
    "duration": 112,
    "start_time": "2024-08-04T20:38:17.912Z"
   },
   {
    "duration": 81,
    "start_time": "2024-08-04T20:38:18.027Z"
   },
   {
    "duration": 1301,
    "start_time": "2024-08-04T20:38:18.111Z"
   },
   {
    "duration": 4,
    "start_time": "2024-08-04T20:38:19.415Z"
   },
   {
    "duration": 8,
    "start_time": "2024-08-04T20:38:19.423Z"
   },
   {
    "duration": 7,
    "start_time": "2024-08-04T20:38:19.434Z"
   },
   {
    "duration": 1649,
    "start_time": "2024-08-04T20:39:09.245Z"
   },
   {
    "duration": 526,
    "start_time": "2024-08-04T20:39:10.898Z"
   },
   {
    "duration": 19,
    "start_time": "2024-08-04T20:39:11.427Z"
   },
   {
    "duration": 68,
    "start_time": "2024-08-04T20:39:11.450Z"
   },
   {
    "duration": 405,
    "start_time": "2024-08-04T20:39:11.523Z"
   },
   {
    "duration": 1843,
    "start_time": "2024-08-04T20:39:11.931Z"
   },
   {
    "duration": 21,
    "start_time": "2024-08-04T20:39:13.778Z"
   },
   {
    "duration": 18,
    "start_time": "2024-08-04T20:39:13.802Z"
   },
   {
    "duration": 18,
    "start_time": "2024-08-04T20:39:13.824Z"
   },
   {
    "duration": 58,
    "start_time": "2024-08-04T20:39:13.845Z"
   },
   {
    "duration": 19,
    "start_time": "2024-08-04T20:39:13.907Z"
   },
   {
    "duration": 14,
    "start_time": "2024-08-04T20:39:13.929Z"
   },
   {
    "duration": 56,
    "start_time": "2024-08-04T20:39:13.946Z"
   },
   {
    "duration": 4,
    "start_time": "2024-08-04T20:39:14.009Z"
   },
   {
    "duration": 5,
    "start_time": "2024-08-04T20:39:14.016Z"
   },
   {
    "duration": 78,
    "start_time": "2024-08-04T20:39:14.025Z"
   },
   {
    "duration": 95,
    "start_time": "2024-08-04T20:39:14.107Z"
   },
   {
    "duration": 133,
    "start_time": "2024-08-04T20:39:14.205Z"
   },
   {
    "duration": 63,
    "start_time": "2024-08-04T20:39:14.344Z"
   },
   {
    "duration": 7,
    "start_time": "2024-08-04T20:39:14.410Z"
   },
   {
    "duration": 83,
    "start_time": "2024-08-04T20:39:14.420Z"
   },
   {
    "duration": 8,
    "start_time": "2024-08-04T20:39:14.506Z"
   },
   {
    "duration": 6,
    "start_time": "2024-08-04T20:39:14.517Z"
   },
   {
    "duration": 6,
    "start_time": "2024-08-04T20:39:14.526Z"
   },
   {
    "duration": 385,
    "start_time": "2024-08-04T20:39:14.535Z"
   },
   {
    "duration": 384,
    "start_time": "2024-08-04T20:39:14.927Z"
   },
   {
    "duration": 397,
    "start_time": "2024-08-04T20:39:15.314Z"
   },
   {
    "duration": 4,
    "start_time": "2024-08-04T20:39:15.714Z"
   },
   {
    "duration": 78,
    "start_time": "2024-08-04T20:39:15.722Z"
   },
   {
    "duration": 4,
    "start_time": "2024-08-04T20:39:15.804Z"
   },
   {
    "duration": 190,
    "start_time": "2024-08-04T20:39:15.815Z"
   },
   {
    "duration": 7,
    "start_time": "2024-08-04T20:39:16.008Z"
   },
   {
    "duration": 1316,
    "start_time": "2024-08-04T20:39:16.019Z"
   },
   {
    "duration": 4,
    "start_time": "2024-08-04T20:39:17.339Z"
   },
   {
    "duration": 9,
    "start_time": "2024-08-04T20:39:17.346Z"
   },
   {
    "duration": 7,
    "start_time": "2024-08-04T20:39:17.359Z"
   },
   {
    "duration": 13,
    "start_time": "2024-08-04T20:40:37.225Z"
   },
   {
    "duration": 1708,
    "start_time": "2024-08-04T20:40:45.574Z"
   },
   {
    "duration": 511,
    "start_time": "2024-08-04T20:40:47.287Z"
   },
   {
    "duration": 19,
    "start_time": "2024-08-04T20:40:47.801Z"
   },
   {
    "duration": 47,
    "start_time": "2024-08-04T20:40:47.823Z"
   },
   {
    "duration": 419,
    "start_time": "2024-08-04T20:40:47.874Z"
   },
   {
    "duration": 1945,
    "start_time": "2024-08-04T20:40:48.301Z"
   },
   {
    "duration": 18,
    "start_time": "2024-08-04T20:40:50.250Z"
   },
   {
    "duration": 20,
    "start_time": "2024-08-04T20:40:50.272Z"
   },
   {
    "duration": 21,
    "start_time": "2024-08-04T20:40:50.295Z"
   },
   {
    "duration": 23,
    "start_time": "2024-08-04T20:40:50.319Z"
   },
   {
    "duration": 17,
    "start_time": "2024-08-04T20:40:50.345Z"
   },
   {
    "duration": 46,
    "start_time": "2024-08-04T20:40:50.365Z"
   },
   {
    "duration": 18,
    "start_time": "2024-08-04T20:40:50.415Z"
   },
   {
    "duration": 67,
    "start_time": "2024-08-04T20:40:50.440Z"
   },
   {
    "duration": 6,
    "start_time": "2024-08-04T20:40:50.510Z"
   },
   {
    "duration": 84,
    "start_time": "2024-08-04T20:40:50.519Z"
   },
   {
    "duration": 45,
    "start_time": "2024-08-04T20:40:50.607Z"
   },
   {
    "duration": 120,
    "start_time": "2024-08-04T20:40:50.703Z"
   },
   {
    "duration": 5,
    "start_time": "2024-08-04T20:40:50.826Z"
   },
   {
    "duration": 70,
    "start_time": "2024-08-04T20:40:50.834Z"
   },
   {
    "duration": 6,
    "start_time": "2024-08-04T20:40:50.907Z"
   },
   {
    "duration": 84,
    "start_time": "2024-08-04T20:40:50.916Z"
   },
   {
    "duration": 7,
    "start_time": "2024-08-04T20:40:51.004Z"
   },
   {
    "duration": 6,
    "start_time": "2024-08-04T20:40:51.014Z"
   },
   {
    "duration": 384,
    "start_time": "2024-08-04T20:40:51.023Z"
   },
   {
    "duration": 399,
    "start_time": "2024-08-04T20:40:51.410Z"
   },
   {
    "duration": 400,
    "start_time": "2024-08-04T20:40:51.812Z"
   },
   {
    "duration": 4,
    "start_time": "2024-08-04T20:40:52.215Z"
   },
   {
    "duration": 81,
    "start_time": "2024-08-04T20:40:52.222Z"
   },
   {
    "duration": 4,
    "start_time": "2024-08-04T20:40:52.306Z"
   },
   {
    "duration": 187,
    "start_time": "2024-08-04T20:40:52.314Z"
   },
   {
    "duration": 9,
    "start_time": "2024-08-04T20:40:52.505Z"
   },
   {
    "duration": 1318,
    "start_time": "2024-08-04T20:40:52.517Z"
   },
   {
    "duration": 7,
    "start_time": "2024-08-04T20:40:53.839Z"
   },
   {
    "duration": 8,
    "start_time": "2024-08-04T20:40:53.849Z"
   },
   {
    "duration": 7,
    "start_time": "2024-08-04T20:40:53.860Z"
   },
   {
    "duration": 7,
    "start_time": "2024-08-04T20:41:34.480Z"
   },
   {
    "duration": 1640,
    "start_time": "2024-08-04T20:42:05.253Z"
   },
   {
    "duration": 527,
    "start_time": "2024-08-04T20:42:06.897Z"
   },
   {
    "duration": 19,
    "start_time": "2024-08-04T20:42:07.428Z"
   },
   {
    "duration": 71,
    "start_time": "2024-08-04T20:42:07.451Z"
   },
   {
    "duration": 411,
    "start_time": "2024-08-04T20:42:07.527Z"
   },
   {
    "duration": 1789,
    "start_time": "2024-08-04T20:42:07.941Z"
   },
   {
    "duration": 21,
    "start_time": "2024-08-04T20:42:09.733Z"
   },
   {
    "duration": 21,
    "start_time": "2024-08-04T20:42:09.758Z"
   },
   {
    "duration": 29,
    "start_time": "2024-08-04T20:42:09.784Z"
   },
   {
    "duration": 23,
    "start_time": "2024-08-04T20:42:09.817Z"
   },
   {
    "duration": 18,
    "start_time": "2024-08-04T20:42:09.843Z"
   },
   {
    "duration": 45,
    "start_time": "2024-08-04T20:42:09.864Z"
   },
   {
    "duration": 21,
    "start_time": "2024-08-04T20:42:09.913Z"
   },
   {
    "duration": 68,
    "start_time": "2024-08-04T20:42:09.940Z"
   },
   {
    "duration": 6,
    "start_time": "2024-08-04T20:42:10.011Z"
   },
   {
    "duration": 84,
    "start_time": "2024-08-04T20:42:10.020Z"
   },
   {
    "duration": 95,
    "start_time": "2024-08-04T20:42:10.107Z"
   },
   {
    "duration": 124,
    "start_time": "2024-08-04T20:42:10.205Z"
   },
   {
    "duration": 4,
    "start_time": "2024-08-04T20:42:10.332Z"
   },
   {
    "duration": 71,
    "start_time": "2024-08-04T20:42:10.339Z"
   },
   {
    "duration": 10,
    "start_time": "2024-08-04T20:42:10.415Z"
   },
   {
    "duration": 6,
    "start_time": "2024-08-04T20:42:10.503Z"
   },
   {
    "duration": 6,
    "start_time": "2024-08-04T20:42:10.513Z"
   },
   {
    "duration": 6,
    "start_time": "2024-08-04T20:42:10.522Z"
   },
   {
    "duration": 381,
    "start_time": "2024-08-04T20:42:10.532Z"
   },
   {
    "duration": 386,
    "start_time": "2024-08-04T20:42:10.917Z"
   },
   {
    "duration": 400,
    "start_time": "2024-08-04T20:42:11.306Z"
   },
   {
    "duration": 5,
    "start_time": "2024-08-04T20:42:11.710Z"
   },
   {
    "duration": 4,
    "start_time": "2024-08-04T20:42:11.720Z"
   },
   {
    "duration": 4,
    "start_time": "2024-08-04T20:42:11.801Z"
   },
   {
    "duration": 193,
    "start_time": "2024-08-04T20:42:11.809Z"
   },
   {
    "duration": 8,
    "start_time": "2024-08-04T20:42:12.005Z"
   },
   {
    "duration": 1314,
    "start_time": "2024-08-04T20:42:12.016Z"
   },
   {
    "duration": 4,
    "start_time": "2024-08-04T20:42:13.334Z"
   },
   {
    "duration": 11,
    "start_time": "2024-08-04T20:42:13.342Z"
   },
   {
    "duration": 6,
    "start_time": "2024-08-04T20:42:13.356Z"
   },
   {
    "duration": 317,
    "start_time": "2024-08-04T20:42:42.150Z"
   },
   {
    "duration": 21,
    "start_time": "2024-08-04T20:44:24.014Z"
   },
   {
    "duration": 1695,
    "start_time": "2024-08-04T20:44:27.004Z"
   },
   {
    "duration": 533,
    "start_time": "2024-08-04T20:44:28.703Z"
   },
   {
    "duration": 18,
    "start_time": "2024-08-04T20:44:29.239Z"
   },
   {
    "duration": 68,
    "start_time": "2024-08-04T20:44:29.261Z"
   },
   {
    "duration": 402,
    "start_time": "2024-08-04T20:44:29.332Z"
   },
   {
    "duration": 1833,
    "start_time": "2024-08-04T20:44:29.737Z"
   },
   {
    "duration": 22,
    "start_time": "2024-08-04T20:44:31.573Z"
   },
   {
    "duration": 18,
    "start_time": "2024-08-04T20:44:31.598Z"
   },
   {
    "duration": 20,
    "start_time": "2024-08-04T20:44:31.620Z"
   },
   {
    "duration": 22,
    "start_time": "2024-08-04T20:44:31.647Z"
   },
   {
    "duration": 19,
    "start_time": "2024-08-04T20:44:31.704Z"
   },
   {
    "duration": 13,
    "start_time": "2024-08-04T20:44:31.726Z"
   },
   {
    "duration": 62,
    "start_time": "2024-08-04T20:44:31.741Z"
   },
   {
    "duration": 5,
    "start_time": "2024-08-04T20:44:31.806Z"
   },
   {
    "duration": 6,
    "start_time": "2024-08-04T20:44:31.814Z"
   },
   {
    "duration": 81,
    "start_time": "2024-08-04T20:44:31.823Z"
   },
   {
    "duration": 95,
    "start_time": "2024-08-04T20:44:31.908Z"
   },
   {
    "duration": 121,
    "start_time": "2024-08-04T20:44:32.007Z"
   },
   {
    "duration": 10,
    "start_time": "2024-08-04T20:44:32.131Z"
   },
   {
    "duration": 7,
    "start_time": "2024-08-04T20:44:32.204Z"
   },
   {
    "duration": 9,
    "start_time": "2024-08-04T20:44:32.214Z"
   },
   {
    "duration": 79,
    "start_time": "2024-08-04T20:44:32.226Z"
   },
   {
    "duration": 13,
    "start_time": "2024-08-04T20:44:32.308Z"
   },
   {
    "duration": 6,
    "start_time": "2024-08-04T20:44:32.324Z"
   },
   {
    "duration": 375,
    "start_time": "2024-08-04T20:44:32.333Z"
   },
   {
    "duration": 396,
    "start_time": "2024-08-04T20:44:32.710Z"
   },
   {
    "duration": 395,
    "start_time": "2024-08-04T20:44:33.109Z"
   },
   {
    "duration": 3,
    "start_time": "2024-08-04T20:44:33.511Z"
   },
   {
    "duration": 3,
    "start_time": "2024-08-04T20:44:33.518Z"
   },
   {
    "duration": 79,
    "start_time": "2024-08-04T20:44:33.524Z"
   },
   {
    "duration": 118,
    "start_time": "2024-08-04T20:44:33.607Z"
   },
   {
    "duration": 80,
    "start_time": "2024-08-04T20:44:33.728Z"
   },
   {
    "duration": 1310,
    "start_time": "2024-08-04T20:44:33.811Z"
   },
   {
    "duration": 5,
    "start_time": "2024-08-04T20:44:35.124Z"
   },
   {
    "duration": 8,
    "start_time": "2024-08-04T20:44:35.133Z"
   },
   {
    "duration": 17,
    "start_time": "2024-08-04T20:44:39.829Z"
   },
   {
    "duration": 30,
    "start_time": "2024-08-04T20:45:08.593Z"
   },
   {
    "duration": 35,
    "start_time": "2024-08-04T20:45:20.843Z"
   },
   {
    "duration": 27,
    "start_time": "2024-08-04T20:45:40.746Z"
   },
   {
    "duration": 76,
    "start_time": "2024-08-04T20:45:54.146Z"
   },
   {
    "duration": 67,
    "start_time": "2024-08-04T20:48:02.946Z"
   },
   {
    "duration": 663,
    "start_time": "2024-08-04T20:48:18.568Z"
   },
   {
    "duration": 75,
    "start_time": "2024-08-04T20:48:29.246Z"
   },
   {
    "duration": 225,
    "start_time": "2024-08-04T20:48:45.116Z"
   },
   {
    "duration": 12,
    "start_time": "2024-08-04T20:48:56.697Z"
   },
   {
    "duration": 91,
    "start_time": "2024-08-04T20:49:02.122Z"
   },
   {
    "duration": 63,
    "start_time": "2024-08-04T20:49:30.278Z"
   },
   {
    "duration": 7,
    "start_time": "2024-08-04T20:51:36.037Z"
   },
   {
    "duration": 127,
    "start_time": "2024-08-04T20:51:37.193Z"
   },
   {
    "duration": 17,
    "start_time": "2024-08-04T20:52:02.469Z"
   },
   {
    "duration": 29,
    "start_time": "2024-08-04T20:52:15.141Z"
   },
   {
    "duration": 4,
    "start_time": "2024-08-04T20:52:18.851Z"
   },
   {
    "duration": 18,
    "start_time": "2024-08-04T20:52:22.415Z"
   },
   {
    "duration": 75,
    "start_time": "2024-08-04T20:52:45.832Z"
   },
   {
    "duration": 131,
    "start_time": "2024-08-04T20:52:50.188Z"
   },
   {
    "duration": 8,
    "start_time": "2024-08-04T20:53:19.919Z"
   },
   {
    "duration": 18,
    "start_time": "2024-08-04T20:53:23.500Z"
   },
   {
    "duration": 6,
    "start_time": "2024-08-04T20:53:36.345Z"
   },
   {
    "duration": 21320,
    "start_time": "2024-08-04T20:53:37.038Z"
   },
   {
    "duration": 6,
    "start_time": "2024-08-04T20:55:19.952Z"
   },
   {
    "duration": 21195,
    "start_time": "2024-08-04T20:55:20.561Z"
   },
   {
    "duration": 7,
    "start_time": "2024-08-04T20:59:04.353Z"
   },
   {
    "duration": 241,
    "start_time": "2024-08-04T20:59:04.827Z"
   },
   {
    "duration": 7,
    "start_time": "2024-08-04T21:00:08.484Z"
   },
   {
    "duration": 1770,
    "start_time": "2024-08-04T21:00:09.144Z"
   },
   {
    "duration": 7,
    "start_time": "2024-08-04T21:00:30.630Z"
   },
   {
    "duration": 1305,
    "start_time": "2024-08-04T21:00:31.074Z"
   },
   {
    "duration": 7,
    "start_time": "2024-08-04T21:01:52.477Z"
   },
   {
    "duration": 1330,
    "start_time": "2024-08-04T21:01:52.956Z"
   },
   {
    "duration": 7,
    "start_time": "2024-08-04T21:02:09.430Z"
   },
   {
    "duration": 1355,
    "start_time": "2024-08-04T21:02:09.881Z"
   },
   {
    "duration": 10,
    "start_time": "2024-08-04T21:02:48.044Z"
   },
   {
    "duration": 6,
    "start_time": "2024-08-04T21:06:19.589Z"
   },
   {
    "duration": 56,
    "start_time": "2024-08-04T21:06:22.537Z"
   },
   {
    "duration": 4,
    "start_time": "2024-08-04T21:06:54.358Z"
   },
   {
    "duration": 43,
    "start_time": "2024-08-04T21:07:15.155Z"
   },
   {
    "duration": 46,
    "start_time": "2024-08-04T21:07:24.632Z"
   },
   {
    "duration": 239,
    "start_time": "2024-08-04T21:08:00.465Z"
   },
   {
    "duration": 162,
    "start_time": "2024-08-04T21:08:28.743Z"
   },
   {
    "duration": 5,
    "start_time": "2024-08-04T21:08:34.282Z"
   },
   {
    "duration": 7,
    "start_time": "2024-08-04T21:08:35.333Z"
   },
   {
    "duration": 6,
    "start_time": "2024-08-04T21:08:37.424Z"
   },
   {
    "duration": 6,
    "start_time": "2024-08-04T21:08:39.833Z"
   },
   {
    "duration": 5,
    "start_time": "2024-08-04T21:08:42.099Z"
   },
   {
    "duration": 5,
    "start_time": "2024-08-04T21:08:43.944Z"
   },
   {
    "duration": 198,
    "start_time": "2024-08-04T21:08:44.722Z"
   },
   {
    "duration": 6,
    "start_time": "2024-08-04T21:08:59.236Z"
   },
   {
    "duration": 241,
    "start_time": "2024-08-04T21:08:59.676Z"
   },
   {
    "duration": 8,
    "start_time": "2024-08-04T21:09:24.130Z"
   },
   {
    "duration": 5,
    "start_time": "2024-08-04T21:09:31.726Z"
   },
   {
    "duration": 323,
    "start_time": "2024-08-04T21:09:32.282Z"
   },
   {
    "duration": 330,
    "start_time": "2024-08-04T21:09:35.790Z"
   },
   {
    "duration": 351,
    "start_time": "2024-08-04T21:10:27.456Z"
   },
   {
    "duration": 101,
    "start_time": "2024-08-04T21:10:42.216Z"
   },
   {
    "duration": 6,
    "start_time": "2024-08-04T21:10:55.528Z"
   },
   {
    "duration": 1297,
    "start_time": "2024-08-04T21:10:56.123Z"
   },
   {
    "duration": 6,
    "start_time": "2024-08-04T21:12:20.476Z"
   },
   {
    "duration": 101,
    "start_time": "2024-08-04T21:12:20.879Z"
   },
   {
    "duration": 7,
    "start_time": "2024-08-04T21:12:42.742Z"
   },
   {
    "duration": 20350,
    "start_time": "2024-08-04T21:12:43.253Z"
   },
   {
    "duration": 5154,
    "start_time": "2024-08-06T22:52:16.217Z"
   },
   {
    "duration": 497,
    "start_time": "2024-08-06T22:52:35.951Z"
   },
   {
    "duration": 16,
    "start_time": "2024-08-06T22:52:37.161Z"
   },
   {
    "duration": 44,
    "start_time": "2024-08-06T22:52:37.542Z"
   },
   {
    "duration": 330,
    "start_time": "2024-08-06T22:52:37.738Z"
   },
   {
    "duration": 1794,
    "start_time": "2024-08-06T22:52:38.071Z"
   },
   {
    "duration": 26,
    "start_time": "2024-08-06T22:52:39.869Z"
   },
   {
    "duration": 20,
    "start_time": "2024-08-06T22:52:39.898Z"
   },
   {
    "duration": 17,
    "start_time": "2024-08-06T22:52:39.925Z"
   },
   {
    "duration": 20,
    "start_time": "2024-08-06T22:52:41.631Z"
   },
   {
    "duration": 18,
    "start_time": "2024-08-06T22:52:43.394Z"
   },
   {
    "duration": 13,
    "start_time": "2024-08-06T22:52:47.827Z"
   },
   {
    "duration": 18,
    "start_time": "2024-08-06T22:52:49.276Z"
   },
   {
    "duration": 5,
    "start_time": "2024-08-06T22:52:49.771Z"
   },
   {
    "duration": 5,
    "start_time": "2024-08-06T22:52:50.035Z"
   },
   {
    "duration": 6,
    "start_time": "2024-08-06T22:52:51.335Z"
   },
   {
    "duration": 175,
    "start_time": "2024-08-06T22:52:51.851Z"
   },
   {
    "duration": 160,
    "start_time": "2024-08-06T22:52:52.367Z"
   },
   {
    "duration": 3,
    "start_time": "2024-08-06T22:52:53.468Z"
   },
   {
    "duration": 6,
    "start_time": "2024-08-06T22:52:53.874Z"
   },
   {
    "duration": 6,
    "start_time": "2024-08-06T22:52:54.089Z"
   },
   {
    "duration": 6,
    "start_time": "2024-08-06T22:52:54.267Z"
   },
   {
    "duration": 5,
    "start_time": "2024-08-06T22:52:55.771Z"
   },
   {
    "duration": 5,
    "start_time": "2024-08-06T22:52:56.637Z"
   },
   {
    "duration": 325,
    "start_time": "2024-08-06T22:52:56.904Z"
   },
   {
    "duration": 314,
    "start_time": "2024-08-06T22:52:57.327Z"
   },
   {
    "duration": 300,
    "start_time": "2024-08-06T22:52:57.832Z"
   },
   {
    "duration": 3,
    "start_time": "2024-08-06T22:52:58.315Z"
   },
   {
    "duration": 7,
    "start_time": "2024-08-06T22:52:58.815Z"
   },
   {
    "duration": 3,
    "start_time": "2024-08-06T22:52:58.998Z"
   },
   {
    "duration": 97,
    "start_time": "2024-08-06T22:54:23.145Z"
   },
   {
    "duration": 18365,
    "start_time": "2024-08-06T22:54:39.430Z"
   },
   {
    "duration": 6,
    "start_time": "2024-08-06T22:55:01.968Z"
   },
   {
    "duration": 1262,
    "start_time": "2024-08-06T22:55:04.961Z"
   },
   {
    "duration": 18390,
    "start_time": "2024-08-06T22:55:10.497Z"
   },
   {
    "duration": 18,
    "start_time": "2024-08-06T22:59:29.964Z"
   },
   {
    "duration": 18165,
    "start_time": "2024-08-06T22:59:51.748Z"
   },
   {
    "duration": 82,
    "start_time": "2024-08-06T23:06:55.962Z"
   },
   {
    "duration": 5182,
    "start_time": "2024-08-07T19:22:39.280Z"
   },
   {
    "duration": 500,
    "start_time": "2024-08-07T19:22:44.466Z"
   },
   {
    "duration": 17,
    "start_time": "2024-08-07T19:22:44.969Z"
   },
   {
    "duration": 62,
    "start_time": "2024-08-07T19:22:44.989Z"
   },
   {
    "duration": 357,
    "start_time": "2024-08-07T19:22:45.056Z"
   },
   {
    "duration": 1746,
    "start_time": "2024-08-07T19:22:45.417Z"
   },
   {
    "duration": 23,
    "start_time": "2024-08-07T19:22:47.166Z"
   },
   {
    "duration": 20,
    "start_time": "2024-08-07T19:22:47.192Z"
   },
   {
    "duration": 17,
    "start_time": "2024-08-07T19:22:47.227Z"
   },
   {
    "duration": 22,
    "start_time": "2024-08-07T19:22:47.247Z"
   },
   {
    "duration": 17,
    "start_time": "2024-08-07T19:22:47.273Z"
   },
   {
    "duration": 44,
    "start_time": "2024-08-07T19:22:47.292Z"
   },
   {
    "duration": 18,
    "start_time": "2024-08-07T19:22:47.339Z"
   },
   {
    "duration": 62,
    "start_time": "2024-08-07T19:22:47.364Z"
   },
   {
    "duration": 6,
    "start_time": "2024-08-07T19:22:47.429Z"
   },
   {
    "duration": 7,
    "start_time": "2024-08-07T19:22:47.439Z"
   },
   {
    "duration": 279,
    "start_time": "2024-08-07T19:22:47.450Z"
   },
   {
    "duration": 311,
    "start_time": "2024-08-07T19:22:47.732Z"
   },
   {
    "duration": 4,
    "start_time": "2024-08-07T19:22:48.046Z"
   },
   {
    "duration": 80,
    "start_time": "2024-08-07T19:22:48.052Z"
   },
   {
    "duration": 83,
    "start_time": "2024-08-07T19:22:48.145Z"
   },
   {
    "duration": 6,
    "start_time": "2024-08-07T19:22:48.232Z"
   },
   {
    "duration": 7,
    "start_time": "2024-08-07T19:22:48.243Z"
   },
   {
    "duration": 7,
    "start_time": "2024-08-07T19:22:48.254Z"
   },
   {
    "duration": 363,
    "start_time": "2024-08-07T19:22:48.265Z"
   },
   {
    "duration": 398,
    "start_time": "2024-08-07T19:22:48.630Z"
   },
   {
    "duration": 397,
    "start_time": "2024-08-07T19:22:49.031Z"
   },
   {
    "duration": 8,
    "start_time": "2024-08-07T19:22:49.435Z"
   },
   {
    "duration": 3,
    "start_time": "2024-08-07T19:22:49.525Z"
   },
   {
    "duration": 3,
    "start_time": "2024-08-07T19:22:49.532Z"
   },
   {
    "duration": 105,
    "start_time": "2024-08-07T19:22:49.538Z"
   },
   {
    "duration": 83,
    "start_time": "2024-08-07T19:22:49.645Z"
   },
   {
    "duration": 1293,
    "start_time": "2024-08-07T19:22:49.731Z"
   },
   {
    "duration": 7,
    "start_time": "2024-08-07T19:23:03.742Z"
   },
   {
    "duration": 14,
    "start_time": "2024-08-07T19:24:42.709Z"
   },
   {
    "duration": 11,
    "start_time": "2024-08-07T19:25:22.458Z"
   },
   {
    "duration": 12,
    "start_time": "2024-08-07T19:25:31.975Z"
   },
   {
    "duration": 85,
    "start_time": "2024-08-07T19:26:30.542Z"
   },
   {
    "duration": 42,
    "start_time": "2024-08-07T19:26:37.289Z"
   },
   {
    "duration": 33,
    "start_time": "2024-08-07T19:30:07.962Z"
   },
   {
    "duration": 43,
    "start_time": "2024-08-07T19:34:18.339Z"
   },
   {
    "duration": 11,
    "start_time": "2024-08-07T19:35:50.637Z"
   },
   {
    "duration": 7,
    "start_time": "2024-08-07T19:35:55.709Z"
   },
   {
    "duration": 42,
    "start_time": "2024-08-07T19:36:04.860Z"
   },
   {
    "duration": 44,
    "start_time": "2024-08-07T19:36:11.095Z"
   },
   {
    "duration": 23,
    "start_time": "2024-08-07T19:37:26.360Z"
   },
   {
    "duration": 431,
    "start_time": "2024-08-07T19:37:49.191Z"
   },
   {
    "duration": 24,
    "start_time": "2024-08-07T19:37:52.312Z"
   },
   {
    "duration": 13,
    "start_time": "2024-08-07T19:38:14.042Z"
   },
   {
    "duration": 87,
    "start_time": "2024-08-07T19:38:18.616Z"
   },
   {
    "duration": 8,
    "start_time": "2024-08-07T19:43:52.379Z"
   },
   {
    "duration": 6,
    "start_time": "2024-08-07T19:44:09.019Z"
   },
   {
    "duration": 6,
    "start_time": "2024-08-07T19:44:43.331Z"
   },
   {
    "duration": 5,
    "start_time": "2024-08-07T19:44:55.346Z"
   },
   {
    "duration": 24,
    "start_time": "2024-08-07T19:45:05.184Z"
   },
   {
    "duration": 73,
    "start_time": "2024-08-07T19:45:09.660Z"
   },
   {
    "duration": 13,
    "start_time": "2024-08-07T19:48:56.777Z"
   },
   {
    "duration": 5,
    "start_time": "2024-08-07T19:48:57.125Z"
   },
   {
    "duration": 6,
    "start_time": "2024-08-07T19:48:57.502Z"
   },
   {
    "duration": 12,
    "start_time": "2024-08-07T19:48:59.876Z"
   },
   {
    "duration": 108,
    "start_time": "2024-08-07T19:49:05.031Z"
   },
   {
    "duration": 8,
    "start_time": "2024-08-07T19:49:29.888Z"
   },
   {
    "duration": 65,
    "start_time": "2024-08-07T19:49:31.770Z"
   },
   {
    "duration": 36,
    "start_time": "2024-08-07T19:49:39.709Z"
   },
   {
    "duration": 122,
    "start_time": "2024-08-07T19:49:52.308Z"
   },
   {
    "duration": 37,
    "start_time": "2024-08-07T19:49:54.406Z"
   },
   {
    "duration": 6,
    "start_time": "2024-08-07T19:50:02.077Z"
   },
   {
    "duration": 6,
    "start_time": "2024-08-07T19:50:06.742Z"
   },
   {
    "duration": 5,
    "start_time": "2024-08-07T19:50:12.347Z"
   },
   {
    "duration": 44,
    "start_time": "2024-08-07T19:50:26.866Z"
   },
   {
    "duration": 5,
    "start_time": "2024-08-07T19:50:58.897Z"
   },
   {
    "duration": 39,
    "start_time": "2024-08-07T19:51:19.480Z"
   },
   {
    "duration": 157,
    "start_time": "2024-08-07T19:51:24.090Z"
   },
   {
    "duration": 38,
    "start_time": "2024-08-07T19:51:26.467Z"
   },
   {
    "duration": 5,
    "start_time": "2024-08-07T19:51:34.278Z"
   },
   {
    "duration": 5,
    "start_time": "2024-08-07T19:51:44.098Z"
   },
   {
    "duration": 90,
    "start_time": "2024-08-07T19:51:49.055Z"
   },
   {
    "duration": 133,
    "start_time": "2024-08-07T19:52:20.907Z"
   },
   {
    "duration": 5,
    "start_time": "2024-08-07T19:52:48.369Z"
   },
   {
    "duration": 5,
    "start_time": "2024-08-07T19:52:50.520Z"
   },
   {
    "duration": 112,
    "start_time": "2024-08-07T19:52:51.528Z"
   },
   {
    "duration": 145,
    "start_time": "2024-08-07T19:52:52.582Z"
   },
   {
    "duration": 128,
    "start_time": "2024-08-07T19:52:53.506Z"
   },
   {
    "duration": 30,
    "start_time": "2024-08-07T19:53:02.291Z"
   },
   {
    "duration": 7,
    "start_time": "2024-08-07T19:53:06.168Z"
   },
   {
    "duration": 1102,
    "start_time": "2024-08-07T19:53:06.643Z"
   },
   {
    "duration": 27,
    "start_time": "2024-08-07T19:57:22.842Z"
   },
   {
    "duration": 24,
    "start_time": "2024-08-07T19:57:27.012Z"
   },
   {
    "duration": 5,
    "start_time": "2024-08-07T19:57:29.951Z"
   },
   {
    "duration": 24,
    "start_time": "2024-08-07T19:57:34.433Z"
   },
   {
    "duration": 22,
    "start_time": "2024-08-07T19:58:26.267Z"
   },
   {
    "duration": 5,
    "start_time": "2024-08-07T19:58:30.853Z"
   },
   {
    "duration": 371,
    "start_time": "2024-08-07T19:58:30.861Z"
   },
   {
    "duration": 15,
    "start_time": "2024-08-07T19:58:31.236Z"
   },
   {
    "duration": 42,
    "start_time": "2024-08-07T19:58:31.254Z"
   },
   {
    "duration": 347,
    "start_time": "2024-08-07T19:58:31.326Z"
   },
   {
    "duration": 1910,
    "start_time": "2024-08-07T19:58:31.675Z"
   },
   {
    "duration": 17,
    "start_time": "2024-08-07T19:58:33.589Z"
   },
   {
    "duration": 17,
    "start_time": "2024-08-07T19:58:33.626Z"
   },
   {
    "duration": 17,
    "start_time": "2024-08-07T19:58:33.645Z"
   },
   {
    "duration": 18,
    "start_time": "2024-08-07T19:58:33.665Z"
   },
   {
    "duration": 15,
    "start_time": "2024-08-07T19:58:33.725Z"
   },
   {
    "duration": 13,
    "start_time": "2024-08-07T19:58:33.744Z"
   },
   {
    "duration": 14,
    "start_time": "2024-08-07T19:58:33.760Z"
   },
   {
    "duration": 51,
    "start_time": "2024-08-07T19:58:33.776Z"
   },
   {
    "duration": 8,
    "start_time": "2024-08-07T19:58:33.829Z"
   },
   {
    "duration": 9,
    "start_time": "2024-08-07T19:58:33.840Z"
   },
   {
    "duration": 275,
    "start_time": "2024-08-07T19:58:33.852Z"
   },
   {
    "duration": 207,
    "start_time": "2024-08-07T19:58:34.130Z"
   },
   {
    "duration": 4,
    "start_time": "2024-08-07T19:58:34.340Z"
   },
   {
    "duration": 87,
    "start_time": "2024-08-07T19:58:34.347Z"
   },
   {
    "duration": 10,
    "start_time": "2024-08-07T19:58:34.438Z"
   },
   {
    "duration": 76,
    "start_time": "2024-08-07T19:58:34.452Z"
   },
   {
    "duration": 5,
    "start_time": "2024-08-07T19:58:34.532Z"
   },
   {
    "duration": 5,
    "start_time": "2024-08-07T19:58:34.540Z"
   },
   {
    "duration": 90,
    "start_time": "2024-08-07T19:58:34.549Z"
   },
   {
    "duration": 108,
    "start_time": "2024-08-07T19:58:34.642Z"
   },
   {
    "duration": 274,
    "start_time": "2024-08-07T19:58:34.752Z"
   },
   {
    "duration": 5,
    "start_time": "2024-08-07T19:58:35.035Z"
   },
   {
    "duration": 69,
    "start_time": "2024-08-07T19:58:35.059Z"
   },
   {
    "duration": 4,
    "start_time": "2024-08-07T19:58:35.131Z"
   },
   {
    "duration": 21,
    "start_time": "2024-08-07T19:58:35.138Z"
   },
   {
    "duration": 7,
    "start_time": "2024-08-07T19:58:35.227Z"
   },
   {
    "duration": 1181,
    "start_time": "2024-08-07T19:58:35.236Z"
   },
   {
    "duration": 7,
    "start_time": "2024-08-07T19:58:36.420Z"
   },
   {
    "duration": 23,
    "start_time": "2024-08-07T19:58:39.024Z"
   },
   {
    "duration": 9,
    "start_time": "2024-08-07T19:58:57.600Z"
   },
   {
    "duration": 4,
    "start_time": "2024-08-07T19:59:16.849Z"
   },
   {
    "duration": 55,
    "start_time": "2024-08-07T19:59:17.671Z"
   },
   {
    "duration": 93,
    "start_time": "2024-08-07T19:59:42.950Z"
   },
   {
    "duration": 27,
    "start_time": "2024-08-07T20:00:24.430Z"
   },
   {
    "duration": 20,
    "start_time": "2024-08-07T20:00:30.846Z"
   },
   {
    "duration": 17,
    "start_time": "2024-08-07T20:00:56.322Z"
   },
   {
    "duration": 30,
    "start_time": "2024-08-07T20:02:23.278Z"
   },
   {
    "duration": 54,
    "start_time": "2024-08-07T20:02:30.143Z"
   },
   {
    "duration": 32,
    "start_time": "2024-08-07T20:02:36.813Z"
   },
   {
    "duration": 29,
    "start_time": "2024-08-07T20:03:22.499Z"
   },
   {
    "duration": 16,
    "start_time": "2024-08-07T20:03:25.094Z"
   },
   {
    "duration": 29,
    "start_time": "2024-08-07T20:03:27.476Z"
   },
   {
    "duration": 22,
    "start_time": "2024-08-07T20:03:49.906Z"
   },
   {
    "duration": 5,
    "start_time": "2024-08-07T20:11:49.344Z"
   },
   {
    "duration": 5,
    "start_time": "2024-08-07T20:12:00.161Z"
   },
   {
    "duration": 67,
    "start_time": "2024-08-07T20:12:14.160Z"
   },
   {
    "duration": 5,
    "start_time": "2024-08-07T20:12:28.399Z"
   },
   {
    "duration": 1536,
    "start_time": "2024-08-07T20:13:11.675Z"
   },
   {
    "duration": 477,
    "start_time": "2024-08-07T20:13:13.215Z"
   },
   {
    "duration": 17,
    "start_time": "2024-08-07T20:13:13.695Z"
   },
   {
    "duration": 52,
    "start_time": "2024-08-07T20:13:13.715Z"
   },
   {
    "duration": 360,
    "start_time": "2024-08-07T20:13:13.771Z"
   },
   {
    "duration": 1811,
    "start_time": "2024-08-07T20:13:14.135Z"
   },
   {
    "duration": 18,
    "start_time": "2024-08-07T20:13:15.950Z"
   },
   {
    "duration": 19,
    "start_time": "2024-08-07T20:13:15.971Z"
   },
   {
    "duration": 37,
    "start_time": "2024-08-07T20:13:15.992Z"
   },
   {
    "duration": 21,
    "start_time": "2024-08-07T20:13:16.032Z"
   },
   {
    "duration": 19,
    "start_time": "2024-08-07T20:13:16.056Z"
   },
   {
    "duration": 13,
    "start_time": "2024-08-07T20:13:16.078Z"
   },
   {
    "duration": 14,
    "start_time": "2024-08-07T20:13:16.129Z"
   },
   {
    "duration": 5,
    "start_time": "2024-08-07T20:13:16.149Z"
   },
   {
    "duration": 71,
    "start_time": "2024-08-07T20:13:16.157Z"
   },
   {
    "duration": 8,
    "start_time": "2024-08-07T20:13:16.231Z"
   },
   {
    "duration": 285,
    "start_time": "2024-08-07T20:13:16.242Z"
   },
   {
    "duration": 298,
    "start_time": "2024-08-07T20:13:16.529Z"
   },
   {
    "duration": 3,
    "start_time": "2024-08-07T20:13:16.830Z"
   },
   {
    "duration": 7,
    "start_time": "2024-08-07T20:13:16.836Z"
   },
   {
    "duration": 81,
    "start_time": "2024-08-07T20:13:16.846Z"
   },
   {
    "duration": 6,
    "start_time": "2024-08-07T20:13:16.930Z"
   },
   {
    "duration": 5,
    "start_time": "2024-08-07T20:13:16.940Z"
   },
   {
    "duration": 5,
    "start_time": "2024-08-07T20:13:16.948Z"
   },
   {
    "duration": 188,
    "start_time": "2024-08-07T20:13:16.957Z"
   },
   {
    "duration": 283,
    "start_time": "2024-08-07T20:13:17.148Z"
   },
   {
    "duration": 210,
    "start_time": "2024-08-07T20:13:17.439Z"
   },
   {
    "duration": 81,
    "start_time": "2024-08-07T20:13:17.652Z"
   },
   {
    "duration": 4,
    "start_time": "2024-08-07T20:13:17.735Z"
   },
   {
    "duration": 4,
    "start_time": "2024-08-07T20:13:17.742Z"
   },
   {
    "duration": 177,
    "start_time": "2024-08-07T20:13:17.750Z"
   },
   {
    "duration": 7,
    "start_time": "2024-08-07T20:13:17.930Z"
   },
   {
    "duration": 1186,
    "start_time": "2024-08-07T20:13:17.940Z"
   },
   {
    "duration": 4,
    "start_time": "2024-08-07T20:13:19.129Z"
   },
   {
    "duration": 4,
    "start_time": "2024-08-07T20:13:19.136Z"
   },
   {
    "duration": 87,
    "start_time": "2024-08-07T20:13:19.144Z"
   },
   {
    "duration": 91,
    "start_time": "2024-08-07T20:13:19.234Z"
   },
   {
    "duration": 97,
    "start_time": "2024-08-07T20:13:19.334Z"
   },
   {
    "duration": 5,
    "start_time": "2024-08-07T20:13:22.483Z"
   },
   {
    "duration": 8753,
    "start_time": "2024-08-07T20:13:23.321Z"
   },
   {
    "duration": 5,
    "start_time": "2024-08-07T20:14:18.299Z"
   },
   {
    "duration": 2215,
    "start_time": "2024-08-07T20:14:18.773Z"
   },
   {
    "duration": 5,
    "start_time": "2024-08-07T20:14:33.198Z"
   },
   {
    "duration": 1953,
    "start_time": "2024-08-07T20:14:33.504Z"
   },
   {
    "duration": 778,
    "start_time": "2024-08-07T20:15:42.184Z"
   },
   {
    "duration": 6,
    "start_time": "2024-08-07T20:18:19.538Z"
   },
   {
    "duration": 420,
    "start_time": "2024-08-07T20:18:34.896Z"
   },
   {
    "duration": 5,
    "start_time": "2024-08-07T20:18:43.077Z"
   },
   {
    "duration": 1084,
    "start_time": "2024-08-07T20:18:43.474Z"
   },
   {
    "duration": 5,
    "start_time": "2024-08-07T20:32:33.296Z"
   },
   {
    "duration": 2259,
    "start_time": "2024-08-07T20:32:34.075Z"
   },
   {
    "duration": 23,
    "start_time": "2024-08-07T20:33:53.723Z"
   },
   {
    "duration": 5,
    "start_time": "2024-08-07T20:34:02.924Z"
   },
   {
    "duration": 2359,
    "start_time": "2024-08-07T20:34:03.555Z"
   },
   {
    "duration": 2294,
    "start_time": "2024-08-07T20:34:06.545Z"
   },
   {
    "duration": 22,
    "start_time": "2024-08-07T20:34:46.041Z"
   },
   {
    "duration": 1612,
    "start_time": "2024-08-07T20:35:08.014Z"
   },
   {
    "duration": 385,
    "start_time": "2024-08-07T20:35:09.631Z"
   },
   {
    "duration": 22,
    "start_time": "2024-08-07T20:35:10.019Z"
   },
   {
    "duration": 44,
    "start_time": "2024-08-07T20:35:10.044Z"
   },
   {
    "duration": 373,
    "start_time": "2024-08-07T20:35:10.093Z"
   },
   {
    "duration": 1778,
    "start_time": "2024-08-07T20:35:10.469Z"
   },
   {
    "duration": 19,
    "start_time": "2024-08-07T20:35:12.250Z"
   },
   {
    "duration": 18,
    "start_time": "2024-08-07T20:35:12.272Z"
   },
   {
    "duration": 44,
    "start_time": "2024-08-07T20:35:12.293Z"
   },
   {
    "duration": 23,
    "start_time": "2024-08-07T20:35:12.339Z"
   },
   {
    "duration": 18,
    "start_time": "2024-08-07T20:35:12.365Z"
   },
   {
    "duration": 44,
    "start_time": "2024-08-07T20:35:12.387Z"
   },
   {
    "duration": 16,
    "start_time": "2024-08-07T20:35:12.434Z"
   },
   {
    "duration": 4,
    "start_time": "2024-08-07T20:35:12.458Z"
   },
   {
    "duration": 4,
    "start_time": "2024-08-07T20:35:12.527Z"
   },
   {
    "duration": 8,
    "start_time": "2024-08-07T20:35:12.534Z"
   },
   {
    "duration": 289,
    "start_time": "2024-08-07T20:35:12.544Z"
   },
   {
    "duration": 299,
    "start_time": "2024-08-07T20:35:12.835Z"
   },
   {
    "duration": 5,
    "start_time": "2024-08-07T20:35:13.137Z"
   },
   {
    "duration": 81,
    "start_time": "2024-08-07T20:35:13.145Z"
   },
   {
    "duration": 7,
    "start_time": "2024-08-07T20:35:13.229Z"
   },
   {
    "duration": 9,
    "start_time": "2024-08-07T20:35:13.239Z"
   },
   {
    "duration": 82,
    "start_time": "2024-08-07T20:35:13.250Z"
   },
   {
    "duration": 5,
    "start_time": "2024-08-07T20:35:13.336Z"
   },
   {
    "duration": 195,
    "start_time": "2024-08-07T20:35:13.344Z"
   },
   {
    "duration": 285,
    "start_time": "2024-08-07T20:35:13.542Z"
   },
   {
    "duration": 215,
    "start_time": "2024-08-07T20:35:13.830Z"
   },
   {
    "duration": 78,
    "start_time": "2024-08-07T20:35:14.048Z"
   },
   {
    "duration": 4,
    "start_time": "2024-08-07T20:35:14.129Z"
   },
   {
    "duration": 4,
    "start_time": "2024-08-07T20:35:14.136Z"
   },
   {
    "duration": 89,
    "start_time": "2024-08-07T20:35:14.143Z"
   },
   {
    "duration": 6,
    "start_time": "2024-08-07T20:35:14.235Z"
   },
   {
    "duration": 1197,
    "start_time": "2024-08-07T20:35:14.244Z"
   },
   {
    "duration": 4,
    "start_time": "2024-08-07T20:35:15.444Z"
   },
   {
    "duration": 6,
    "start_time": "2024-08-07T20:35:15.451Z"
   },
   {
    "duration": 79,
    "start_time": "2024-08-07T20:35:15.460Z"
   },
   {
    "duration": 89,
    "start_time": "2024-08-07T20:35:15.542Z"
   },
   {
    "duration": 103,
    "start_time": "2024-08-07T20:35:15.634Z"
   },
   {
    "duration": 6,
    "start_time": "2024-08-07T20:35:15.740Z"
   },
   {
    "duration": 438,
    "start_time": "2024-08-07T20:35:15.749Z"
   },
   {
    "duration": 0,
    "start_time": "2024-08-07T20:35:16.190Z"
   },
   {
    "duration": 0,
    "start_time": "2024-08-07T20:35:16.192Z"
   },
   {
    "duration": 0,
    "start_time": "2024-08-07T20:35:16.194Z"
   },
   {
    "duration": 0,
    "start_time": "2024-08-07T20:35:16.197Z"
   },
   {
    "duration": 0,
    "start_time": "2024-08-07T20:35:16.200Z"
   },
   {
    "duration": 1,
    "start_time": "2024-08-07T20:35:16.202Z"
   },
   {
    "duration": 0,
    "start_time": "2024-08-07T20:35:16.205Z"
   },
   {
    "duration": 0,
    "start_time": "2024-08-07T20:35:16.226Z"
   },
   {
    "duration": 1197,
    "start_time": "2024-08-07T20:35:34.724Z"
   },
   {
    "duration": 1201,
    "start_time": "2024-08-07T20:36:09.216Z"
   },
   {
    "duration": 22,
    "start_time": "2024-08-07T20:36:17.018Z"
   },
   {
    "duration": 95,
    "start_time": "2024-08-07T20:36:26.101Z"
   },
   {
    "duration": 30617,
    "start_time": "2024-08-07T20:36:31.157Z"
   },
   {
    "duration": 25,
    "start_time": "2024-08-07T20:38:22.179Z"
   },
   {
    "duration": 1661,
    "start_time": "2024-08-09T03:02:37.839Z"
   },
   {
    "duration": 544,
    "start_time": "2024-08-09T03:02:39.506Z"
   },
   {
    "duration": 18,
    "start_time": "2024-08-09T03:02:40.053Z"
   },
   {
    "duration": 59,
    "start_time": "2024-08-09T03:02:40.076Z"
   },
   {
    "duration": 381,
    "start_time": "2024-08-09T03:02:40.184Z"
   },
   {
    "duration": 1675,
    "start_time": "2024-08-09T03:02:40.569Z"
   },
   {
    "duration": 20,
    "start_time": "2024-08-09T03:02:42.248Z"
   },
   {
    "duration": 51,
    "start_time": "2024-08-09T03:02:42.273Z"
   },
   {
    "duration": 17,
    "start_time": "2024-08-09T03:02:42.327Z"
   },
   {
    "duration": 26,
    "start_time": "2024-08-09T03:02:42.535Z"
   },
   {
    "duration": 17,
    "start_time": "2024-08-09T03:02:43.124Z"
   },
   {
    "duration": 12,
    "start_time": "2024-08-09T03:02:43.326Z"
   },
   {
    "duration": 15,
    "start_time": "2024-08-09T03:02:44.123Z"
   },
   {
    "duration": 9,
    "start_time": "2024-08-09T03:02:44.311Z"
   },
   {
    "duration": 5,
    "start_time": "2024-08-09T03:02:44.543Z"
   },
   {
    "duration": 17,
    "start_time": "2024-08-09T03:02:45.310Z"
   },
   {
    "duration": 187,
    "start_time": "2024-08-09T03:02:46.031Z"
   },
   {
    "duration": 225,
    "start_time": "2024-08-09T03:02:46.798Z"
   },
   {
    "duration": 4,
    "start_time": "2024-08-09T03:02:47.823Z"
   },
   {
    "duration": 9,
    "start_time": "2024-08-09T03:02:48.224Z"
   },
   {
    "duration": 5,
    "start_time": "2024-08-09T03:02:48.439Z"
   },
   {
    "duration": 6,
    "start_time": "2024-08-09T03:02:49.653Z"
   },
   {
    "duration": 10,
    "start_time": "2024-08-09T03:02:53.524Z"
   },
   {
    "duration": 9,
    "start_time": "2024-08-09T03:02:54.518Z"
   },
   {
    "duration": 106,
    "start_time": "2024-08-09T03:02:54.734Z"
   },
   {
    "duration": 98,
    "start_time": "2024-08-09T03:02:55.250Z"
   },
   {
    "duration": 146,
    "start_time": "2024-08-09T03:02:56.497Z"
   },
   {
    "duration": 4,
    "start_time": "2024-08-09T03:02:56.880Z"
   },
   {
    "duration": 3,
    "start_time": "2024-08-09T03:02:57.131Z"
   },
   {
    "duration": 3,
    "start_time": "2024-08-09T03:03:03.576Z"
   },
   {
    "duration": 51,
    "start_time": "2024-08-09T03:03:06.059Z"
   },
   {
    "duration": 10,
    "start_time": "2024-08-09T03:03:06.322Z"
   },
   {
    "duration": 1114,
    "start_time": "2024-08-09T03:03:06.830Z"
   },
   {
    "duration": 3,
    "start_time": "2024-08-09T03:03:07.948Z"
   },
   {
    "duration": 5,
    "start_time": "2024-08-09T03:03:08.115Z"
   },
   {
    "duration": 64,
    "start_time": "2024-08-09T03:03:08.352Z"
   },
   {
    "duration": 15,
    "start_time": "2024-08-09T03:03:08.651Z"
   },
   {
    "duration": 27,
    "start_time": "2024-08-09T03:03:08.923Z"
   },
   {
    "duration": 6,
    "start_time": "2024-08-09T03:03:09.860Z"
   },
   {
    "duration": 427,
    "start_time": "2024-08-09T03:03:10.363Z"
   },
   {
    "duration": 2493,
    "start_time": "2024-08-09T03:03:14.777Z"
   },
   {
    "duration": 21,
    "start_time": "2024-08-09T03:08:54.899Z"
   },
   {
    "duration": 2023,
    "start_time": "2024-08-09T03:10:37.180Z"
   },
   {
    "duration": 28,
    "start_time": "2024-08-09T03:15:00.298Z"
   },
   {
    "duration": 7,
    "start_time": "2024-08-09T03:15:02.469Z"
   },
   {
    "duration": 936,
    "start_time": "2024-08-09T03:15:03.427Z"
   },
   {
    "duration": 68,
    "start_time": "2024-08-09T03:15:22.377Z"
   },
   {
    "duration": 7,
    "start_time": "2024-08-09T03:15:54.633Z"
   },
   {
    "duration": 1452,
    "start_time": "2024-08-09T03:15:55.161Z"
   },
   {
    "duration": 8,
    "start_time": "2024-08-09T03:16:22.236Z"
   },
   {
    "duration": 1397,
    "start_time": "2024-08-09T03:16:23.150Z"
   },
   {
    "duration": 5,
    "start_time": "2024-08-09T03:18:17.069Z"
   },
   {
    "duration": 1182,
    "start_time": "2024-08-09T03:18:17.892Z"
   },
   {
    "duration": 6,
    "start_time": "2024-08-09T03:18:32.062Z"
   },
   {
    "duration": 1560,
    "start_time": "2024-08-09T03:18:32.630Z"
   },
   {
    "duration": 1116,
    "start_time": "2024-08-09T03:18:49.760Z"
   },
   {
    "duration": 1365,
    "start_time": "2024-08-09T03:29:00.142Z"
   },
   {
    "duration": 4239,
    "start_time": "2024-08-09T03:29:14.843Z"
   },
   {
    "duration": 5146,
    "start_time": "2024-08-09T04:53:19.257Z"
   },
   {
    "duration": 487,
    "start_time": "2024-08-09T04:53:24.406Z"
   },
   {
    "duration": 16,
    "start_time": "2024-08-09T04:53:24.897Z"
   },
   {
    "duration": 61,
    "start_time": "2024-08-09T04:53:24.915Z"
   },
   {
    "duration": 372,
    "start_time": "2024-08-09T04:53:24.982Z"
   },
   {
    "duration": 1855,
    "start_time": "2024-08-09T04:53:25.357Z"
   },
   {
    "duration": 18,
    "start_time": "2024-08-09T04:53:27.216Z"
   },
   {
    "duration": 17,
    "start_time": "2024-08-09T04:53:27.237Z"
   },
   {
    "duration": 22,
    "start_time": "2024-08-09T04:53:27.257Z"
   },
   {
    "duration": 20,
    "start_time": "2024-08-09T04:53:27.283Z"
   },
   {
    "duration": 17,
    "start_time": "2024-08-09T04:53:27.305Z"
   },
   {
    "duration": 43,
    "start_time": "2024-08-09T04:53:27.324Z"
   },
   {
    "duration": 22,
    "start_time": "2024-08-09T04:53:27.372Z"
   },
   {
    "duration": 4,
    "start_time": "2024-08-09T04:53:27.403Z"
   },
   {
    "duration": 62,
    "start_time": "2024-08-09T04:53:27.410Z"
   },
   {
    "duration": 9,
    "start_time": "2024-08-09T04:53:27.475Z"
   },
   {
    "duration": 284,
    "start_time": "2024-08-09T04:53:27.487Z"
   },
   {
    "duration": 302,
    "start_time": "2024-08-09T04:53:27.774Z"
   },
   {
    "duration": 4,
    "start_time": "2024-08-09T04:53:28.079Z"
   },
   {
    "duration": 6,
    "start_time": "2024-08-09T04:53:28.087Z"
   },
   {
    "duration": 76,
    "start_time": "2024-08-09T04:53:28.096Z"
   },
   {
    "duration": 6,
    "start_time": "2024-08-09T04:53:28.175Z"
   },
   {
    "duration": 6,
    "start_time": "2024-08-09T04:53:28.185Z"
   },
   {
    "duration": 7,
    "start_time": "2024-08-09T04:53:28.269Z"
   },
   {
    "duration": 203,
    "start_time": "2024-08-09T04:53:28.279Z"
   },
   {
    "duration": 283,
    "start_time": "2024-08-09T04:53:28.486Z"
   },
   {
    "duration": 211,
    "start_time": "2024-08-09T04:53:28.774Z"
   },
   {
    "duration": 3,
    "start_time": "2024-08-09T04:53:28.988Z"
   },
   {
    "duration": 4,
    "start_time": "2024-08-09T04:53:29.069Z"
   },
   {
    "duration": 4,
    "start_time": "2024-08-09T04:53:29.077Z"
   },
   {
    "duration": 86,
    "start_time": "2024-08-09T04:53:29.084Z"
   },
   {
    "duration": 11,
    "start_time": "2024-08-09T04:53:29.177Z"
   },
   {
    "duration": 1287,
    "start_time": "2024-08-09T04:53:29.192Z"
   },
   {
    "duration": 3,
    "start_time": "2024-08-09T04:53:30.483Z"
   },
   {
    "duration": 4,
    "start_time": "2024-08-09T04:53:30.490Z"
   },
   {
    "duration": 80,
    "start_time": "2024-08-09T04:53:30.497Z"
   },
   {
    "duration": 89,
    "start_time": "2024-08-09T04:53:30.580Z"
   },
   {
    "duration": 100,
    "start_time": "2024-08-09T04:53:30.672Z"
   },
   {
    "duration": 5,
    "start_time": "2024-08-09T04:53:30.775Z"
   },
   {
    "duration": 2235,
    "start_time": "2024-08-09T04:53:30.783Z"
   },
   {
    "duration": 3,
    "start_time": "2024-08-09T04:53:33.028Z"
   },
   {
    "duration": 4,
    "start_time": "2024-08-09T04:53:33.035Z"
   },
   {
    "duration": 4,
    "start_time": "2024-08-09T04:53:33.069Z"
   },
   {
    "duration": 4,
    "start_time": "2024-08-09T04:53:33.077Z"
   },
   {
    "duration": 4,
    "start_time": "2024-08-09T04:53:33.084Z"
   },
   {
    "duration": 4,
    "start_time": "2024-08-09T04:53:33.091Z"
   },
   {
    "duration": 5,
    "start_time": "2024-08-09T04:53:33.099Z"
   },
   {
    "duration": 10,
    "start_time": "2024-08-09T04:53:36.469Z"
   },
   {
    "duration": 6,
    "start_time": "2024-08-09T04:56:06.900Z"
   },
   {
    "duration": 7,
    "start_time": "2024-08-09T05:02:00.138Z"
   },
   {
    "duration": 6,
    "start_time": "2024-08-09T05:02:06.826Z"
   },
   {
    "duration": 6,
    "start_time": "2024-08-09T05:02:11.329Z"
   },
   {
    "duration": 5,
    "start_time": "2024-08-09T05:02:13.045Z"
   },
   {
    "duration": 1381,
    "start_time": "2024-08-09T05:02:33.664Z"
   },
   {
    "duration": 79,
    "start_time": "2024-08-09T05:02:43.379Z"
   },
   {
    "duration": 88,
    "start_time": "2024-08-09T05:02:58.585Z"
   },
   {
    "duration": 5,
    "start_time": "2024-08-09T05:03:20.068Z"
   },
   {
    "duration": 37,
    "start_time": "2024-08-09T05:03:20.446Z"
   },
   {
    "duration": 17,
    "start_time": "2024-08-09T05:03:21.054Z"
   },
   {
    "duration": 23,
    "start_time": "2024-08-09T05:03:22.278Z"
   },
   {
    "duration": 43,
    "start_time": "2024-08-09T05:03:34.055Z"
   },
   {
    "duration": 7,
    "start_time": "2024-08-09T05:03:42.825Z"
   },
   {
    "duration": 32738,
    "start_time": "2024-08-09T05:03:43.330Z"
   },
   {
    "duration": 17,
    "start_time": "2024-08-09T05:05:02.575Z"
   },
   {
    "duration": 77,
    "start_time": "2024-08-09T05:05:14.939Z"
   },
   {
    "duration": 4,
    "start_time": "2024-08-09T05:05:39.510Z"
   },
   {
    "duration": 7,
    "start_time": "2024-08-09T05:05:43.738Z"
   },
   {
    "duration": 370,
    "start_time": "2024-08-09T05:05:48.023Z"
   },
   {
    "duration": 12,
    "start_time": "2024-08-09T05:05:55.154Z"
   },
   {
    "duration": 143,
    "start_time": "2024-08-09T05:06:16.447Z"
   },
   {
    "duration": 1555,
    "start_time": "2024-08-09T05:06:46.279Z"
   },
   {
    "duration": 4357,
    "start_time": "2024-08-09T05:07:31.850Z"
   },
   {
    "duration": 4519,
    "start_time": "2024-08-09T05:08:14.981Z"
   },
   {
    "duration": 4,
    "start_time": "2024-08-09T05:09:26.794Z"
   },
   {
    "duration": 7,
    "start_time": "2024-08-09T05:09:28.701Z"
   },
   {
    "duration": 4524,
    "start_time": "2024-08-09T05:09:34.278Z"
   },
   {
    "duration": 4,
    "start_time": "2024-08-09T05:10:24.084Z"
   },
   {
    "duration": 27,
    "start_time": "2024-08-09T05:10:24.535Z"
   },
   {
    "duration": 5,
    "start_time": "2024-08-09T05:10:30.985Z"
   },
   {
    "duration": 1094,
    "start_time": "2024-08-09T05:10:31.377Z"
   },
   {
    "duration": 22,
    "start_time": "2024-08-09T05:10:39.913Z"
   },
   {
    "duration": 336,
    "start_time": "2024-08-09T05:10:40.933Z"
   },
   {
    "duration": 1245,
    "start_time": "2024-08-09T05:11:06.683Z"
   },
   {
    "duration": 4024,
    "start_time": "2024-08-09T05:16:27.328Z"
   }
  ],
  "kernelspec": {
   "display_name": "Python 3 (ipykernel)",
   "language": "python",
   "name": "python3"
  },
  "language_info": {
   "codemirror_mode": {
    "name": "ipython",
    "version": 3
   },
   "file_extension": ".py",
   "mimetype": "text/x-python",
   "name": "python",
   "nbconvert_exporter": "python",
   "pygments_lexer": "ipython3",
   "version": "3.11.8"
  },
  "toc": {
   "base_numbering": 1,
   "nav_menu": {},
   "number_sections": true,
   "sideBar": true,
   "skip_h1_title": true,
   "title_cell": "Table of Contents",
   "title_sidebar": "Contents",
   "toc_cell": false,
   "toc_position": {},
   "toc_section_display": true,
   "toc_window_display": false
  }
 },
 "nbformat": 4,
 "nbformat_minor": 2
}
